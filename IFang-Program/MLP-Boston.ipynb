{
 "cells": [
  {
   "cell_type": "code",
   "execution_count": 24,
   "metadata": {},
   "outputs": [],
   "source": [
    "import tensorflow\n",
    "import seaborn as sns\n",
    "import ssl\n",
    "import numpy as np\n",
    "import pandas as pd\n",
    "import tensorflow as tf\n",
    "\n",
    "from tensorflow import keras\n",
    "from sklearn.metrics import r2_score\n",
    "from sklearn.preprocessing import StandardScaler\n",
    "from keras.datasets import boston_housing\n",
    "from tensorflow.keras.layers import Dense"
   ]
  },
  {
   "cell_type": "code",
   "execution_count": 10,
   "metadata": {},
   "outputs": [
    {
     "data": {
      "text/plain": [
       "((array([[1.23247e+00, 0.00000e+00, 8.14000e+00, ..., 2.10000e+01,\n",
       "          3.96900e+02, 1.87200e+01],\n",
       "         [2.17700e-02, 8.25000e+01, 2.03000e+00, ..., 1.47000e+01,\n",
       "          3.95380e+02, 3.11000e+00],\n",
       "         [4.89822e+00, 0.00000e+00, 1.81000e+01, ..., 2.02000e+01,\n",
       "          3.75520e+02, 3.26000e+00],\n",
       "         ...,\n",
       "         [3.46600e-02, 3.50000e+01, 6.06000e+00, ..., 1.69000e+01,\n",
       "          3.62250e+02, 7.83000e+00],\n",
       "         [2.14918e+00, 0.00000e+00, 1.95800e+01, ..., 1.47000e+01,\n",
       "          2.61950e+02, 1.57900e+01],\n",
       "         [1.43900e-02, 6.00000e+01, 2.93000e+00, ..., 1.56000e+01,\n",
       "          3.76700e+02, 4.38000e+00]]),\n",
       "  array([15.2, 42.3, 50. , 21.1, 17.7, 18.5, 11.3, 15.6, 15.6, 14.4, 12.1,\n",
       "         17.9, 23.1, 19.9, 15.7,  8.8, 50. , 22.5, 24.1, 27.5, 10.9, 30.8,\n",
       "         32.9, 24. , 18.5, 13.3, 22.9, 34.7, 16.6, 17.5, 22.3, 16.1, 14.9,\n",
       "         23.1, 34.9, 25. , 13.9, 13.1, 20.4, 20. , 15.2, 24.7, 22.2, 16.7,\n",
       "         12.7, 15.6, 18.4, 21. , 30.1, 15.1, 18.7,  9.6, 31.5, 24.8, 19.1,\n",
       "         22. , 14.5, 11. , 32. , 29.4, 20.3, 24.4, 14.6, 19.5, 14.1, 14.3,\n",
       "         15.6, 10.5,  6.3, 19.3, 19.3, 13.4, 36.4, 17.8, 13.5, 16.5,  8.3,\n",
       "         14.3, 16. , 13.4, 28.6, 43.5, 20.2, 22. , 23. , 20.7, 12.5, 48.5,\n",
       "         14.6, 13.4, 23.7, 50. , 21.7, 39.8, 38.7, 22.2, 34.9, 22.5, 31.1,\n",
       "         28.7, 46. , 41.7, 21. , 26.6, 15. , 24.4, 13.3, 21.2, 11.7, 21.7,\n",
       "         19.4, 50. , 22.8, 19.7, 24.7, 36.2, 14.2, 18.9, 18.3, 20.6, 24.6,\n",
       "         18.2,  8.7, 44. , 10.4, 13.2, 21.2, 37. , 30.7, 22.9, 20. , 19.3,\n",
       "         31.7, 32. , 23.1, 18.8, 10.9, 50. , 19.6,  5. , 14.4, 19.8, 13.8,\n",
       "         19.6, 23.9, 24.5, 25. , 19.9, 17.2, 24.6, 13.5, 26.6, 21.4, 11.9,\n",
       "         22.6, 19.6,  8.5, 23.7, 23.1, 22.4, 20.5, 23.6, 18.4, 35.2, 23.1,\n",
       "         27.9, 20.6, 23.7, 28. , 13.6, 27.1, 23.6, 20.6, 18.2, 21.7, 17.1,\n",
       "          8.4, 25.3, 13.8, 22.2, 18.4, 20.7, 31.6, 30.5, 20.3,  8.8, 19.2,\n",
       "         19.4, 23.1, 23. , 14.8, 48.8, 22.6, 33.4, 21.1, 13.6, 32.2, 13.1,\n",
       "         23.4, 18.9, 23.9, 11.8, 23.3, 22.8, 19.6, 16.7, 13.4, 22.2, 20.4,\n",
       "         21.8, 26.4, 14.9, 24.1, 23.8, 12.3, 29.1, 21. , 19.5, 23.3, 23.8,\n",
       "         17.8, 11.5, 21.7, 19.9, 25. , 33.4, 28.5, 21.4, 24.3, 27.5, 33.1,\n",
       "         16.2, 23.3, 48.3, 22.9, 22.8, 13.1, 12.7, 22.6, 15. , 15.3, 10.5,\n",
       "         24. , 18.5, 21.7, 19.5, 33.2, 23.2,  5. , 19.1, 12.7, 22.3, 10.2,\n",
       "         13.9, 16.3, 17. , 20.1, 29.9, 17.2, 37.3, 45.4, 17.8, 23.2, 29. ,\n",
       "         22. , 18. , 17.4, 34.6, 20.1, 25. , 15.6, 24.8, 28.2, 21.2, 21.4,\n",
       "         23.8, 31. , 26.2, 17.4, 37.9, 17.5, 20. ,  8.3, 23.9,  8.4, 13.8,\n",
       "          7.2, 11.7, 17.1, 21.6, 50. , 16.1, 20.4, 20.6, 21.4, 20.6, 36.5,\n",
       "          8.5, 24.8, 10.8, 21.9, 17.3, 18.9, 36.2, 14.9, 18.2, 33.3, 21.8,\n",
       "         19.7, 31.6, 24.8, 19.4, 22.8,  7.5, 44.8, 16.8, 18.7, 50. , 50. ,\n",
       "         19.5, 20.1, 50. , 17.2, 20.8, 19.3, 41.3, 20.4, 20.5, 13.8, 16.5,\n",
       "         23.9, 20.6, 31.5, 23.3, 16.8, 14. , 33.8, 36.1, 12.8, 18.3, 18.7,\n",
       "         19.1, 29. , 30.1, 50. , 50. , 22. , 11.9, 37.6, 50. , 22.7, 20.8,\n",
       "         23.5, 27.9, 50. , 19.3, 23.9, 22.6, 15.2, 21.7, 19.2, 43.8, 20.3,\n",
       "         33.2, 19.9, 22.5, 32.7, 22. , 17.1, 19. , 15. , 16.1, 25.1, 23.7,\n",
       "         28.7, 37.2, 22.6, 16.4, 25. , 29.8, 22.1, 17.4, 18.1, 30.3, 17.5,\n",
       "         24.7, 12.6, 26.5, 28.7, 13.3, 10.4, 24.4, 23. , 20. , 17.8,  7. ,\n",
       "         11.8, 24.4, 13.8, 19.4, 25.2, 19.4, 19.4, 29.1])),\n",
       " (array([[1.80846e+01, 0.00000e+00, 1.81000e+01, ..., 2.02000e+01,\n",
       "          2.72500e+01, 2.90500e+01],\n",
       "         [1.23290e-01, 0.00000e+00, 1.00100e+01, ..., 1.78000e+01,\n",
       "          3.94950e+02, 1.62100e+01],\n",
       "         [5.49700e-02, 0.00000e+00, 5.19000e+00, ..., 2.02000e+01,\n",
       "          3.96900e+02, 9.74000e+00],\n",
       "         ...,\n",
       "         [1.83377e+00, 0.00000e+00, 1.95800e+01, ..., 1.47000e+01,\n",
       "          3.89610e+02, 1.92000e+00],\n",
       "         [3.58090e-01, 0.00000e+00, 6.20000e+00, ..., 1.74000e+01,\n",
       "          3.91700e+02, 9.71000e+00],\n",
       "         [2.92400e+00, 0.00000e+00, 1.95800e+01, ..., 1.47000e+01,\n",
       "          2.40160e+02, 9.81000e+00]]),\n",
       "  array([ 7.2, 18.8, 19. , 27. , 22.2, 24.5, 31.2, 22.9, 20.5, 23.2, 18.6,\n",
       "         14.5, 17.8, 50. , 20.8, 24.3, 24.2, 19.8, 19.1, 22.7, 12. , 10.2,\n",
       "         20. , 18.5, 20.9, 23. , 27.5, 30.1,  9.5, 22. , 21.2, 14.1, 33.1,\n",
       "         23.4, 20.1,  7.4, 15.4, 23.8, 20.1, 24.5, 33. , 28.4, 14.1, 46.7,\n",
       "         32.5, 29.6, 28.4, 19.8, 20.2, 25. , 35.4, 20.3,  9.7, 14.5, 34.9,\n",
       "         26.6,  7.2, 50. , 32.4, 21.6, 29.8, 13.1, 27.5, 21.2, 23.1, 21.9,\n",
       "         13. , 23.2,  8.1,  5.6, 21.7, 29.6, 19.6,  7. , 26.4, 18.9, 20.9,\n",
       "         28.1, 35.4, 10.2, 24.3, 43.1, 17.6, 15.4, 16.2, 27.1, 21.4, 21.5,\n",
       "         22.4, 25. , 16.6, 18.6, 22. , 42.8, 35.1, 21.5, 36. , 21.9, 24.1,\n",
       "         50. , 26.7, 25. ])))"
      ]
     },
     "execution_count": 10,
     "metadata": {},
     "output_type": "execute_result"
    }
   ],
   "source": [
    "ssl._create_default_https_context = ssl._create_unverified_context\n",
    "tensorflow.keras.datasets.boston_housing.load_data()"
   ]
  },
  {
   "cell_type": "code",
   "execution_count": 11,
   "metadata": {},
   "outputs": [],
   "source": [
    "(x_train,y_train),(x_test,y_test) = tensorflow.keras.datasets.boston_housing.load_data()"
   ]
  },
  {
   "cell_type": "code",
   "execution_count": 12,
   "metadata": {},
   "outputs": [
    {
     "name": "stdout",
     "output_type": "stream",
     "text": [
      "x_train Shape : (404, 13)\n",
      "y_train Shape : (404,)\n"
     ]
    }
   ],
   "source": [
    "print(f\"x_train Shape : {x_train.shape}\")\n",
    "print(f\"y_train Shape : {y_train.shape}\")"
   ]
  },
  {
   "cell_type": "markdown",
   "metadata": {},
   "source": [
    "## Standardization"
   ]
  },
  {
   "cell_type": "code",
   "execution_count": 14,
   "metadata": {},
   "outputs": [],
   "source": [
    "ss = StandardScaler()\n",
    "x_train = ss.fit_transform(x_train)\n",
    "x_test = ss.transform(x_test)"
   ]
  },
  {
   "cell_type": "markdown",
   "metadata": {},
   "source": [
    "## Construct our MLP"
   ]
  },
  {
   "cell_type": "code",
   "execution_count": 15,
   "metadata": {},
   "outputs": [
    {
     "name": "stdout",
     "output_type": "stream",
     "text": [
      "Model: \"sequential\"\n",
      "_________________________________________________________________\n",
      " Layer (type)                Output Shape              Param #   \n",
      "=================================================================\n",
      " dense (Dense)               (None, 64)                896       \n",
      "                                                                 \n",
      " dense_1 (Dense)             (None, 64)                4160      \n",
      "                                                                 \n",
      " dense_2 (Dense)             (None, 1)                 65        \n",
      "                                                                 \n",
      "=================================================================\n",
      "Total params: 5121 (20.00 KB)\n",
      "Trainable params: 5121 (20.00 KB)\n",
      "Non-trainable params: 0 (0.00 Byte)\n",
      "_________________________________________________________________\n"
     ]
    }
   ],
   "source": [
    "model = keras.Sequential()\n",
    "\n",
    "model.add(Dense(64, input_dim=13, activation='relu'))\n",
    "model.add(Dense(64, activation='relu'))\n",
    "model.add(Dense(1))\n",
    "model.summary()"
   ]
  },
  {
   "cell_type": "code",
   "execution_count": 16,
   "metadata": {},
   "outputs": [],
   "source": [
    "model.compile(loss='mse', optimizer='sgd', metrics=['mse','mae'])"
   ]
  },
  {
   "cell_type": "code",
   "execution_count": 17,
   "metadata": {},
   "outputs": [
    {
     "name": "stdout",
     "output_type": "stream",
     "text": [
      "Epoch 1/100\n",
      "13/13 [==============================] - 0s 615us/step - loss: 453.7404 - mse: 453.7404 - mae: 17.9636\n",
      "Epoch 2/100\n",
      "13/13 [==============================] - 0s 489us/step - loss: 242.9050 - mse: 242.9050 - mae: 12.3470\n",
      "Epoch 3/100\n",
      "13/13 [==============================] - 0s 455us/step - loss: 84.0833 - mse: 84.0833 - mae: 6.6977\n",
      "Epoch 4/100\n",
      "13/13 [==============================] - 0s 547us/step - loss: 51.7780 - mse: 51.7780 - mae: 5.1617\n",
      "Epoch 5/100\n",
      "13/13 [==============================] - 0s 2ms/step - loss: 64.3901 - mse: 64.3901 - mae: 5.8846\n",
      "Epoch 6/100\n",
      "13/13 [==============================] - 0s 1ms/step - loss: 27.8629 - mse: 27.8629 - mae: 3.7279\n",
      "Epoch 7/100\n",
      "13/13 [==============================] - 0s 462us/step - loss: 22.7638 - mse: 22.7638 - mae: 3.4244\n",
      "Epoch 8/100\n",
      "13/13 [==============================] - 0s 485us/step - loss: 24.3040 - mse: 24.3040 - mae: 3.2366\n",
      "Epoch 9/100\n",
      "13/13 [==============================] - 0s 377us/step - loss: 63.2774 - mse: 63.2774 - mae: 5.3410\n",
      "Epoch 10/100\n",
      "13/13 [==============================] - 0s 386us/step - loss: 17.9197 - mse: 17.9197 - mae: 3.0030\n",
      "Epoch 11/100\n",
      "13/13 [==============================] - 0s 516us/step - loss: 17.3800 - mse: 17.3800 - mae: 3.0237\n",
      "Epoch 12/100\n",
      "13/13 [==============================] - 0s 414us/step - loss: 20.3771 - mse: 20.3771 - mae: 3.2838\n",
      "Epoch 13/100\n",
      "13/13 [==============================] - 0s 433us/step - loss: 19.6250 - mse: 19.6250 - mae: 3.0123\n",
      "Epoch 14/100\n",
      "13/13 [==============================] - 0s 403us/step - loss: 11.5402 - mse: 11.5402 - mae: 2.3593\n",
      "Epoch 15/100\n",
      "13/13 [==============================] - 0s 377us/step - loss: 13.6544 - mse: 13.6544 - mae: 2.6225\n",
      "Epoch 16/100\n",
      "13/13 [==============================] - 0s 428us/step - loss: 28.7706 - mse: 28.7706 - mae: 3.6092\n",
      "Epoch 17/100\n",
      "13/13 [==============================] - 0s 382us/step - loss: 10.8289 - mse: 10.8289 - mae: 2.3082\n",
      "Epoch 18/100\n",
      "13/13 [==============================] - 0s 373us/step - loss: 9.1435 - mse: 9.1435 - mae: 2.2379\n",
      "Epoch 19/100\n",
      "13/13 [==============================] - 0s 434us/step - loss: 12.3544 - mse: 12.3544 - mae: 2.5157\n",
      "Epoch 20/100\n",
      "13/13 [==============================] - 0s 392us/step - loss: 9.1945 - mse: 9.1945 - mae: 2.1789\n",
      "Epoch 21/100\n",
      "13/13 [==============================] - 0s 395us/step - loss: 13.1650 - mse: 13.1650 - mae: 2.6121\n",
      "Epoch 22/100\n",
      "13/13 [==============================] - 0s 382us/step - loss: 12.7308 - mse: 12.7308 - mae: 2.5539\n",
      "Epoch 23/100\n",
      "13/13 [==============================] - 0s 380us/step - loss: 7.5877 - mse: 7.5877 - mae: 2.0064\n",
      "Epoch 24/100\n",
      "13/13 [==============================] - 0s 415us/step - loss: 15.8137 - mse: 15.8137 - mae: 2.7947\n",
      "Epoch 25/100\n",
      "13/13 [==============================] - 0s 384us/step - loss: 10.8728 - mse: 10.8728 - mae: 2.3470\n",
      "Epoch 26/100\n",
      "13/13 [==============================] - 0s 411us/step - loss: 9.9040 - mse: 9.9040 - mae: 2.2614\n",
      "Epoch 27/100\n",
      "13/13 [==============================] - 0s 395us/step - loss: 13.2541 - mse: 13.2541 - mae: 2.5401\n",
      "Epoch 28/100\n",
      "13/13 [==============================] - 0s 379us/step - loss: 10.2853 - mse: 10.2853 - mae: 2.3634\n",
      "Epoch 29/100\n",
      "13/13 [==============================] - 0s 402us/step - loss: 8.8855 - mse: 8.8855 - mae: 2.1379\n",
      "Epoch 30/100\n",
      "13/13 [==============================] - 0s 386us/step - loss: 8.8214 - mse: 8.8214 - mae: 2.1149\n",
      "Epoch 31/100\n",
      "13/13 [==============================] - 0s 399us/step - loss: 6.9574 - mse: 6.9574 - mae: 1.9250\n",
      "Epoch 32/100\n",
      "13/13 [==============================] - 0s 391us/step - loss: 6.9903 - mse: 6.9903 - mae: 1.9289\n",
      "Epoch 33/100\n",
      "13/13 [==============================] - 0s 383us/step - loss: 6.8657 - mse: 6.8657 - mae: 1.9327\n",
      "Epoch 34/100\n",
      "13/13 [==============================] - 0s 376us/step - loss: 8.3992 - mse: 8.3992 - mae: 2.0967\n",
      "Epoch 35/100\n",
      "13/13 [==============================] - 0s 397us/step - loss: 6.2816 - mse: 6.2816 - mae: 1.8750\n",
      "Epoch 36/100\n",
      "13/13 [==============================] - 0s 368us/step - loss: 6.2550 - mse: 6.2550 - mae: 1.8099\n",
      "Epoch 37/100\n",
      "13/13 [==============================] - 0s 2ms/step - loss: 6.0352 - mse: 6.0352 - mae: 1.7801\n",
      "Epoch 38/100\n",
      "13/13 [==============================] - 0s 982us/step - loss: 5.9605 - mse: 5.9605 - mae: 1.7975\n",
      "Epoch 39/100\n",
      "13/13 [==============================] - 0s 401us/step - loss: 11.6181 - mse: 11.6181 - mae: 2.4433\n",
      "Epoch 40/100\n",
      "13/13 [==============================] - 0s 397us/step - loss: 7.1658 - mse: 7.1658 - mae: 1.8909\n",
      "Epoch 41/100\n",
      "13/13 [==============================] - 0s 417us/step - loss: 6.0586 - mse: 6.0586 - mae: 1.7882\n",
      "Epoch 42/100\n",
      "13/13 [==============================] - 0s 399us/step - loss: 8.8641 - mse: 8.8641 - mae: 2.1272\n",
      "Epoch 43/100\n",
      "13/13 [==============================] - 0s 413us/step - loss: 8.4168 - mse: 8.4168 - mae: 2.0792\n",
      "Epoch 44/100\n",
      "13/13 [==============================] - 0s 383us/step - loss: 7.2277 - mse: 7.2277 - mae: 2.0065\n",
      "Epoch 45/100\n",
      "13/13 [==============================] - 0s 384us/step - loss: 6.5947 - mse: 6.5947 - mae: 1.8537\n",
      "Epoch 46/100\n",
      "13/13 [==============================] - 0s 424us/step - loss: 6.7136 - mse: 6.7136 - mae: 1.9265\n",
      "Epoch 47/100\n",
      "13/13 [==============================] - 0s 412us/step - loss: 6.2992 - mse: 6.2992 - mae: 1.7844\n",
      "Epoch 48/100\n",
      "13/13 [==============================] - 0s 416us/step - loss: 10.6384 - mse: 10.6384 - mae: 2.3121\n",
      "Epoch 49/100\n",
      "13/13 [==============================] - 0s 409us/step - loss: 14.4787 - mse: 14.4787 - mae: 2.5595\n",
      "Epoch 50/100\n",
      "13/13 [==============================] - 0s 380us/step - loss: 6.5717 - mse: 6.5717 - mae: 1.9019\n",
      "Epoch 51/100\n",
      "13/13 [==============================] - 0s 488us/step - loss: 6.0881 - mse: 6.0881 - mae: 1.8087\n",
      "Epoch 52/100\n",
      "13/13 [==============================] - 0s 380us/step - loss: 7.4873 - mse: 7.4873 - mae: 1.9705\n",
      "Epoch 53/100\n",
      "13/13 [==============================] - 0s 466us/step - loss: 5.1974 - mse: 5.1974 - mae: 1.6558\n",
      "Epoch 54/100\n",
      "13/13 [==============================] - 0s 386us/step - loss: 8.1548 - mse: 8.1548 - mae: 2.1440\n",
      "Epoch 55/100\n",
      "13/13 [==============================] - 0s 374us/step - loss: 6.3145 - mse: 6.3145 - mae: 1.8000\n",
      "Epoch 56/100\n",
      "13/13 [==============================] - 0s 430us/step - loss: 8.3240 - mse: 8.3240 - mae: 2.0266\n",
      "Epoch 57/100\n",
      "13/13 [==============================] - 0s 861us/step - loss: 5.9646 - mse: 5.9646 - mae: 1.8222\n",
      "Epoch 58/100\n",
      "13/13 [==============================] - 0s 669us/step - loss: 6.1638 - mse: 6.1638 - mae: 1.8084\n",
      "Epoch 59/100\n",
      "13/13 [==============================] - 0s 502us/step - loss: 7.3512 - mse: 7.3512 - mae: 1.9472\n",
      "Epoch 60/100\n",
      "13/13 [==============================] - 0s 401us/step - loss: 7.1945 - mse: 7.1945 - mae: 1.8546\n",
      "Epoch 61/100\n",
      "13/13 [==============================] - 0s 419us/step - loss: 4.6942 - mse: 4.6942 - mae: 1.6114\n",
      "Epoch 62/100\n",
      "13/13 [==============================] - 0s 403us/step - loss: 7.3398 - mse: 7.3398 - mae: 1.9461\n",
      "Epoch 63/100\n",
      "13/13 [==============================] - 0s 383us/step - loss: 4.8572 - mse: 4.8572 - mae: 1.5838\n",
      "Epoch 64/100\n",
      "13/13 [==============================] - 0s 421us/step - loss: 5.0624 - mse: 5.0624 - mae: 1.6848\n",
      "Epoch 65/100\n",
      "13/13 [==============================] - 0s 389us/step - loss: 4.5766 - mse: 4.5766 - mae: 1.5836\n",
      "Epoch 66/100\n",
      "13/13 [==============================] - 0s 383us/step - loss: 5.3155 - mse: 5.3155 - mae: 1.6941\n",
      "Epoch 67/100\n",
      "13/13 [==============================] - 0s 2ms/step - loss: 5.1791 - mse: 5.1791 - mae: 1.6986\n",
      "Epoch 68/100\n",
      "13/13 [==============================] - 0s 756us/step - loss: 5.3464 - mse: 5.3464 - mae: 1.6902\n",
      "Epoch 69/100\n",
      "13/13 [==============================] - 0s 483us/step - loss: 5.2106 - mse: 5.2106 - mae: 1.7103\n",
      "Epoch 70/100\n",
      "13/13 [==============================] - 0s 422us/step - loss: 4.9765 - mse: 4.9765 - mae: 1.6089\n",
      "Epoch 71/100\n",
      "13/13 [==============================] - 0s 401us/step - loss: 5.5932 - mse: 5.5932 - mae: 1.7720\n",
      "Epoch 72/100\n",
      "13/13 [==============================] - 0s 404us/step - loss: 4.5847 - mse: 4.5847 - mae: 1.6166\n",
      "Epoch 73/100\n",
      "13/13 [==============================] - 0s 412us/step - loss: 4.9134 - mse: 4.9134 - mae: 1.5893\n",
      "Epoch 74/100\n",
      "13/13 [==============================] - 0s 396us/step - loss: 4.6123 - mse: 4.6123 - mae: 1.5920\n",
      "Epoch 75/100\n",
      "13/13 [==============================] - 0s 404us/step - loss: 11.0081 - mse: 11.0081 - mae: 2.2076\n",
      "Epoch 76/100\n",
      "13/13 [==============================] - 0s 389us/step - loss: 5.8155 - mse: 5.8155 - mae: 1.7960\n",
      "Epoch 77/100\n",
      "13/13 [==============================] - 0s 391us/step - loss: 4.7207 - mse: 4.7207 - mae: 1.6139\n",
      "Epoch 78/100\n",
      "13/13 [==============================] - 0s 435us/step - loss: 4.4132 - mse: 4.4132 - mae: 1.5529\n",
      "Epoch 79/100\n",
      "13/13 [==============================] - 0s 388us/step - loss: 5.3454 - mse: 5.3454 - mae: 1.6894\n",
      "Epoch 80/100\n",
      "13/13 [==============================] - 0s 385us/step - loss: 4.7165 - mse: 4.7165 - mae: 1.6146\n",
      "Epoch 81/100\n",
      "13/13 [==============================] - 0s 430us/step - loss: 5.6736 - mse: 5.6736 - mae: 1.7168\n",
      "Epoch 82/100\n",
      "13/13 [==============================] - 0s 396us/step - loss: 3.5933 - mse: 3.5933 - mae: 1.4332\n",
      "Epoch 83/100\n",
      "13/13 [==============================] - 0s 404us/step - loss: 4.5554 - mse: 4.5554 - mae: 1.5838\n",
      "Epoch 84/100\n",
      "13/13 [==============================] - 0s 410us/step - loss: 4.0765 - mse: 4.0765 - mae: 1.5211\n",
      "Epoch 85/100\n",
      "13/13 [==============================] - 0s 369us/step - loss: 4.2025 - mse: 4.2025 - mae: 1.5076\n",
      "Epoch 86/100\n",
      "13/13 [==============================] - 0s 443us/step - loss: 5.5244 - mse: 5.5244 - mae: 1.6994\n",
      "Epoch 87/100\n",
      "13/13 [==============================] - 0s 380us/step - loss: 3.7280 - mse: 3.7280 - mae: 1.4232\n",
      "Epoch 88/100\n",
      "13/13 [==============================] - 0s 377us/step - loss: 4.7181 - mse: 4.7181 - mae: 1.6136\n",
      "Epoch 89/100\n",
      "13/13 [==============================] - 0s 400us/step - loss: 5.0358 - mse: 5.0358 - mae: 1.6322\n",
      "Epoch 90/100\n",
      "13/13 [==============================] - 0s 405us/step - loss: 4.2802 - mse: 4.2802 - mae: 1.5540\n",
      "Epoch 91/100\n",
      "13/13 [==============================] - 0s 418us/step - loss: 4.8569 - mse: 4.8569 - mae: 1.6491\n",
      "Epoch 92/100\n",
      "13/13 [==============================] - 0s 407us/step - loss: 4.1562 - mse: 4.1562 - mae: 1.4575\n",
      "Epoch 93/100\n",
      "13/13 [==============================] - 0s 383us/step - loss: 4.8194 - mse: 4.8194 - mae: 1.6178\n",
      "Epoch 94/100\n",
      "13/13 [==============================] - 0s 474us/step - loss: 3.9794 - mse: 3.9794 - mae: 1.4774\n",
      "Epoch 95/100\n",
      "13/13 [==============================] - 0s 2ms/step - loss: 4.4060 - mse: 4.4060 - mae: 1.4822\n",
      "Epoch 96/100\n",
      "13/13 [==============================] - 0s 558us/step - loss: 4.3073 - mse: 4.3073 - mae: 1.5256\n",
      "Epoch 97/100\n",
      "13/13 [==============================] - 0s 723us/step - loss: 3.4239 - mse: 3.4239 - mae: 1.3693\n",
      "Epoch 98/100\n",
      "13/13 [==============================] - 0s 481us/step - loss: 3.1558 - mse: 3.1558 - mae: 1.3376\n",
      "Epoch 99/100\n",
      "13/13 [==============================] - 0s 427us/step - loss: 5.0729 - mse: 5.0729 - mae: 1.6789\n",
      "Epoch 100/100\n",
      "13/13 [==============================] - 0s 379us/step - loss: 3.9364 - mse: 3.9364 - mae: 1.4303\n"
     ]
    }
   ],
   "source": [
    "h = model.fit(x_train,y_train, epochs=100)"
   ]
  },
  {
   "cell_type": "code",
   "execution_count": 19,
   "metadata": {},
   "outputs": [
    {
     "data": {
      "text/plain": [
       "<Axes: >"
      ]
     },
     "execution_count": 19,
     "metadata": {},
     "output_type": "execute_result"
    },
    {
     "data": {
      "image/png": "[encoded data removed]",
      "text/plain": [
       "<Figure size 640x480 with 1 Axes>"
      ]
     },
     "metadata": {},
     "output_type": "display_data"
    }
   ],
   "source": [
    "sns.lineplot(x=range(100), y=h.history['loss'])"
   ]
  },
  {
   "cell_type": "code",
   "execution_count": 21,
   "metadata": {},
   "outputs": [
    {
     "data": {
      "text/plain": [
       "<Axes: ylabel='mse'>"
      ]
     },
     "execution_count": 21,
     "metadata": {},
     "output_type": "execute_result"
    },
    {
     "data": {
      "image/png": "[encoded data removed]",
      "text/plain": [
       "<Figure size 640x480 with 1 Axes>"
      ]
     },
     "metadata": {},
     "output_type": "display_data"
    }
   ],
   "source": [
    "dfResult = pd.DataFrame(h.history)\n",
    "sns.lineplot(x=range(100), y=dfResult.mse)"
   ]
  },
  {
   "cell_type": "markdown",
   "metadata": {},
   "source": [
    "## prediction"
   ]
  },
  {
   "cell_type": "code",
   "execution_count": 22,
   "metadata": {},
   "outputs": [
    {
     "name": "stdout",
     "output_type": "stream",
     "text": [
      "4/4 [==============================] - 0s 817us/step - loss: 20.5434 - mse: 20.5434 - mae: 2.9647\n"
     ]
    }
   ],
   "source": [
    "eloss, emse, emae = model.evaluate(x_test,y_test)"
   ]
  },
  {
   "cell_type": "code",
   "execution_count": 23,
   "metadata": {},
   "outputs": [
    {
     "name": "stdout",
     "output_type": "stream",
     "text": [
      "Loss:20.543\n",
      "MSE:20.543\n",
      "MAE:2.965\n"
     ]
    }
   ],
   "source": [
    "print(f'Loss:{eloss:.3f}')\n",
    "print(f'MSE:{emse:.3f}')\n",
    "print(f'MAE:{emae:.3f}')"
   ]
  },
  {
   "cell_type": "code",
   "execution_count": 25,
   "metadata": {},
   "outputs": [
    {
     "name": "stdout",
     "output_type": "stream",
     "text": [
      "4/4 [==============================] - 0s 573us/step\n",
      "DNN regression：the R squared value on the testing set is 0.753214534989335\n"
     ]
    }
   ],
   "source": [
    "y_pred = model.predict(x_test)\n",
    "r2s = r2_score(y_test, y_pred)\n",
    "print(f\"DNN regression：the R squared value on the testing set is {r2s}\")"
   ]
  },
  {
   "cell_type": "code",
   "execution_count": 27,
   "metadata": {},
   "outputs": [
    {
     "name": "stdout",
     "output_type": "stream",
     "text": [
      "4/4 [==============================] - 0s 944us/step\n"
     ]
    },
    {
     "data": {
      "text/plain": [
       "array([[ 9.587058],\n",
       "       [17.108221],\n",
       "       [19.599007],\n",
       "       [36.739037],\n",
       "       [22.164833],\n",
       "       [22.719765],\n",
       "       [27.47257 ],\n",
       "       [20.973957],\n",
       "       [18.535658],\n",
       "       [20.851742]], dtype=float32)"
      ]
     },
     "execution_count": 27,
     "metadata": {},
     "output_type": "execute_result"
    }
   ],
   "source": [
    "y=pred=model.predict(x_test)\n",
    "y_pred[:10]"
   ]
  },
  {
   "cell_type": "code",
   "execution_count": 28,
   "metadata": {},
   "outputs": [
    {
     "data": {
      "text/plain": [
       "array([ 7.2, 18.8, 19. , 27. , 22.2, 24.5, 31.2, 22.9, 20.5, 23.2])"
      ]
     },
     "execution_count": 28,
     "metadata": {},
     "output_type": "execute_result"
    }
   ],
   "source": [
    "y_test[:10]"
   ]
  }
 ],
 "metadata": {
  "kernelspec": {
   "display_name": "Python 3",
   "language": "python",
   "name": "python3"
  },
  "language_info": {
   "codemirror_mode": {
    "name": "ipython",
    "version": 3
   },
   "file_extension": ".py",
   "mimetype": "text/x-python",
   "name": "python",
   "nbconvert_exporter": "python",
   "pygments_lexer": "ipython3",
   "version": "3.11.5"
  }
 },
 "nbformat": 4,
 "nbformat_minor": 2
}
