{
 "cells": [
  {
   "cell_type": "code",
   "execution_count": 10,
   "metadata": {},
   "outputs": [],
   "source": [
    "import tensorflow as tf\n",
    "import numpy as np\n",
    "import matplotlib.pyplot as plt\n",
    "import seaborn as sns\n",
    "\n",
    "from tensorflow import keras\n",
    "from tensorflow.keras.layers import Dense, Conv2D, MaxPooling2D,Flatten, Activation, BatchNormalization, Flatten, Dropout\n",
    "from tensorflow.keras.utils import to_categorical\n",
    "from tensorflow.keras.regularizers import l2\n",
    "from tensorflow.keras.models import Sequential\n",
    "from tensorflow.keras.datasets import mnist, cifar10 # 灰階圖資"
   ]
  },
  {
   "cell_type": "code",
   "execution_count": 2,
   "metadata": {},
   "outputs": [],
   "source": [
    "# global setting\n",
    "EPOCHS = 30\n",
    "IMG_SHAPE =(32,32,3)\n",
    "CLS = 10\n",
    "BSIZE = 256\n",
    "LEARN_RATE = 0.001\n",
    "L2 = 0.005"
   ]
  },
  {
   "cell_type": "code",
   "execution_count": 3,
   "metadata": {},
   "outputs": [],
   "source": [
    "path = 'mnist.npz'\n",
    "with np.load(path, allow_pickle=True) as f:\n",
    "    x_train, y_train = f['x_train'], f['y_train']\n",
    "    x_test, y_test = f['x_test'], f['y_test']"
   ]
  },
  {
   "cell_type": "code",
   "execution_count": 4,
   "metadata": {},
   "outputs": [
    {
     "name": "stdout",
     "output_type": "stream",
     "text": [
      "(60000, 28, 28, 1) (10000, 28, 28, 1)\n"
     ]
    }
   ],
   "source": [
    "# Translation of data  \n",
    "x_train = x_train.reshape(x_train.shape[0], 28, 28, 1).astype('float32')  \n",
    "x_test = x_test.reshape(x_test.shape[0], 28, 28, 1).astype('float32')\n",
    "# Standardize feature data  \n",
    "x_train = x_train / 255  \n",
    "x_test = x_test /255  \n",
    "\n",
    "print(x_train.shape, x_test.shape)"
   ]
  },
  {
   "cell_type": "code",
   "execution_count": 5,
   "metadata": {},
   "outputs": [],
   "source": [
    "# # Standardization\n",
    "# x_train = x_train.astype('float') / 255.0\n",
    "# x_test = x_test.astype('float')  / 255.0\n",
    "\n",
    "# # 將二維的 28*28 的資料拉直 變成 784  (reshape)\n",
    "# print(f'Before reshape {x_train.shape}')\n",
    "# x_train = x_train.reshape(60000,28*28)\n",
    "# print(f'After reshape {x_train.shape}')\n",
    "# x_test=x_test.reshape(x_test.shape[0],-1) # -1 請 python 幫你計算 I don't care\n",
    "# print(f'After reshape {x_test.shape}')"
   ]
  },
  {
   "cell_type": "code",
   "execution_count": 6,
   "metadata": {},
   "outputs": [],
   "source": [
    "y_train = to_categorical(y_train,10)\n",
    "y_test = to_categorical(y_test,10)\n"
   ]
  },
  {
   "cell_type": "code",
   "execution_count": 7,
   "metadata": {},
   "outputs": [
    {
     "name": "stdout",
     "output_type": "stream",
     "text": [
      "Model: \"sequential\"\n",
      "_________________________________________________________________\n",
      " Layer (type)                Output Shape              Param #   \n",
      "=================================================================\n",
      " conv2d (Conv2D)             (None, 28, 28, 16)        160       \n",
      "                                                                 \n",
      " max_pooling2d (MaxPooling2  (None, 14, 14, 16)        0         \n",
      " D)                                                              \n",
      "                                                                 \n",
      " conv2d_1 (Conv2D)           (None, 14, 14, 32)        4640      \n",
      "                                                                 \n",
      " max_pooling2d_1 (MaxPoolin  (None, 7, 7, 32)          0         \n",
      " g2D)                                                            \n",
      "                                                                 \n",
      " flatten (Flatten)           (None, 1568)              0         \n",
      "                                                                 \n",
      " dense (Dense)               (None, 128)               200832    \n",
      "                                                                 \n",
      " dense_1 (Dense)             (None, 10)                1290      \n",
      "                                                                 \n",
      "=================================================================\n",
      "Total params: 206922 (808.29 KB)\n",
      "Trainable params: 206922 (808.29 KB)\n",
      "Non-trainable params: 0 (0.00 Byte)\n",
      "_________________________________________________________________\n"
     ]
    }
   ],
   "source": [
    "model2 = Sequential()\n",
    "\n",
    "# 第一層捲積\n",
    "model2.add(Conv2D(filters =16, \n",
    "                  kernel_size=(3,3),\n",
    "                  padding = 'same', \n",
    "                  input_shape=(28,28,1), \n",
    "                  activation='relu'))\n",
    "\n",
    "# 第一層pooling\n",
    "model2.add(MaxPooling2D(pool_size=(2,2)))\n",
    "\n",
    "# 第二層捲積\n",
    "model2.add(Conv2D(filters =32,\n",
    "                  kernel_size=(3,3),\n",
    "                  padding='same',  \n",
    "                  input_shape=(28,28,1),  \n",
    "                  activation='relu'))\n",
    "\n",
    "# 第二層pooling\n",
    "model2.add(MaxPooling2D(pool_size=(2,2)))\n",
    "\n",
    "# Flattern\n",
    "model2.add(Flatten())\n",
    "\n",
    "# DNN\n",
    "model2.add(Dense(128, activation='relu'))\n",
    "\n",
    "# add output layer , since its a multiclassification , we use softmax\n",
    "model2.add(Dense(10, activation='softmax'))\n",
    "model2.summary()"
   ]
  },
  {
   "cell_type": "code",
   "execution_count": 8,
   "metadata": {},
   "outputs": [
    {
     "name": "stdout",
     "output_type": "stream",
     "text": [
      "Epoch 1/15\n",
      "200/200 [==============================] - 4s 22ms/step - loss: 0.3838 - accuracy: 0.8913\n",
      "Epoch 2/15\n",
      "200/200 [==============================] - 5s 23ms/step - loss: 0.0866 - accuracy: 0.9743\n",
      "Epoch 3/15\n",
      "200/200 [==============================] - 5s 24ms/step - loss: 0.0594 - accuracy: 0.9820\n",
      "Epoch 4/15\n",
      "200/200 [==============================] - 6s 29ms/step - loss: 0.0459 - accuracy: 0.9859\n",
      "Epoch 5/15\n",
      "200/200 [==============================] - 5s 26ms/step - loss: 0.0382 - accuracy: 0.9880\n",
      "Epoch 6/15\n",
      "200/200 [==============================] - 5s 24ms/step - loss: 0.0302 - accuracy: 0.9911\n",
      "Epoch 7/15\n",
      "200/200 [==============================] - 5s 23ms/step - loss: 0.0258 - accuracy: 0.9921\n",
      "Epoch 8/15\n",
      "200/200 [==============================] - 5s 24ms/step - loss: 0.0223 - accuracy: 0.9932\n",
      "Epoch 9/15\n",
      "200/200 [==============================] - 5s 24ms/step - loss: 0.0186 - accuracy: 0.9942\n",
      "Epoch 10/15\n",
      "200/200 [==============================] - 5s 26ms/step - loss: 0.0151 - accuracy: 0.9954\n",
      "Epoch 11/15\n",
      "200/200 [==============================] - 5s 23ms/step - loss: 0.0137 - accuracy: 0.9959\n",
      "Epoch 12/15\n",
      "200/200 [==============================] - 5s 24ms/step - loss: 0.0137 - accuracy: 0.9955\n",
      "Epoch 13/15\n",
      "200/200 [==============================] - 5s 25ms/step - loss: 0.0109 - accuracy: 0.9967\n",
      "Epoch 14/15\n",
      "200/200 [==============================] - 6s 28ms/step - loss: 0.0084 - accuracy: 0.9975\n",
      "Epoch 15/15\n",
      "200/200 [==============================] - 5s 24ms/step - loss: 0.0074 - accuracy: 0.9980\n"
     ]
    }
   ],
   "source": [
    "# compile\n",
    "model2.compile(loss='categorical_crossentropy', optimizer='adam', metrics=['accuracy'])\n",
    "h2 = model2.fit(x_train, y_train, batch_size = 300, epochs=15)"
   ]
  },
  {
   "cell_type": "code",
   "execution_count": 12,
   "metadata": {},
   "outputs": [
    {
     "data": {
      "text/plain": [
       "<Axes: >"
      ]
     },
     "execution_count": 12,
     "metadata": {},
     "output_type": "execute_result"
    },
    {
     "data": {
      "image/png": "[encoded data removed]",
      "text/plain": [
       "<Figure size 3000x500 with 1 Axes>"
      ]
     },
     "metadata": {},
     "output_type": "display_data"
    }
   ],
   "source": [
    "plt.figure(figsize=(30,5))\n",
    "\n",
    "sns.lineplot(x=range(15), y=h2.history['loss'], label='train_loss')"
   ]
  }
 ],
 "metadata": {
  "kernelspec": {
   "display_name": "Python 3",
   "language": "python",
   "name": "python3"
  },
  "language_info": {
   "codemirror_mode": {
    "name": "ipython",
    "version": 3
   },
   "file_extension": ".py",
   "mimetype": "text/x-python",
   "name": "python",
   "nbconvert_exporter": "python",
   "pygments_lexer": "ipython3",
   "version": "3.11.5"
  }
 },
 "nbformat": 4,
 "nbformat_minor": 2
}
