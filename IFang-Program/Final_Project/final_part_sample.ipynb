{
 "cells": [
  {
   "cell_type": "code",
   "execution_count": 1,
   "metadata": {},
   "outputs": [
    {
     "name": "stderr",
     "output_type": "stream",
     "text": [
      "2024-05-21 15:42:42.154756: E external/local_xla/xla/stream_executor/cuda/cuda_dnn.cc:9373] Unable to register cuDNN factory: Attempting to register factory for plugin cuDNN when one has already been registered\n",
      "2024-05-21 15:42:42.154800: E external/local_xla/xla/stream_executor/cuda/cuda_fft.cc:607] Unable to register cuFFT factory: Attempting to register factory for plugin cuFFT when one has already been registered\n",
      "2024-05-21 15:42:42.156313: E external/local_xla/xla/stream_executor/cuda/cuda_blas.cc:1534] Unable to register cuBLAS factory: Attempting to register factory for plugin cuBLAS when one has already been registered\n",
      "2024-05-21 15:42:42.164318: I tensorflow/core/platform/cpu_feature_guard.cc:183] This TensorFlow binary is optimized to use available CPU instructions in performance-critical operations.\n",
      "To enable the following instructions: SSE3 SSE4.1 SSE4.2 AVX, in other operations, rebuild TensorFlow with the appropriate compiler flags.\n"
     ]
    },
    {
     "name": "stdout",
     "output_type": "stream",
     "text": [
      "Using TensorFlow backend\n"
     ]
    },
    {
     "name": "stderr",
     "output_type": "stream",
     "text": [
      "2024-05-21 15:42:54.939072: I tensorflow/core/common_runtime/gpu/gpu_device.cc:1926] Created device /job:localhost/replica:0/task:0/device:GPU:0 with 31136 MB memory:  -> device: 0, name: Tesla V100-SXM2-32GB, pci bus id: 0000:db:00.0, compute capability: 7.0\n"
     ]
    }
   ],
   "source": [
    "import pandas as pd\n",
    "import numpy as np\n",
    "import os\n",
    "import matplotlib.pyplot as plt\n",
    "import seaborn as sns\n",
    "import tensorflow as tf\n",
    "import tensorflow_datasets as tfds\n",
    "import keras\n",
    "import keras_cv as kcv\n",
    "import wandb\n",
    "from wandb.integration.keras import WandbMetricsLogger, WandbCallback, WandbModelCheckpoint, WandbEvalCallback\n",
    "from keras.layers import Dense, Flatten, Conv2D, MaxPooling2D, Dropout, GlobalAveragePooling2D\n",
    "from keras.models import Sequential\n",
    "from keras.layers import BatchNormalization, Input\n",
    "from keras.applications import VGG16\n",
    "from keras import Model\n",
    "from keras.utils import to_categorical\n",
    "from keras.utils import image_dataset_from_directory\n",
    "from keras.applications import EfficientNetB0, ResNet50V2, ConvNeXtBase\n",
    "from keras.losses import CategoricalCrossentropy\n",
    "from keras.optimizers import RMSprop, AdamW\n",
    "from sklearn.model_selection import train_test_split\n",
    "from sklearn.preprocessing import LabelEncoder\n",
    "from imblearn.over_sampling import RandomOverSampler\n",
    "from imblearn.under_sampling import RandomUnderSampler\n",
    "from sklearn.metrics import accuracy_score, f1_score, recall_score, precision_score\n",
    "from keras.callbacks import Callback\n",
    "from collections import Counter\n",
    "from sklearn.utils import class_weight\n",
    "\n",
    "rand_augment = kcv.layers.RandAugment(\n",
    "    value_range=(0, 255),\n",
    "    augmentations_per_image=3,\n",
    "    magnitude=0.3,\n",
    "    magnitude_stddev=0.2,\n",
    "    geometric=True,\n",
    "    rate=0.7,\n",
    "    )\n",
    "\n",
    "cut_mix = kcv.layers.CutMix()\n",
    "mix_up = kcv.layers.MixUp()\n",
    "\n",
    "le = LabelEncoder()\n",
    "os.environ['TF_ENABLE_AUTO_MIXED_PRECISION'] = '0'"
   ]
  },
  {
   "cell_type": "markdown",
   "metadata": {},
   "source": [
    "# 偵測系統中的 GPU 個數"
   ]
  },
  {
   "cell_type": "code",
   "execution_count": 2,
   "metadata": {},
   "outputs": [
    {
     "name": "stdout",
     "output_type": "stream",
     "text": [
      "Num GPUs Available:  1\n"
     ]
    }
   ],
   "source": [
    "print(\"Num GPUs Available: \", len(tf.config.list_physical_devices('GPU')))"
   ]
  },
  {
   "cell_type": "markdown",
   "metadata": {},
   "source": [
    "# 超參數"
   ]
  },
  {
   "cell_type": "code",
   "execution_count": 3,
   "metadata": {},
   "outputs": [],
   "source": [
    "configs = dict(\n",
    "    train_dir = '你的資料夾網址',\n",
    "    train_csv = '你的資料夾網址',\n",
    "    num_classes = 3,\n",
    "    batch_size = 32,\n",
    "    image_size = (224, 224),\n",
    "    earlystopping_patience = 3,\n",
    "    warmup_learning_rate = 1e-3,\n",
    "    initial_learning_rate = 1e-4,\n",
    "    epochs = 3,\n",
    "    test_dir = ' 你的資料夾網址',\n",
    "    \n",
    "    model_name = 'resnet50', #resnet50, efficientnet\n",
    "    advanced_aug = 'none', # none, cutmix, mixup, or cutmix_mixup \n",
    "    seed = 42, # the random seed\n",
    ")\n",
    "# 儲存 label名稱，和 label id 的對照表 (之後要建立 submission 檔用的)\n",
    "LABEL_TBL = 'label_table.csv'\n",
    "AUTO = tf.data.AUTOTUNE"
   ]
  },
  {
   "cell_type": "markdown",
   "metadata": {},
   "source": [
    "# Reproducibility\n",
    "\n",
    "指定種子，讓實驗可以重現"
   ]
  },
  {
   "cell_type": "code",
   "execution_count": 4,
   "metadata": {},
   "outputs": [],
   "source": [
    "keras.utils.set_random_seed(configs['seed'])"
   ]
  },
  {
   "cell_type": "markdown",
   "metadata": {},
   "source": [
    "# 資料的特性"
   ]
  },
  {
   "cell_type": "code",
   "execution_count": 5,
   "metadata": {},
   "outputs": [],
   "source": [
    "def update_img_name(row, path):\n",
    "    \"\"\"\n",
    "    本函式會把每張圖片加上路徑\n",
    "    \"\"\"\n",
    "    return f'{path}/{row.image_id}'\n"
   ]
  },
  {
   "cell_type": "markdown",
   "metadata": {},
   "source": [
    "## Label ecnoder\n",
    "\n",
    "使用 laber encoder 將 comment 編碼成數字"
   ]
  },
  {
   "cell_type": "code",
   "execution_count": 6,
   "metadata": {},
   "outputs": [],
   "source": [
    "# check whether dffiles.image_id exists in folder configs['train_dir']\n",
    "def check_image_exist(row):\n",
    "    return os.path.exists(row.image_id)"
   ]
  },
  {
   "cell_type": "code",
   "execution_count": 7,
   "metadata": {},
   "outputs": [
    {
     "data": {
      "text/html": [
       "<div>\n",
       "<style scoped>\n",
       "    .dataframe tbody tr th:only-of-type {\n",
       "        vertical-align: middle;\n",
       "    }\n",
       "\n",
       "    .dataframe tbody tr th {\n",
       "        vertical-align: top;\n",
       "    }\n",
       "\n",
       "    .dataframe thead th {\n",
       "        text-align: right;\n",
       "    }\n",
       "</style>\n",
       "<table border=\"1\" class=\"dataframe\">\n",
       "  <thead>\n",
       "    <tr style=\"text-align: right;\">\n",
       "      <th></th>\n",
       "      <th>image_id</th>\n",
       "      <th>label</th>\n",
       "    </tr>\n",
       "  </thead>\n",
       "  <tbody>\n",
       "    <tr>\n",
       "      <th>0</th>\n",
       "      <td>00002.jpg</td>\n",
       "      <td>2</td>\n",
       "    </tr>\n",
       "    <tr>\n",
       "      <th>1</th>\n",
       "      <td>00003.jpg</td>\n",
       "      <td>2</td>\n",
       "    </tr>\n",
       "    <tr>\n",
       "      <th>2</th>\n",
       "      <td>00004.jpg</td>\n",
       "      <td>1</td>\n",
       "    </tr>\n",
       "    <tr>\n",
       "      <th>3</th>\n",
       "      <td>00005.jpg</td>\n",
       "      <td>0</td>\n",
       "    </tr>\n",
       "    <tr>\n",
       "      <th>4</th>\n",
       "      <td>00007.jpg</td>\n",
       "      <td>0</td>\n",
       "    </tr>\n",
       "  </tbody>\n",
       "</table>\n",
       "</div>"
      ],
      "text/plain": [
       "    image_id  label\n",
       "0  00002.jpg      2\n",
       "1  00003.jpg      2\n",
       "2  00004.jpg      1\n",
       "3  00005.jpg      0\n",
       "4  00007.jpg      0"
      ]
     },
     "execution_count": 7,
     "metadata": {},
     "output_type": "execute_result"
    }
   ],
   "source": [
    "from sklearn.preprocessing import LabelEncoder\n",
    "le = LabelEncoder()\n",
    "dffiles = pd.read_csv(configs['train_csv'])\n",
    "dffiles['label'] = le.fit_transform(dffiles.label)\n",
    "dffiles.head()"
   ]
  },
  {
   "cell_type": "code",
   "execution_count": 8,
   "metadata": {},
   "outputs": [
    {
     "data": {
      "text/plain": [
       "array(['A', 'B', 'C'], dtype=object)"
      ]
     },
     "execution_count": 8,
     "metadata": {},
     "output_type": "execute_result"
    }
   ],
   "source": [
    "le.classes_"
   ]
  },
  {
   "cell_type": "code",
   "execution_count": 9,
   "metadata": {},
   "outputs": [
    {
     "data": {
      "text/html": [
       "<div>\n",
       "<style scoped>\n",
       "    .dataframe tbody tr th:only-of-type {\n",
       "        vertical-align: middle;\n",
       "    }\n",
       "\n",
       "    .dataframe tbody tr th {\n",
       "        vertical-align: top;\n",
       "    }\n",
       "\n",
       "    .dataframe thead th {\n",
       "        text-align: right;\n",
       "    }\n",
       "</style>\n",
       "<table border=\"1\" class=\"dataframe\">\n",
       "  <thead>\n",
       "    <tr style=\"text-align: right;\">\n",
       "      <th></th>\n",
       "      <th>label_name</th>\n",
       "      <th>label_id</th>\n",
       "    </tr>\n",
       "  </thead>\n",
       "  <tbody>\n",
       "    <tr>\n",
       "      <th>0</th>\n",
       "      <td>A</td>\n",
       "      <td>0</td>\n",
       "    </tr>\n",
       "    <tr>\n",
       "      <th>1</th>\n",
       "      <td>B</td>\n",
       "      <td>1</td>\n",
       "    </tr>\n",
       "    <tr>\n",
       "      <th>2</th>\n",
       "      <td>C</td>\n",
       "      <td>2</td>\n",
       "    </tr>\n",
       "  </tbody>\n",
       "</table>\n",
       "</div>"
      ],
      "text/plain": [
       "  label_name  label_id\n",
       "0          A         0\n",
       "1          B         1\n",
       "2          C         2"
      ]
     },
     "execution_count": 9,
     "metadata": {},
     "output_type": "execute_result"
    }
   ],
   "source": [
    "label_name = le.classes_\n",
    "label_id = le.transform(le.classes_)\n",
    "df = pd.DataFrame({\n",
    "    'label_name':label_name,\n",
    "    'label_id':label_id\n",
    "})\n",
    "df.to_csv(LABEL_TBL, index=None)\n",
    "df.head()"
   ]
  },
  {
   "cell_type": "code",
   "execution_count": 10,
   "metadata": {},
   "outputs": [
    {
     "data": {
      "text/plain": [
       "1    0.369286\n",
       "0    0.320000\n",
       "2    0.310714\n",
       "Name: label, dtype: float64"
      ]
     },
     "execution_count": 10,
     "metadata": {},
     "output_type": "execute_result"
    }
   ],
   "source": [
    "dffiles.label.value_counts(normalize=True)"
   ]
  },
  {
   "cell_type": "markdown",
   "metadata": {},
   "source": []
  },
  {
   "cell_type": "markdown",
   "metadata": {},
   "source": [
    "# Goal\n",
    "\n",
    "由於資料不平衡 (imbalance)，因此我們研究的目的在於，是否可以應用一些技巧，解決資料不平衡的問題，並且讓模型的效能得以提升。\n",
    "\n",
    "研究的 metrics 為 accuracy rate\n",
    "\n",
    "- Experiment 1: baseline，使用三個模型，加上 data augmentation 的技巧，試著做運動的影像分類。這三個模型是 resent50, efficientb0, 以及 ConvNeXtBase。這個實驗中，沒有使用任何解決 imbalance 的技巧，所以應該是效能最差的一個結果。因此底下其他的實驗都可以跟這個 baseline，看效能有沒有提升。\n",
    "- Experiment 2:  使用 CutMix，CutOut 的 image augmentation 技巧，讓資料得以平衡。看能不能提升效能。"
   ]
  },
  {
   "cell_type": "code",
   "execution_count": 12,
   "metadata": {},
   "outputs": [],
   "source": [
    "le = LabelEncoder()"
   ]
  },
  {
   "cell_type": "markdown",
   "metadata": {},
   "source": [
    "# 函式\n",
    "\n",
    "這一節定義了一些重要的函式，之後要呼叫它們。"
   ]
  },
  {
   "cell_type": "code",
   "execution_count": 13,
   "metadata": {},
   "outputs": [],
   "source": [
    "preprocess_map = {\n",
    "    'efficientnetb0': keras.applications.efficientnet.preprocess_input,\n",
    "    'resnet50': keras.applications.resnet_v2.preprocess_input,\n",
    "    'convnextbase': keras.applications.convnext.preprocess_input \n",
    "}\n",
    "\n",
    "def get_preprocess_func(model_name):\n",
    "    return preprocess_map[model_name]"
   ]
  },
  {
   "cell_type": "code",
   "execution_count": 14,
   "metadata": {},
   "outputs": [],
   "source": [
    "def decode_image_and_label(image_path, label):\n",
    "    file_bytes = tf.io.read_file(image_path)\n",
    "    image = tf.io.decode_image(file_bytes, channels=3, expand_animations = False) \n",
    "    image = tf.image.resize(image, configs['image_size'][:2], method=\"bilinear\")\n",
    "    image = tf.cast(image, tf.float32) \n",
    "    \n",
    "    if label is not None:\n",
    "        label = tf.one_hot(label, configs['num_classes'])\n",
    "    \n",
    "    #label = tf.cast(label, tf.float32)\n",
    "    if label is not None:\n",
    "        return {\"images\": image, \"labels\": label}\n",
    "    else:\n",
    "        return {\"images\": image}"
   ]
  },
  {
   "cell_type": "code",
   "execution_count": 15,
   "metadata": {},
   "outputs": [],
   "source": [
    "def visualize_dataset(dataset, title):\n",
    "    plt.figure(figsize=(10, 10)).suptitle(title, fontsize=14)\n",
    "    for i, samples in enumerate(iter(dataset.take(9))):\n",
    "        images = samples[0]\n",
    "        labels = samples[1] \n",
    "        plt.subplot(3, 3, i + 1)\n",
    "        plt.imshow(images[0].numpy())\n",
    "        # draw the one-hot label on the top of image\n",
    "        label = ','.join([str(f'{i:.2f}') for i in labels[0].numpy()])\n",
    "\n",
    "        plt.title(f'[{label}]', fontsize=10)\n",
    "        plt.axis(\"off\")\n",
    "    plt.show()\n"
   ]
  },
  {
   "cell_type": "markdown",
   "metadata": {},
   "source": [
    "## 資料擴增"
   ]
  },
  {
   "cell_type": "code",
   "execution_count": 16,
   "metadata": {},
   "outputs": [],
   "source": [
    "def apply_base_augmentation(inputs):\n",
    "    inputs[\"images\"] = rand_augment(inputs[\"images\"])\n",
    "    return inputs\n",
    "\n",
    "def apply_cutmix_augmentation(inputs):\n",
    "    inputs = cut_mix(inputs, training=True)\n",
    "    return inputs\n",
    "\n",
    "def apply_mixup_augmentation(inputs):\n",
    "    inputs = mix_up(inputs, training=True)\n",
    "    return inputs\n",
    "\n",
    "def apply_cutmix_mixup_augmentation(inputs):\n",
    "    inputs = cut_mix(inputs, training=True)\n",
    "    inputs = mix_up(inputs, training=True)  \n",
    "    return inputs"
   ]
  },
  {
   "cell_type": "markdown",
   "metadata": {},
   "source": [
    "## 讀取資料"
   ]
  },
  {
   "cell_type": "code",
   "execution_count": 17,
   "metadata": {},
   "outputs": [],
   "source": [
    "def get_train_val_dataframes(filename, test_size=0.2):\n",
    "    dffiles = pd.read_csv(filename)\n",
    "    dffiles.image_id = dffiles.apply(update_img_name, args=(configs['train_dir'],), axis=1)\n",
    "    dffiles['label'] = le.fit_transform(dffiles.label)\n",
    "    x=dffiles.image_id\n",
    "    y=dffiles.label\n",
    "    x_train,x_val,y_train,y_val=train_test_split(x,y,test_size=test_size,random_state=0,stratify=y)\n",
    "    dftrain = pd.concat((x_train,y_train), axis=1)\n",
    "    dfval = pd.concat((x_val,y_val), axis=1)\n",
    "\n",
    "    return dftrain, dfval\n",
    "\n",
    "def get_test_dataframe(filename):\n",
    "    dffiles = pd.read_csv(filename)\n",
    "    dffiles.image_id = dffiles.apply(update_img_name, args=(configs['test_dir'],), axis=1)\n",
    "    dffiles['label'] = le.transform(dffiles.label)\n",
    "    # use dffiles.image_id and dffiles.label to construct a dataframe dftest\n",
    "    dftest = dffiles[['image_id', 'label']]\n",
    "    return dftest\n",
    "\n",
    "\n",
    "def get_oversampling_train_val_dataframes(filename, test_size=0.2):\n",
    "\n",
    "    dffiles = pd.read_csv(filename)\n",
    "    dffiles.image_id = dffiles.apply(update_img_name, args=(configs['train_dir'],), axis=1)\n",
    "    dffiles['label'] = le.fit_transform(dffiles.label)\n",
    "    x=dffiles.image_id\n",
    "    y=dffiles.label\n",
    "    class_counts = Counter(y)\n",
    "    max_samples = max(class_counts.values())\n",
    "    sampling_strategy = {cls: max_samples for cls in class_counts}\n",
    "    # 使用上採樣，讓所有的 label 都有一樣多的樣本\n",
    "    ros = RandomOverSampler(sampling_strategy=sampling_strategy, random_state=42)\n",
    "\n",
    "    x, y = ros.fit_resample(x.values.reshape(-1,1),y.values.reshape(-1,1))\n",
    "    x_train,x_val,y_train,y_val=train_test_split(x,y,test_size=test_size,random_state=0,stratify=y)\n",
    "    x_train = x_train.reshape(-1)\n",
    "    x_val = x_val.reshape(-1)\n",
    "    y_train = y_train.reshape(-1)\n",
    "    y_val = y_val.reshape(-1)\n",
    "    \n",
    "    dftrain = pd.DataFrame({'image_id':x_train, 'label':y_train})\n",
    "    dfval = pd.DataFrame({'image_id':x_val, 'label':y_val})\n",
    "    return dftrain, dfval"
   ]
  },
  {
   "cell_type": "code",
   "execution_count": 18,
   "metadata": {},
   "outputs": [],
   "source": [
    "def build_dataset(image_paths, labels, is_shuffle=True, is_aug=True):\n",
    "\n",
    "    ds = tf.data.Dataset.from_tensor_slices((image_paths, labels)).map(decode_image_and_label, num_parallel_calls=AUTO) # map 會針對所讀入的每個路徑來做 decode_image_and_label 的動作\n",
    "    if is_shuffle:\n",
    "        ds = ds.shuffle(configs['batch_size'] * 10) # shuffle 會洗亂資料\n",
    "    ds = ds.batch(configs['batch_size']) # batch 會打包圖片成一個 batch\n",
    "    \n",
    "    if is_aug:\n",
    "        ds = ds.map(apply_base_augmentation, num_parallel_calls=AUTO) # 再用 map 針對每一個 batch 的圖片做資料擴增\n",
    "        \n",
    "        if configs['advanced_aug'] == 'cutmix':\n",
    "            ds = ds.map(apply_cutmix_augmentation, num_parallel_calls=AUTO)\n",
    "        elif configs['advanced_aug'] == 'mixup':\n",
    "            ds = ds.map(apply_mixup_augmentation, num_parallel_calls=AUTO)\n",
    "        elif configs['advanced_aug'] == 'cutmix_mixup':\n",
    "            ds = ds.map(apply_cutmix_mixup_augmentation, num_parallel_calls=AUTO)\n",
    "    # normalize ds['images'] to [0, 1]\n",
    "    ds = ds.map(lambda x: (x['images'] / 255, x['labels']), num_parallel_calls=AUTO)\n",
    "    # 把資料轉為 tuple 格式，以符合 keras 模型的需求\n",
    "    #ds = ds.map(lambda x: (x['images'], x['labels']), num_parallel_calls=AUTO)\n",
    "    ds = ds.prefetch(AUTO)        \n",
    "\n",
    "    return ds"
   ]
  },
  {
   "cell_type": "code",
   "execution_count": 19,
   "metadata": {},
   "outputs": [],
   "source": [
    "def build_train_ds(dftrain):\n",
    "    train_ds = build_dataset(dftrain.image_id, dftrain.label)\n",
    "    return train_ds\n",
    "def build_test_ds(dftest):\n",
    "    test_ds = build_dataset(dftest.image_id, dftest.label, is_shuffle=False, is_aug=False)\n",
    "    return test_ds\n",
    "\n",
    "def load_train_val_test_ds(upsampling=False):\n",
    "    if upsampling:\n",
    "        dftrain, dfval = get_oversampling_train_val_dataframes(configs['train_csv'])\n",
    "    else:\n",
    "        dftrain, dfval = get_train_val_dataframes(configs['train_csv'])\n",
    "    dftest = get_test_dataframe(configs['test_csv'])\n",
    "    train_ds = build_train_ds(dftrain)\n",
    "    val_ds = build_test_ds(dfval)\n",
    "    test_ds = build_test_ds(dftest)\n",
    "    return train_ds, val_ds, test_ds"
   ]
  },
  {
   "cell_type": "markdown",
   "metadata": {},
   "source": [
    "## 建立模型"
   ]
  },
  {
   "cell_type": "code",
   "execution_count": 20,
   "metadata": {},
   "outputs": [],
   "source": [
    "def create_backbone():\n",
    "    if configs['model_name'] == 'resnet50':\n",
    "        backbone = kcv.models.ResNetV2Backbone.from_preset(\"resnet50_v2_imagenet\", input_shape=configs['image_size']+(3,))\n",
    "    elif configs['model_name'] == 'efficientnet':\n",
    "        backbone = kcv.models.EfficientNetV2Backbone.from_preset(\"efficientnetv2_s_imagenet\", input_shape=configs['image_size']+(3,))\n",
    "    backbone.include_rescaling = False\n",
    "    return backbone"
   ]
  },
  {
   "cell_type": "code",
   "execution_count": 21,
   "metadata": {},
   "outputs": [],
   "source": [
    "def create_model():\n",
    "    \n",
    "    IMG_SIZE = configs['image_size'] + (3,)\n",
    "    inputs = Input(shape=IMG_SIZE)\n",
    "    backbone = create_backbone()\n",
    "    x = backbone(inputs)\n",
    "\n",
    "    x = GlobalAveragePooling2D()(x)\n",
    "    x = keras.layers.Dropout(0.2)(x)\n",
    "    x = keras.layers.BatchNormalization()(x)\n",
    "    x = keras.layers.Dense(512, activation='selu')(x)\n",
    "    x = keras.layers.Dropout(0.2)(x)\n",
    "    x = keras.layers.Dense(256, activation='selu')(x)\n",
    "    x = keras.layers.Dropout(0.2)(x)\n",
    "    x = keras.layers.BatchNormalization()(x)\n",
    "    \n",
    "    outputs = Dense(configs['num_classes'], activation='softmax')(x)\n",
    "    model = Model(inputs, outputs)\n",
    "    return model"
   ]
  },
  {
   "cell_type": "code",
   "execution_count": 22,
   "metadata": {},
   "outputs": [
    {
     "name": "stderr",
     "output_type": "stream",
     "text": [
      "/home/u7801832/.local/lib/python3.10/site-packages/keras_cv/src/models/backbones/backbone.py:44: UserWarning: `Model.state_updates` will be removed in a future version. This property should not be used in TensorFlow 2.0, as `updates` are applied automatically.\n",
      "  return id(getattr(self, attr)) not in self._functional_layer_ids\n",
      "/home/u7801832/.local/lib/python3.10/site-packages/keras_cv/src/models/backbones/backbone.py:44: UserWarning: `layer.updates` will be removed in a future version. This property should not be used in TensorFlow 2.0, as `updates` are applied automatically.\n",
      "  return id(getattr(self, attr)) not in self._functional_layer_ids\n"
     ]
    },
    {
     "data": {
      "image/png": "[encoded data removed]",
      "text/plain": [
       "<IPython.core.display.Image object>"
      ]
     },
     "execution_count": 22,
     "metadata": {},
     "output_type": "execute_result"
    }
   ],
   "source": [
    "model = create_model()\n",
    "keras.utils.plot_model(model, show_shapes=True)"
   ]
  },
  {
   "cell_type": "markdown",
   "metadata": {},
   "source": [
    "# Callback function\n",
    "\n",
    "用來記錄目前的 learning rate"
   ]
  },
  {
   "cell_type": "code",
   "execution_count": 23,
   "metadata": {},
   "outputs": [],
   "source": [
    "class LearningRateLogger(Callback):\n",
    "    def on_epoch_end(self, epoch, logs=None):\n",
    "        logs = logs or {}\n",
    "        logs['lr'] = self.model.optimizer.lr"
   ]
  },
  {
   "cell_type": "markdown",
   "metadata": {},
   "source": [
    "# Data visualization"
   ]
  },
  {
   "cell_type": "code",
   "execution_count": 24,
   "metadata": {},
   "outputs": [],
   "source": [
    "dftrain, dfval = get_train_val_dataframes(configs['train_csv'])\n",
    "\n",
    "train_ds = build_train_ds(dftrain)\n",
    "val_ds = build_train_ds(dfval)\n"
   ]
  },
  {
   "cell_type": "code",
   "execution_count": null,
   "metadata": {},
   "outputs": [],
   "source": [
    "visualize_dataset(test_ds, 'Validation Dataset (without Augmentation)')"
   ]
  },
  {
   "cell_type": "markdown",
   "metadata": {},
   "source": [
    "## 測試 cutmix, mixup, cutmix_mixup 資料擴增的結果"
   ]
  },
  {
   "cell_type": "code",
   "execution_count": null,
   "metadata": {},
   "outputs": [],
   "source": [
    "# 保留前 advanced_aug 的值\n",
    "old_aug = configs['advanced_aug']\n",
    "configs['advanced_aug'] = 'cutmix'\n",
    "dftrain, dfval = get_train_val_dataframes(configs['train_csv'])\n",
    "\n",
    "train_ds = build_train_ds(dftrain)\n",
    "val_ds = build_train_ds(dfval)\n",
    "\n",
    "visualize_dataset(train_ds, 'Train Dataset (with Augmentation + cutmix)')\n",
    "#回存\n",
    "configs['advanced_aug'] = old_aug"
   ]
  },
  {
   "cell_type": "markdown",
   "metadata": {},
   "source": [
    "## 畫出 learning rate scheduling 的結果"
   ]
  },
  {
   "cell_type": "code",
   "execution_count": 28,
   "metadata": {},
   "outputs": [
    {
     "data": {
      "image/png": "[encoded data removed]",
      "text/plain": [
       "<Figure size 1000x600 with 1 Axes>"
      ]
     },
     "metadata": {},
     "output_type": "display_data"
    }
   ],
   "source": [
    "import matplotlib.pyplot as plt\n",
    "import numpy as np\n",
    "\n",
    "train_ds, _, _ = load_train_val_test_ds()\n",
    "# Assuming the same parameters you used to create your cosine_decay instance\n",
    "total_train_steps = len(train_ds) * configs['epochs']\n",
    "warmup_steps = int(total_train_steps * 0.10)\n",
    "decay_steps = total_train_steps - warmup_steps\n",
    "\n",
    "cosine_decay = keras.optimizers.schedules.CosineDecay(\n",
    "    initial_learning_rate=configs['initial_learning_rate'],\n",
    "    decay_steps=decay_steps,\n",
    "    alpha=0.0,\n",
    "    warmup_target=configs['warmup_learning_rate'],\n",
    "    warmup_steps=warmup_steps,\n",
    ")\n",
    "\n",
    "# Create an array of step values\n",
    "steps = np.arange(total_train_steps)\n",
    "\n",
    "# Compute the learning rate for each step\n",
    "lr_values = [cosine_decay(step).numpy() for step in steps]\n",
    "#lr_values = cosine_decay(steps)\n",
    "\n",
    "# Plot the learning rate schedule\n",
    "plt.figure(figsize=(10, 6))\n",
    "plt.plot(steps, lr_values)\n",
    "plt.title('Cosine Decay Learning Rate Schedule')\n",
    "plt.xlabel('Step')\n",
    "plt.ylabel('Learning Rate')\n",
    "plt.grid(True)\n",
    "plt.show()"
   ]
  },
  {
   "cell_type": "markdown",
   "metadata": {},
   "source": [
    "\n",
    "# Experiment 1"
   ]
  },
  {
   "cell_type": "code",
   "execution_count": 30,
   "metadata": {},
   "outputs": [
    {
     "name": "stdout",
     "output_type": "stream",
     "text": [
      "Start exp1 with model resnet50...\n"
     ]
    },
    {
     "data": {
      "text/html": [
       "Tracking run with wandb version 0.17.0"
      ],
      "text/plain": [
       "<IPython.core.display.HTML object>"
      ]
     },
     "metadata": {},
     "output_type": "display_data"
    },
    {
     "data": {
      "text/html": [
       "Run data is saved locally in <code>/home/u7801832/Mango/wandb/run-20240521_121953-y61j4znf</code>"
      ],
      "text/plain": [
       "<IPython.core.display.HTML object>"
      ]
     },
     "metadata": {},
     "output_type": "display_data"
    },
    {
     "data": {
      "text/html": [
       "Syncing run <strong><a href='https://wandb.ai/ycchung/mango-classification/runs/y61j4znf' target=\"_blank\">exp1_resnet50</a></strong> to <a href='https://wandb.ai/ycchung/mango-classification' target=\"_blank\">Weights & Biases</a> (<a href='https://wandb.me/run' target=\"_blank\">docs</a>)<br/>"
      ],
      "text/plain": [
       "<IPython.core.display.HTML object>"
      ]
     },
     "metadata": {},
     "output_type": "display_data"
    },
    {
     "data": {
      "text/html": [
       " View project at <a href='https://wandb.ai/ycchung/mango-classification' target=\"_blank\">https://wandb.ai/ycchung/mango-classification</a>"
      ],
      "text/plain": [
       "<IPython.core.display.HTML object>"
      ]
     },
     "metadata": {},
     "output_type": "display_data"
    },
    {
     "data": {
      "text/html": [
       " View run at <a href='https://wandb.ai/ycchung/mango-classification/runs/y61j4znf' target=\"_blank\">https://wandb.ai/ycchung/mango-classification/runs/y61j4znf</a>"
      ],
      "text/plain": [
       "<IPython.core.display.HTML object>"
      ]
     },
     "metadata": {},
     "output_type": "display_data"
    },
    {
     "name": "stderr",
     "output_type": "stream",
     "text": [
      "\u001b[34m\u001b[1mwandb\u001b[0m: \u001b[33mWARNING\u001b[0m When using `save_best_only`, ensure that the `filepath` argument contains formatting placeholders like `{epoch:02d}` or `{batch:02d}`. This ensures correct interpretation of the logged artifacts.\n"
     ]
    },
    {
     "name": "stdout",
     "output_type": "stream",
     "text": [
      "Loading the dataset....\n",
      "total_train_steps=420\n",
      "warmup_steps=42\n",
      "decay_steps=378\n",
      "Constructing the model...\n"
     ]
    },
    {
     "name": "stderr",
     "output_type": "stream",
     "text": [
      "/home/u7801832/.local/lib/python3.10/site-packages/keras_cv/src/models/backbones/backbone.py:44: UserWarning: `Model.state_updates` will be removed in a future version. This property should not be used in TensorFlow 2.0, as `updates` are applied automatically.\n",
      "  return id(getattr(self, attr)) not in self._functional_layer_ids\n",
      "/home/u7801832/.local/lib/python3.10/site-packages/keras_cv/src/models/backbones/backbone.py:44: UserWarning: `layer.updates` will be removed in a future version. This property should not be used in TensorFlow 2.0, as `updates` are applied automatically.\n",
      "  return id(getattr(self, attr)) not in self._functional_layer_ids\n"
     ]
    },
    {
     "name": "stdout",
     "output_type": "stream",
     "text": [
      "Epoch 1/3\n"
     ]
    },
    {
     "name": "stderr",
     "output_type": "stream",
     "text": [
      "2024-05-21 12:20:10.702294: I external/local_xla/xla/service/service.cc:168] XLA service 0x5641461f08b0 initialized for platform CUDA (this does not guarantee that XLA will be used). Devices:\n",
      "2024-05-21 12:20:10.702338: I external/local_xla/xla/service/service.cc:176]   StreamExecutor device (0): Tesla V100-SXM2-32GB, Compute Capability 7.0\n",
      "2024-05-21 12:20:10.711972: I external/local_xla/xla/stream_executor/cuda/cuda_dnn.cc:467] Loaded cuDNN version 90000\n",
      "WARNING: All log messages before absl::InitializeLog() is called are written to STDERR\n",
      "I0000 00:00:1716265210.780965    1918 device_compiler.h:186] Compiled cluster using XLA!  This line is logged at most once for the lifetime of the process.\n",
      "2024-05-21 12:20:11.605445: I tensorflow/compiler/mlir/tensorflow/utils/dump_mlir_util.cc:269] disabling MLIR crash reproducer, set env var `MLIR_CRASH_REPRODUCER_DIRECTORY` to enable.\n",
      "W0000 00:00:1716265221.655855    1918 graph_launch.cc:671] Fallback to op-by-op mode because memset node breaks graph update\n",
      "W0000 00:00:1716265234.673437    1918 graph_launch.cc:671] Fallback to op-by-op mode because memset node breaks graph update\n"
     ]
    },
    {
     "name": "stdout",
     "output_type": "stream",
     "text": [
      "140/140 [==============================] - ETA: 0s - loss: 1.0686 - accuracy: 0.5853 - categorical_crossentropy: 1.0686 - f1_score: 0.5899"
     ]
    },
    {
     "name": "stderr",
     "output_type": "stream",
     "text": [
      "W0000 00:00:1716265288.722994    1917 graph_launch.cc:671] Fallback to op-by-op mode because memset node breaks graph update\n"
     ]
    },
    {
     "name": "stdout",
     "output_type": "stream",
     "text": [
      "\n",
      "Epoch 1: val_f1_score improved from -inf to 0.16148, saving model to checkpoints/exp1_model_resnet50.h5\n",
      "140/140 [==============================] - 93s 346ms/step - loss: 1.0686 - accuracy: 0.5853 - categorical_crossentropy: 1.0686 - f1_score: 0.5899 - val_loss: 1.2146 - val_accuracy: 0.3196 - val_categorical_crossentropy: 1.2146 - val_f1_score: 0.1615 - lr: 8.4613e-04\n",
      "Epoch 2/3\n",
      "140/140 [==============================] - ETA: 0s - loss: 0.7961 - accuracy: 0.6998 - categorical_crossentropy: 0.7961 - f1_score: 0.7042\n",
      "Epoch 2: val_f1_score did not improve from 0.16148\n",
      "140/140 [==============================] - 45s 317ms/step - loss: 0.7961 - accuracy: 0.6998 - categorical_crossentropy: 0.7961 - f1_score: 0.7042 - val_loss: 1.2897 - val_accuracy: 0.3196 - val_categorical_crossentropy: 1.2897 - val_f1_score: 0.1615 - lr: 3.0578e-04\n",
      "Epoch 3/3\n",
      "140/140 [==============================] - ETA: 0s - loss: 0.7292 - accuracy: 0.7460 - categorical_crossentropy: 0.7292 - f1_score: 0.7508\n",
      "Epoch 3: val_f1_score did not improve from 0.16148\n",
      "140/140 [==============================] - 46s 320ms/step - loss: 0.7292 - accuracy: 0.7460 - categorical_crossentropy: 0.7292 - f1_score: 0.7508 - val_loss: 1.4394 - val_accuracy: 0.3196 - val_categorical_crossentropy: 1.4394 - val_f1_score: 0.1615 - lr: 1.7256e-08\n",
      "Evaluating the model...\n",
      "50/50 [==============================] - 4s 70ms/step - loss: 1.2159 - accuracy: 0.3100 - categorical_crossentropy: 1.2159 - f1_score: 0.1578\n",
      " 4/50 [=>............................] - ETA: 2s"
     ]
    },
    {
     "name": "stderr",
     "output_type": "stream",
     "text": [
      "W0000 00:00:1716265393.289148    1919 graph_launch.cc:671] Fallback to op-by-op mode because memset node breaks graph update\n"
     ]
    },
    {
     "name": "stdout",
     "output_type": "stream",
     "text": [
      "50/50 [==============================] - 5s 57ms/step\n",
      "Test accuracy: 0.31\n",
      "Test f1 score: 0.15776081424936386\n",
      "Test recall score: 0.3333333333333333\n",
      "Test precision score: 0.10333333333333333\n",
      "[<tf.Variable 'current_learning_rate:0' shape=() dtype=float32, numpy=1.7255546e-08>, <tf.Variable 'current_learning_rate:0' shape=() dtype=float32, numpy=1.7255546e-08>, <tf.Variable 'current_learning_rate:0' shape=() dtype=float32, numpy=1.7255546e-08>]\n"
     ]
    },
    {
     "name": "stderr",
     "output_type": "stream",
     "text": [
      "/home/u7801832/.local/lib/python3.10/site-packages/sklearn/metrics/_classification.py:1509: UndefinedMetricWarning: Precision is ill-defined and being set to 0.0 in labels with no predicted samples. Use `zero_division` parameter to control this behavior.\n",
      "  _warn_prf(average, modifier, f\"{metric.capitalize()} is\", len(result))\n"
     ]
    },
    {
     "data": {
      "application/vnd.jupyter.widget-view+json": {
       "model_id": "f2b07c9dc5cf410895651a02f4a16c16",
       "version_major": 2,
       "version_minor": 0
      },
      "text/plain": [
       "VBox(children=(Label(value='94.671 MB of 94.671 MB uploaded\\r'), FloatProgress(value=1.0, max=1.0)))"
      ]
     },
     "metadata": {},
     "output_type": "display_data"
    },
    {
     "data": {
      "text/html": [
       "<style>\n",
       "    table.wandb td:nth-child(1) { padding: 0 10px; text-align: left ; width: auto;} td:nth-child(2) {text-align: left ; width: 100%}\n",
       "    .wandb-row { display: flex; flex-direction: row; flex-wrap: wrap; justify-content: flex-start; width: 100% }\n",
       "    .wandb-col { display: flex; flex-direction: column; flex-basis: 100%; flex: 1; padding: 10px; }\n",
       "    </style>\n",
       "<div class=\"wandb-row\"><div class=\"wandb-col\"><h3>Run history:</h3><br/><table class=\"wandb\"><tr><td>batch/accuracy</td><td>▁▃▄▄▄▄▄▄▅▅▅▅▅▅▇▇▇▇▇▇▇▇▇▇▇▇▇█▇███████████</td></tr><tr><td>batch/batch_step</td><td>▁▁▁▂▂▂▂▂▂▃▃▃▃▃▃▄▄▄▄▄▅▅▅▅▅▅▆▆▆▆▆▇▇▇▇▇▇███</td></tr><tr><td>batch/categorical_crossentropy</td><td>██▇▆▆▆▆▅▅▅▅▅▄▄▂▂▂▂▂▂▂▂▂▂▂▂▂▁▁▁▁▁▁▁▁▁▁▁▁▁</td></tr><tr><td>batch/f1_score</td><td>▁▃▄▄▄▄▄▄▅▅▅▅▅▅▇▇▇▇▇▇▇▇▇▇▇▇▇█▇███████████</td></tr><tr><td>batch/learning_rate</td><td>▂▃▅▇███████▇▇▇▇▆▆▆▆▅▅▅▄▄▄▃▃▃▃▂▂▂▂▂▁▁▁▁▁▁</td></tr><tr><td>batch/loss</td><td>██▇▆▆▆▆▅▅▅▅▅▄▄▂▂▂▂▂▂▂▂▂▂▂▂▂▁▁▁▁▁▁▁▁▁▁▁▁▁</td></tr><tr><td>epoch/accuracy</td><td>▁▆█</td></tr><tr><td>epoch/categorical_crossentropy</td><td>█▂▁</td></tr><tr><td>epoch/epoch</td><td>▁▅█</td></tr><tr><td>epoch/f1_score</td><td>▁▆█</td></tr><tr><td>epoch/learning_rate</td><td>█▄▁</td></tr><tr><td>epoch/loss</td><td>█▂▁</td></tr><tr><td>epoch/val_accuracy</td><td>▁▁▁</td></tr><tr><td>epoch/val_categorical_crossentropy</td><td>▁▃█</td></tr><tr><td>epoch/val_f1_score</td><td>▁▁▁</td></tr><tr><td>epoch/val_loss</td><td>▁▃█</td></tr></table><br/></div><div class=\"wandb-col\"><h3>Run summary:</h3><br/><table class=\"wandb\"><tr><td>Test Acc</td><td>0.31</td></tr><tr><td>Test F1</td><td>0.15776</td></tr><tr><td>Test Precision</td><td>0.10333</td></tr><tr><td>Test Recall</td><td>0.33333</td></tr><tr><td>batch/accuracy</td><td>0.74663</td></tr><tr><td>batch/batch_step</td><td>418</td></tr><tr><td>batch/categorical_crossentropy</td><td>0.7281</td></tr><tr><td>batch/f1_score</td><td>0.7514</td></tr><tr><td>batch/learning_rate</td><td>0.0</td></tr><tr><td>batch/loss</td><td>0.7281</td></tr><tr><td>checkpoint</td><td>checkpoints/exp1_mod...</td></tr><tr><td>epoch/accuracy</td><td>0.74598</td></tr><tr><td>epoch/categorical_crossentropy</td><td>0.72923</td></tr><tr><td>epoch/epoch</td><td>2</td></tr><tr><td>epoch/f1_score</td><td>0.75076</td></tr><tr><td>epoch/learning_rate</td><td>0.0</td></tr><tr><td>epoch/loss</td><td>0.72923</td></tr><tr><td>epoch/val_accuracy</td><td>0.31964</td></tr><tr><td>epoch/val_categorical_crossentropy</td><td>1.43936</td></tr><tr><td>epoch/val_f1_score</td><td>0.16148</td></tr><tr><td>epoch/val_loss</td><td>1.43936</td></tr></table><br/></div></div>"
      ],
      "text/plain": [
       "<IPython.core.display.HTML object>"
      ]
     },
     "metadata": {},
     "output_type": "display_data"
    },
    {
     "data": {
      "text/html": [
       " View run <strong style=\"color:#cdcd00\">exp1_resnet50</strong> at: <a href='https://wandb.ai/ycchung/mango-classification/runs/y61j4znf' target=\"_blank\">https://wandb.ai/ycchung/mango-classification/runs/y61j4znf</a><br/> View project at: <a href='https://wandb.ai/ycchung/mango-classification' target=\"_blank\">https://wandb.ai/ycchung/mango-classification</a><br/>Synced 5 W&B file(s), 0 media file(s), 1 artifact file(s) and 0 other file(s)"
      ],
      "text/plain": [
       "<IPython.core.display.HTML object>"
      ]
     },
     "metadata": {},
     "output_type": "display_data"
    },
    {
     "data": {
      "text/html": [
       "Find logs at: <code>./wandb/run-20240521_121953-y61j4znf/logs</code>"
      ],
      "text/plain": [
       "<IPython.core.display.HTML object>"
      ]
     },
     "metadata": {},
     "output_type": "display_data"
    },
    {
     "name": "stdout",
     "output_type": "stream",
     "text": [
      "Start exp1 with model efficientnet...\n"
     ]
    },
    {
     "data": {
      "application/vnd.jupyter.widget-view+json": {
       "model_id": "18823288faa447d183b0193ecdeb6926",
       "version_major": 2,
       "version_minor": 0
      },
      "text/plain": [
       "VBox(children=(Label(value='Waiting for wandb.init()...\\r'), FloatProgress(value=0.011112435607032643, max=1.0…"
      ]
     },
     "metadata": {},
     "output_type": "display_data"
    },
    {
     "data": {
      "text/html": [
       "Tracking run with wandb version 0.17.0"
      ],
      "text/plain": [
       "<IPython.core.display.HTML object>"
      ]
     },
     "metadata": {},
     "output_type": "display_data"
    },
    {
     "data": {
      "text/html": [
       "Run data is saved locally in <code>/home/u7801832/Mango/wandb/run-20240521_122321-w9zz6r4m</code>"
      ],
      "text/plain": [
       "<IPython.core.display.HTML object>"
      ]
     },
     "metadata": {},
     "output_type": "display_data"
    },
    {
     "data": {
      "text/html": [
       "Syncing run <strong><a href='https://wandb.ai/ycchung/mango-classification/runs/w9zz6r4m' target=\"_blank\">exp1_efficientnet</a></strong> to <a href='https://wandb.ai/ycchung/mango-classification' target=\"_blank\">Weights & Biases</a> (<a href='https://wandb.me/run' target=\"_blank\">docs</a>)<br/>"
      ],
      "text/plain": [
       "<IPython.core.display.HTML object>"
      ]
     },
     "metadata": {},
     "output_type": "display_data"
    },
    {
     "data": {
      "text/html": [
       " View project at <a href='https://wandb.ai/ycchung/mango-classification' target=\"_blank\">https://wandb.ai/ycchung/mango-classification</a>"
      ],
      "text/plain": [
       "<IPython.core.display.HTML object>"
      ]
     },
     "metadata": {},
     "output_type": "display_data"
    },
    {
     "data": {
      "text/html": [
       " View run at <a href='https://wandb.ai/ycchung/mango-classification/runs/w9zz6r4m' target=\"_blank\">https://wandb.ai/ycchung/mango-classification/runs/w9zz6r4m</a>"
      ],
      "text/plain": [
       "<IPython.core.display.HTML object>"
      ]
     },
     "metadata": {},
     "output_type": "display_data"
    },
    {
     "name": "stdout",
     "output_type": "stream",
     "text": [
      "Loading the dataset....\n",
      "total_train_steps=420\n",
      "warmup_steps=42\n",
      "decay_steps=378\n",
      "Constructing the model...\n"
     ]
    },
    {
     "name": "stderr",
     "output_type": "stream",
     "text": [
      "/home/u7801832/.local/lib/python3.10/site-packages/keras_cv/src/models/backbones/backbone.py:44: UserWarning: `Model.state_updates` will be removed in a future version. This property should not be used in TensorFlow 2.0, as `updates` are applied automatically.\n",
      "  return id(getattr(self, attr)) not in self._functional_layer_ids\n",
      "/home/u7801832/.local/lib/python3.10/site-packages/keras_cv/src/models/backbones/backbone.py:44: UserWarning: `layer.updates` will be removed in a future version. This property should not be used in TensorFlow 2.0, as `updates` are applied automatically.\n",
      "  return id(getattr(self, attr)) not in self._functional_layer_ids\n"
     ]
    },
    {
     "name": "stdout",
     "output_type": "stream",
     "text": [
      "Epoch 1/3\n"
     ]
    },
    {
     "name": "stderr",
     "output_type": "stream",
     "text": [
      "2024-05-21 12:24:05.849598: E tensorflow/core/grappler/optimizers/meta_optimizer.cc:1021] layout failed: INVALID_ARGUMENT: Size of values 0 does not match size of permutation 4 @ fanin shape inmodel/efficient_net_v2s_backbone/block1b_/block1b_drop/dropout/SelectV2-2-TransposeNHWCToNCHW-LayoutOptimizer\n",
      "W0000 00:00:1716265471.023320    1918 graph_launch.cc:671] Fallback to op-by-op mode because memset node breaks graph update\n",
      "2024-05-21 12:24:42.017350: I external/local_xla/xla/stream_executor/gpu/asm_compiler.cc:326] ptxas warning : Registers are spilled to local memory in function 'fusion_1071', 32 bytes spill stores, 32 bytes spill loads\n",
      "\n",
      "W0000 00:00:1716265487.425993    1920 graph_launch.cc:671] Fallback to op-by-op mode because memset node breaks graph update\n"
     ]
    },
    {
     "name": "stdout",
     "output_type": "stream",
     "text": [
      "140/140 [==============================] - ETA: 0s - loss: 1.1118 - accuracy: 0.5817 - categorical_crossentropy: 1.1118 - f1_score: 0.5842"
     ]
    },
    {
     "name": "stderr",
     "output_type": "stream",
     "text": [
      "W0000 00:00:1716265553.041984    1920 graph_launch.cc:671] Fallback to op-by-op mode because memset node breaks graph update\n"
     ]
    },
    {
     "name": "stdout",
     "output_type": "stream",
     "text": [
      "\n",
      "Epoch 1: val_f1_score improved from -inf to 0.73362, saving model to checkpoints/exp1_model_efficientnet.h5\n",
      "140/140 [==============================] - 140s 297ms/step - loss: 1.1118 - accuracy: 0.5817 - categorical_crossentropy: 1.1118 - f1_score: 0.5842 - val_loss: 0.7437 - val_accuracy: 0.7348 - val_categorical_crossentropy: 0.7437 - val_f1_score: 0.7336 - lr: 8.4613e-04\n",
      "Epoch 2/3\n",
      "140/140 [==============================] - ETA: 0s - loss: 0.8096 - accuracy: 0.7007 - categorical_crossentropy: 0.8096 - f1_score: 0.7048\n",
      "Epoch 2: val_f1_score improved from 0.73362 to 0.74096, saving model to checkpoints/exp1_model_efficientnet.h5\n",
      "140/140 [==============================] - 36s 254ms/step - loss: 0.8096 - accuracy: 0.7007 - categorical_crossentropy: 0.8096 - f1_score: 0.7048 - val_loss: 0.6924 - val_accuracy: 0.7393 - val_categorical_crossentropy: 0.6924 - val_f1_score: 0.7410 - lr: 3.0578e-04\n",
      "Epoch 3/3\n",
      "140/140 [==============================] - ETA: 0s - loss: 0.7393 - accuracy: 0.7391 - categorical_crossentropy: 0.7393 - f1_score: 0.7430\n",
      "Epoch 3: val_f1_score improved from 0.74096 to 0.76656, saving model to checkpoints/exp1_model_efficientnet.h5\n",
      "140/140 [==============================] - 36s 252ms/step - loss: 0.7393 - accuracy: 0.7391 - categorical_crossentropy: 0.7393 - f1_score: 0.7430 - val_loss: 0.6670 - val_accuracy: 0.7643 - val_categorical_crossentropy: 0.6670 - val_f1_score: 0.7666 - lr: 1.7256e-08\n",
      "Evaluating the model...\n",
      "50/50 [==============================] - 2s 39ms/step - loss: 0.6586 - accuracy: 0.7713 - categorical_crossentropy: 0.6586 - f1_score: 0.7743\n",
      " 5/50 [==>...........................] - ETA: 1s"
     ]
    },
    {
     "name": "stderr",
     "output_type": "stream",
     "text": [
      "W0000 00:00:1716265643.819829    1919 graph_launch.cc:671] Fallback to op-by-op mode because memset node breaks graph update\n"
     ]
    },
    {
     "name": "stdout",
     "output_type": "stream",
     "text": [
      "50/50 [==============================] - 8s 38ms/step\n",
      "Test accuracy: 0.77125\n",
      "Test f1 score: 0.7742818339683749\n",
      "Test recall score: 0.7812701353695416\n",
      "Test precision score: 0.7743068517079141\n",
      "[<tf.Variable 'current_learning_rate:0' shape=() dtype=float32, numpy=1.7255546e-08>, <tf.Variable 'current_learning_rate:0' shape=() dtype=float32, numpy=1.7255546e-08>, <tf.Variable 'current_learning_rate:0' shape=() dtype=float32, numpy=1.7255546e-08>]\n"
     ]
    },
    {
     "data": {
      "application/vnd.jupyter.widget-view+json": {
       "model_id": "1c4aeefd8c064e2287ecb78feb7fe19f",
       "version_major": 2,
       "version_minor": 0
      },
      "text/plain": [
       "VBox(children=(Label(value='243.591 MB of 243.591 MB uploaded\\r'), FloatProgress(value=1.0, max=1.0)))"
      ]
     },
     "metadata": {},
     "output_type": "display_data"
    },
    {
     "data": {
      "text/html": [
       "<style>\n",
       "    table.wandb td:nth-child(1) { padding: 0 10px; text-align: left ; width: auto;} td:nth-child(2) {text-align: left ; width: 100%}\n",
       "    .wandb-row { display: flex; flex-direction: row; flex-wrap: wrap; justify-content: flex-start; width: 100% }\n",
       "    .wandb-col { display: flex; flex-direction: column; flex-basis: 100%; flex: 1; padding: 10px; }\n",
       "    </style>\n",
       "<div class=\"wandb-row\"><div class=\"wandb-col\"><h3>Run history:</h3><br/><table class=\"wandb\"><tr><td>batch/accuracy</td><td>▁▂▃▄▄▄▅▅▅▅▅▅▅▅█▇▇▇▇▇▇▇▇▇▇▇▇█████████████</td></tr><tr><td>batch/batch_step</td><td>▁▁▁▂▂▂▂▂▂▃▃▃▃▃▃▄▄▄▄▄▅▅▅▅▅▅▆▆▆▆▆▇▇▇▇▇▇███</td></tr><tr><td>batch/categorical_crossentropy</td><td>█▆▆▅▅▅▄▄▄▄▄▄▃▃▁▂▂▂▂▂▂▂▂▁▁▁▁▁▁▁▁▁▁▁▁▁▁▁▁▁</td></tr><tr><td>batch/f1_score</td><td>▁▂▃▄▄▄▅▅▅▅▅▅▅▅█▇▇▇▇▇▇▇▇▇▇▇▇█████████████</td></tr><tr><td>batch/learning_rate</td><td>▂▃▅▇███████▇▇▇▇▆▆▆▆▅▅▅▄▄▄▃▃▃▃▂▂▂▂▂▁▁▁▁▁▁</td></tr><tr><td>batch/loss</td><td>█▆▆▅▅▅▄▄▄▄▄▄▃▃▁▂▂▂▂▂▂▂▂▁▁▁▁▁▁▁▁▁▁▁▁▁▁▁▁▁</td></tr><tr><td>epoch/accuracy</td><td>▁▆█</td></tr><tr><td>epoch/categorical_crossentropy</td><td>█▂▁</td></tr><tr><td>epoch/epoch</td><td>▁▅█</td></tr><tr><td>epoch/f1_score</td><td>▁▆█</td></tr><tr><td>epoch/learning_rate</td><td>█▄▁</td></tr><tr><td>epoch/loss</td><td>█▂▁</td></tr><tr><td>epoch/val_accuracy</td><td>▁▂█</td></tr><tr><td>epoch/val_categorical_crossentropy</td><td>█▃▁</td></tr><tr><td>epoch/val_f1_score</td><td>▁▃█</td></tr><tr><td>epoch/val_loss</td><td>█▃▁</td></tr></table><br/></div><div class=\"wandb-col\"><h3>Run summary:</h3><br/><table class=\"wandb\"><tr><td>Test Acc</td><td>0.77125</td></tr><tr><td>Test F1</td><td>0.77428</td></tr><tr><td>Test Precision</td><td>0.77431</td></tr><tr><td>Test Recall</td><td>0.78127</td></tr><tr><td>batch/accuracy</td><td>0.73831</td></tr><tr><td>batch/batch_step</td><td>418</td></tr><tr><td>batch/categorical_crossentropy</td><td>0.7404</td></tr><tr><td>batch/f1_score</td><td>0.74231</td></tr><tr><td>batch/learning_rate</td><td>0.0</td></tr><tr><td>batch/loss</td><td>0.7404</td></tr><tr><td>checkpoint</td><td>checkpoints/exp1_mod...</td></tr><tr><td>epoch/accuracy</td><td>0.73906</td></tr><tr><td>epoch/categorical_crossentropy</td><td>0.7393</td></tr><tr><td>epoch/epoch</td><td>2</td></tr><tr><td>epoch/f1_score</td><td>0.74304</td></tr><tr><td>epoch/learning_rate</td><td>0.0</td></tr><tr><td>epoch/loss</td><td>0.7393</td></tr><tr><td>epoch/val_accuracy</td><td>0.76429</td></tr><tr><td>epoch/val_categorical_crossentropy</td><td>0.66701</td></tr><tr><td>epoch/val_f1_score</td><td>0.76656</td></tr><tr><td>epoch/val_loss</td><td>0.66701</td></tr></table><br/></div></div>"
      ],
      "text/plain": [
       "<IPython.core.display.HTML object>"
      ]
     },
     "metadata": {},
     "output_type": "display_data"
    },
    {
     "data": {
      "text/html": [
       " View run <strong style=\"color:#cdcd00\">exp1_efficientnet</strong> at: <a href='https://wandb.ai/ycchung/mango-classification/runs/w9zz6r4m' target=\"_blank\">https://wandb.ai/ycchung/mango-classification/runs/w9zz6r4m</a><br/> View project at: <a href='https://wandb.ai/ycchung/mango-classification' target=\"_blank\">https://wandb.ai/ycchung/mango-classification</a><br/>Synced 5 W&B file(s), 0 media file(s), 3 artifact file(s) and 0 other file(s)"
      ],
      "text/plain": [
       "<IPython.core.display.HTML object>"
      ]
     },
     "metadata": {},
     "output_type": "display_data"
    },
    {
     "data": {
      "text/html": [
       "Find logs at: <code>./wandb/run-20240521_122321-w9zz6r4m/logs</code>"
      ],
      "text/plain": [
       "<IPython.core.display.HTML object>"
      ]
     },
     "metadata": {},
     "output_type": "display_data"
    }
   ],
   "source": [
    "model_names = ['resnet50', 'efficientnet']\n",
    "exp_prefix = 'exp1'\n",
    "for mname in model_names:\n",
    "    configs['model_name'] = mname\n",
    "    print(f'Start {exp_prefix} with model {configs[\"model_name\"]}...')\n",
    "    run = wandb.init(project='mango-classification', \n",
    "                name=f'{exp_prefix}_{configs[\"model_name\"]}',\n",
    "                config=configs)\n",
    "    CHECKPOINT = f\"checkpoints/{exp_prefix}_model_{configs['model_name']}.h5\"\n",
    "\n",
    "    \n",
    "    wandb_callbacks = [\n",
    "        WandbMetricsLogger(log_freq=2),\n",
    "        WandbModelCheckpoint(filepath=CHECKPOINT, \n",
    "                        monitor='val_f1_score', \n",
    "                        mode = 'max', \n",
    "                        save_best_only=True,\n",
    "                        save_weights_only=True,\n",
    "                        options=None, \n",
    "                        verbose=1),\n",
    "        LearningRateLogger(),\n",
    "    ]\n",
    "    wandb.run.summary['checkpoint'] = CHECKPOINT\n",
    "    # 讀資料\n",
    "    print(f'Loading the dataset....')\n",
    "    train_ds, val_ds, test_ds = load_train_val_test_ds()\n",
    "    #dftrain, dfval = get_train_val_dataframes(configs['train_csv'])\n",
    "    #dftest = get_test_dataframe(configs['test_csv'])\n",
    "    #train_ds = build_train_ds(dftrain)\n",
    "    #val_ds = build_train_ds(dfval)\n",
    "    #test_ds = build_test_ds(dftest)\n",
    "\n",
    "    total_train_steps = len(train_ds) * configs['epochs']\n",
    "    warmup_steps = int(total_train_steps * 0.10)\n",
    "    decay_steps = total_train_steps - warmup_steps\n",
    "    print(f\"{total_train_steps=}\")\n",
    "    print(f\"{warmup_steps=}\")\n",
    "    print(f\"{decay_steps=}\")\n",
    "    print('Constructing the model...')\n",
    "    model = create_model()\n",
    "    # 參考 https://www.kaggle.com/code/aritrag/kerascv-starter-notebook-train\n",
    "    cosine_decay = keras.optimizers.schedules.CosineDecay(\n",
    "            initial_learning_rate=configs['initial_learning_rate'],\n",
    "            decay_steps=decay_steps,\n",
    "            alpha=0.0,\n",
    "            warmup_target=configs['warmup_learning_rate'],\n",
    "            warmup_steps=warmup_steps,\n",
    "        )\n",
    "\n",
    "    optimizer = keras.optimizers.Adam(learning_rate=cosine_decay)\n",
    "\n",
    "    model.compile(optimizer=optimizer, loss=CategoricalCrossentropy(label_smoothing=0.1), \n",
    "            metrics=['accuracy', keras.metrics.CategoricalCrossentropy(label_smoothing=0.1), keras.metrics.F1Score(average='macro', dtype='float32')])\n",
    "\n",
    "\n",
    "    h = model.fit(train_ds, validation_data=val_ds, \n",
    "        epochs=configs['epochs'], callbacks=wandb_callbacks)\n",
    "    print('Evaluating the model...')\n",
    "\n",
    "    # load best model from CHECKPOINT\n",
    "    model.load_weights(CHECKPOINT)\n",
    "    # evaluate model\n",
    "    model.evaluate(test_ds) \n",
    "    # print test accuracy, f1 score\n",
    "    y_pred = model.predict(test_ds)\n",
    "    y_pred = np.argmax(y_pred, axis=1)\n",
    "    dftest = get_test_dataframe(configs['test_csv'])\n",
    "    y_true = dftest.label\n",
    "    accuracy = accuracy_score(y_true, y_pred)\n",
    "    recalls = recall_score(y_true, y_pred, average='macro')\n",
    "    precisions = precision_score(y_true, y_pred, average='macro')\n",
    "    f1 = f1_score(y_true, y_pred, average='macro')\n",
    "    print(f\"Test accuracy: {accuracy}\")\n",
    "    print(f\"Test f1 score: {f1}\")\n",
    "    print(f\"Test recall score: {recalls}\")\n",
    "    print(f'Test precision score: {precisions}')\n",
    "    print(h.history['lr'])\n",
    "    \n",
    "    wandb.run.summary['Test Acc'] = accuracy\n",
    "    wandb.run.summary['Test F1'] = f1\n",
    "    wandb.run.summary['Test Recall'] = recalls\n",
    "    wandb.run.summary['Test Precision'] = precisions\n",
    "    wandb.finish()\n",
    "    # clear all keras session to free memory\n",
    "    keras.backend.clear_session()\n",
    "    tf.keras.backend.clear_session()\n",
    "    tf.compat.v1.reset_default_graph()\n",
    "    tf.compat.v1.keras.backend.clear_session()\n",
    "    del model\n",
    "    del h\n",
    "    del train_ds\n",
    "    del val_ds\n",
    "    del test_ds\n",
    "    del dftest\n",
    "\n"
   ]
  }
 ],
 "metadata": {
  "kernelspec": {
   "display_name": "Python 3 (ipykernel)",
   "language": "python",
   "name": "python3"
  },
  "language_info": {
   "codemirror_mode": {
    "name": "ipython",
    "version": 3
   },
   "file_extension": ".py",
   "mimetype": "text/x-python",
   "name": "python",
   "nbconvert_exporter": "python",
   "pygments_lexer": "ipython3",
   "version": "3.10.12"
  }
 },
 "nbformat": 4,
 "nbformat_minor": 2
}
