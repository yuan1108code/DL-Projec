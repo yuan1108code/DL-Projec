{
 "cells": [
  {
   "cell_type": "markdown",
   "metadata": {},
   "source": [
    "## Sequential"
   ]
  },
  {
   "cell_type": "markdown",
   "metadata": {},
   "source": [
    "### No.1 模仿老師 MNIST 訓練模型 ( loss: 6.2804, accuracy: 0.2349 kaggle: 0.24220 )"
   ]
  },
  {
   "cell_type": "markdown",
   "metadata": {},
   "source": [
    "##### 詳細模型架構\n",
    "- num_Layer = 3 (32, 64, 128)\n",
    "  \n",
    "- kernel_size = (2, 2)\n",
    "  \n",
    "- BatchNormalization[o], dropout[x]\n",
    "\n",
    "- optimizer='adam' ( Learning Rate = 'default')\n",
    "\n",
    "- Epoch = 10"
   ]
  },
  {
   "cell_type": "markdown",
   "metadata": {},
   "source": [
    "##### 模型程式碼"
   ]
  },
  {
   "cell_type": "code",
   "execution_count": null,
   "metadata": {},
   "outputs": [],
   "source": [
    "# model = models.Sequential()\n",
    "# model.add(layers.Conv2D(filters = 32,\n",
    "#                         kernel_size = (2, 2),\n",
    "#                         input_shape = (img_height, img_width, 3),\n",
    "#                         padding = 'same',\n",
    "#                         kernel_regularizer = l2(L2),\n",
    "#                         ))\n",
    "# model.add(BatchNormalization())\n",
    "# model.add(Activation('relu'))\n",
    "# model.add(layers.MaxPooling2D(pool_size = 2))\n",
    "\n",
    "# model.add(Conv2D(filters = 64,\n",
    "#                  kernel_size=(2,2),\n",
    "#                  padding='same',\n",
    "#                  activation='relu'))\n",
    "# model.add(MaxPooling2D(pool_size = 2))\n",
    "\n",
    "# model.add(Conv2D(filters=128,\n",
    "#                  kernel_size=(2,2),\n",
    "#                  padding='same',\n",
    "#                  activation='relu'))\n",
    "# model.add(MaxPooling2D(pool_size=2))\n",
    "\n",
    "# model.add(layers.Flatten())\n",
    "# model.add(layers.Dense(512, activation='relu'))\n",
    "# model.add(layers.Dense(len(train_generator.class_indices), activation='softmax'))\n",
    "\n",
    "# model.summary()"
   ]
  },
  {
   "cell_type": "code",
   "execution_count": null,
   "metadata": {},
   "outputs": [],
   "source": [
    "# model.compile(optimizer='adam', loss='categorical_crossentropy', metrics=['accuracy'])"
   ]
  },
  {
   "cell_type": "code",
   "execution_count": null,
   "metadata": {},
   "outputs": [],
   "source": [
    "# history = model.fit(train_generator,\n",
    "#                     steps_per_epoch=train_generator.samples // train_generator.batch_size,\n",
    "#                     validation_steps=validation_generator.samples // validation_generator.batch_size,\n",
    "#                     epochs=10, validation_data=validation_generator, verbose = 1)"
   ]
  },
  {
   "cell_type": "markdown",
   "metadata": {},
   "source": [
    "### No.2 針對每一層使用  BatchNormalization() 處理 ( loss: 4.3759 accuracy: 0.0342 kaggle: 0.03007 )"
   ]
  },
  {
   "cell_type": "markdown",
   "metadata": {},
   "source": [
    "##### 詳細模型架構\n",
    "- num_Layer = 3 (32, 64, 128)\n",
    "  \n",
    "- kernel_size = (2, 2)\n",
    "  \n",
    "- BatchNormalization[o] (Every Layer), dropout[x]\n",
    "\n",
    "- optimizer='adam' ( Learning Rate = 'default')\n",
    "\n",
    "- Epoch = 10"
   ]
  },
  {
   "cell_type": "markdown",
   "metadata": {},
   "source": [
    "##### 模型程式碼"
   ]
  },
  {
   "cell_type": "code",
   "execution_count": null,
   "metadata": {},
   "outputs": [],
   "source": [
    "# model = models.Sequential()\n",
    "# model.add(layers.Conv2D(filters = 32,\n",
    "#                         kernel_size = (2, 2),\n",
    "#                         input_shape = (img_height, img_width, 3),\n",
    "#                         padding = 'same',\n",
    "#                         kernel_regularizer = l2(L2),\n",
    "#                         ))\n",
    "# model.add(BatchNormalization())\n",
    "# model.add(Activation('relu'))\n",
    "# model.add(layers.MaxPooling2D(pool_size = 2))\n",
    "\n",
    "# model.add(Conv2D(filters = 64,\n",
    "#                  kernel_size=(2,2),\n",
    "#                  padding='same',\n",
    "#                  ))\n",
    "# model.add(BatchNormalization())\n",
    "# model.add(Activation('relu'))\n",
    "# model.add(MaxPooling2D(pool_size = 2))\n",
    "\n",
    "# model.add(Conv2D(filters=128,\n",
    "#                  kernel_size=(2,2),\n",
    "#                  padding='same',\n",
    "#                 ))\n",
    "# model.add(BatchNormalization())\n",
    "# model.add(Activation('relu'))\n",
    "# model.add(MaxPooling2D(pool_size=2))\n",
    "\n",
    "# model.add(layers.Flatten())\n",
    "# model.add(layers.Dense(512, activation='relu'))\n",
    "# model.add(layers.Dense(len(train_generator.class_indices), activation='softmax'))\n",
    "\n",
    "# model.summary()"
   ]
  },
  {
   "cell_type": "markdown",
   "metadata": {},
   "source": [
    "### No.3 使用 Dropout() 避免過度擬和 ( loss: 3.8086 accuracy: 0.3300 kaggle: 0.31810 )"
   ]
  },
  {
   "cell_type": "markdown",
   "metadata": {},
   "source": [
    "##### 詳細模型架構\n",
    "- num_Layer = 3 (32, 64, 128)\n",
    "  \n",
    "- kernel_size = (2, 2)\n",
    "  \n",
    "- BatchNormalization[x], dropout[o] (Two_Layer = 0.2, 0.5)\n",
    "\n",
    "- optimizer='adam' ( Learning Rate = 'default')\n",
    "\n",
    "- Epoch = 10"
   ]
  },
  {
   "cell_type": "markdown",
   "metadata": {},
   "source": [
    "##### 模型程式碼"
   ]
  },
  {
   "cell_type": "code",
   "execution_count": null,
   "metadata": {},
   "outputs": [],
   "source": [
    "# model = models.Sequential()\n",
    "# model.add(layers.Conv2D(filters = 32,\n",
    "#                         kernel_size = (2, 2),\n",
    "#                         input_shape = (img_height, img_width, 3),\n",
    "#                         padding = 'same',\n",
    "#                         kernel_regularizer = l2(L2),\n",
    "#                         ))\n",
    "# model.add(Activation('relu'))\n",
    "# model.add(layers.MaxPooling2D(pool_size = 2))\n",
    "\n",
    "# model.add(Conv2D(filters = 64,\n",
    "#                  kernel_size=(2,2),\n",
    "#                  padding='same',\n",
    "#                  ))\n",
    "# model.add(Activation('relu'))\n",
    "# model.add(MaxPooling2D(pool_size = 2))\n",
    "\n",
    "# model.add(Conv2D(filters=128,\n",
    "#                  kernel_size=(2,2),\n",
    "#                  padding='same',\n",
    "#                 ))\n",
    "# model.add(Activation('relu'))\n",
    "# model.add(MaxPooling2D(pool_size=2))\n",
    "\n",
    "# model.add(Dropout(0.25, name = 'dropout_1'))\n",
    "\n",
    "# model.add(layers.Flatten())\n",
    "# model.add(layers.Dense(512, activation='relu'))\n",
    "# model.add(Dropout(0.5, name = 'dropout_2'))\n",
    "# model.add(layers.Dense(len(train_generator.class_indices), activation='softmax'))\n",
    "\n",
    "# model.summary()"
   ]
  },
  {
   "cell_type": "markdown",
   "metadata": {},
   "source": [
    "### No.4 調整 Filter 數目為原本模型一半 ( loss: 3.4314 accuracy: 0.2968 )"
   ]
  },
  {
   "cell_type": "markdown",
   "metadata": {},
   "source": [
    "##### 詳細模型架構\n",
    "- num_Layer = 3 (16, 32, 64)\n",
    "  \n",
    "- kernel_size = (2, 2)\n",
    "  \n",
    "- BatchNormalization[x], dropout[o] (Two_Layer = 0.2, 0.5)\n",
    "\n",
    "- optimizer='adam' ( Learning Rate = 'default')\n",
    "\n",
    "- Epoch = 10"
   ]
  },
  {
   "cell_type": "markdown",
   "metadata": {},
   "source": [
    "##### 模型程式碼"
   ]
  },
  {
   "cell_type": "code",
   "execution_count": null,
   "metadata": {},
   "outputs": [],
   "source": [
    "# model = models.Sequential()\n",
    "# model.add(layers.Conv2D(filters = 16,\n",
    "#                         kernel_size = (2, 2),\n",
    "#                         input_shape = (img_height, img_width, 3),\n",
    "#                         padding = 'same',\n",
    "#                         kernel_regularizer = l2(L2),\n",
    "#                         ))\n",
    "# model.add(Activation('relu'))\n",
    "# model.add(layers.MaxPooling2D(pool_size = 2))\n",
    "\n",
    "# model.add(Conv2D(filters = 32,\n",
    "#                  kernel_size=(2,2),\n",
    "#                  padding='same',\n",
    "#                  ))\n",
    "# model.add(Activation('relu'))\n",
    "# model.add(MaxPooling2D(pool_size = 2))\n",
    "\n",
    "# model.add(Conv2D(filters=64,\n",
    "#                  kernel_size=(2,2),\n",
    "#                  padding='same',\n",
    "#                 ))\n",
    "# model.add(Activation('relu'))\n",
    "# model.add(MaxPooling2D(pool_size=2))\n",
    "\n",
    "# model.add(Dropout(0.25, name = 'dropout_1'))\n",
    "\n",
    "# model.add(layers.Flatten())\n",
    "# model.add(layers.Dense(256, activation='relu'))\n",
    "# model.add(Dropout(0.5, name = 'dropout_2'))\n",
    "# model.add(layers.Dense(len(train_generator.class_indices), activation='softmax'))\n",
    "\n",
    "# model.summary()"
   ]
  },
  {
   "cell_type": "markdown",
   "metadata": {},
   "source": [
    "### No.5 調整 Adam 的設置 learning_rate=0.005 預設 ( loss: 4.1614 accuracy: 0.3017 kaggle: 0.28706 )"
   ]
  },
  {
   "cell_type": "markdown",
   "metadata": {},
   "source": [
    "##### 詳細模型架構\n",
    "- num_Layer = 3 (16, 32, 64)\n",
    "  \n",
    "- kernel_size = (2, 2)\n",
    "  \n",
    "- BatchNormalization[x], dropout[o] (Two_Layer = 0.25, 0.5)\n",
    "\n",
    "- optimizer='adam' ( Learning Rate = 0.005)\n",
    "\n",
    "- Epoch = 10"
   ]
  },
  {
   "cell_type": "markdown",
   "metadata": {},
   "source": [
    "##### 模型程式碼"
   ]
  },
  {
   "cell_type": "code",
   "execution_count": null,
   "metadata": {},
   "outputs": [],
   "source": [
    "# model = models.Sequential()\n",
    "# model.add(layers.Conv2D(filters = 16,\n",
    "#                         kernel_size = (2, 2),\n",
    "#                         input_shape = (img_height, img_width, 3),\n",
    "#                         padding = 'same',\n",
    "#                         kernel_regularizer = l2(L2),\n",
    "#                         ))\n",
    "# model.add(Activation('relu'))\n",
    "# model.add(layers.MaxPooling2D(pool_size = 2))\n",
    "\n",
    "# model.add(Conv2D(filters = 32,\n",
    "#                  kernel_size=(2,2),\n",
    "#                  padding='same',\n",
    "#                  ))\n",
    "# model.add(Activation('relu'))\n",
    "# model.add(MaxPooling2D(pool_size = 2))\n",
    "\n",
    "# model.add(Conv2D(filters=64,\n",
    "#                  kernel_size=(2,2),\n",
    "#                  padding='same',\n",
    "#                 ))\n",
    "# model.add(Activation('relu'))\n",
    "# model.add(MaxPooling2D(pool_size=2))\n",
    "\n",
    "# model.add(Dropout(0.25, name = 'dropout_1'))\n",
    "\n",
    "# model.add(layers.Flatten())\n",
    "# model.add(layers.Dense(256, activation='relu'))\n",
    "# model.add(Dropout(0.5, name = 'dropout_2'))\n",
    "# model.add(layers.Dense(len(train_generator.class_indices), activation='softmax'))\n",
    "\n",
    "# model.summary()"
   ]
  },
  {
   "cell_type": "code",
   "execution_count": null,
   "metadata": {},
   "outputs": [],
   "source": [
    "# opt = Adam(learning_rate=0.005)\n",
    "# model.compile(optimizer='adam', loss='categorical_crossentropy', metrics=['accuracy'])"
   ]
  },
  {
   "cell_type": "markdown",
   "metadata": {},
   "source": [
    "### No.6 調整 Dropout 均為 0.2 ( loss: 4.6227 accuracy: 0.2945 kaggle: 0.28642 )"
   ]
  },
  {
   "cell_type": "markdown",
   "metadata": {},
   "source": [
    "##### 詳細模型架構\n",
    "- num_Layer = 3 (16, 32, 64)\n",
    "  \n",
    "- kernel_size = (2, 2)\n",
    "  \n",
    "- BatchNormalization[x], dropout[o] (Two_Layer = 0.2, 0.2)\n",
    "\n",
    "- optimizer='adam' ( Learning Rate = 0.005)\n",
    "\n",
    "- Epoch = 10"
   ]
  },
  {
   "cell_type": "markdown",
   "metadata": {},
   "source": [
    "##### 模型程式碼"
   ]
  },
  {
   "cell_type": "code",
   "execution_count": null,
   "metadata": {},
   "outputs": [],
   "source": [
    "# model = models.Sequential()\n",
    "# model.add(layers.Conv2D(filters = 16,\n",
    "#                         kernel_size = (2, 2),\n",
    "#                         input_shape = (img_height, img_width, 3),\n",
    "#                         padding = 'same',\n",
    "#                         kernel_regularizer = l2(L2),\n",
    "#                         ))\n",
    "# # model.add(keras.layers.BatchNormalization(momentum=0.99,epsilon=0.001))\n",
    "# model.add(Activation('relu'))\n",
    "# model.add(layers.MaxPooling2D(pool_size = 2))\n",
    "\n",
    "# model.add(Conv2D(filters = 32,\n",
    "#                  kernel_size=(2,2),\n",
    "#                  padding='same',\n",
    "#                  ))\n",
    "# model.add(Activation('relu'))\n",
    "# model.add(MaxPooling2D(pool_size = 2))\n",
    "\n",
    "# model.add(Conv2D(filters=64,\n",
    "#                  kernel_size=(2,2),\n",
    "#                  padding='same',\n",
    "#                 ))\n",
    "# model.add(Activation('relu'))\n",
    "# model.add(MaxPooling2D(pool_size=2))\n",
    "\n",
    "# model.add(Dropout(0.2, name = 'dropout_1'))\n",
    "\n",
    "# model.add(layers.Flatten())\n",
    "# model.add(layers.Dense(256, activation='relu'))\n",
    "# model.add(Dropout(0.2, name = 'dropout_2'))\n",
    "# model.add(layers.Dense(len(train_generator.class_indices), activation='softmax'))\n",
    "\n",
    "# model.summary()"
   ]
  },
  {
   "cell_type": "code",
   "execution_count": null,
   "metadata": {},
   "outputs": [],
   "source": [
    "# opt = Adam(learning_rate=0.005)\n",
    "# model.compile(optimizer='adam', loss='categorical_crossentropy', metrics=['accuracy'])"
   ]
  },
  {
   "cell_type": "markdown",
   "metadata": {},
   "source": [
    "### No.7 每一層均使用 L2 正則化 0.005 (  loss: 3.9848 accuracy: 0.3208 kaggle: 0.31055 )"
   ]
  },
  {
   "cell_type": "markdown",
   "metadata": {},
   "source": [
    "##### 詳細模型架構\n",
    "- num_Layer = 3 (16, 32, 64), kernel_regularizer = L2 ( Every )\n",
    "  \n",
    "- kernel_size = (2, 2)\n",
    "  \n",
    "- BatchNormalization[x], dropout[o] (Two_Layer = 0.2, 0.2)\n",
    "\n",
    "- optimizer='adam' ( Learning Rate = 0.005)\n",
    "\n",
    "- Epoch = 10"
   ]
  },
  {
   "cell_type": "markdown",
   "metadata": {},
   "source": [
    "##### 模型程式碼"
   ]
  },
  {
   "cell_type": "code",
   "execution_count": null,
   "metadata": {},
   "outputs": [],
   "source": [
    "# model = models.Sequential()\n",
    "# model.add(layers.Conv2D(filters = 32,\n",
    "#                         kernel_size = (2, 2),\n",
    "#                         input_shape = (img_height, img_width, 3),\n",
    "#                         padding = 'same',\n",
    "#                         kernel_regularizer = l2(L2),\n",
    "#                         ))\n",
    "# # model.add(keras.layers.BatchNormalization(momentum=0.99,epsilon=0.001))\n",
    "# model.add(Activation('relu'))\n",
    "# model.add(layers.MaxPooling2D(pool_size = 2))\n",
    "\n",
    "# model.add(Conv2D(filters = 64,\n",
    "#                  kernel_size=(2,2),\n",
    "#                  padding='same',\n",
    "#                  kernel_regularizer = l2(L2),\n",
    "#                  ))\n",
    "# model.add(Activation('relu'))\n",
    "# model.add(MaxPooling2D(pool_size = 2))\n",
    "\n",
    "# model.add(Conv2D(filters = 128,\n",
    "#                  kernel_size=(2,2),\n",
    "#                  padding='same',\n",
    "#                  kernel_regularizer = l2(L2),\n",
    "#                 ))\n",
    "# model.add(Activation('relu'))\n",
    "# model.add(MaxPooling2D(pool_size=2))\n",
    "\n",
    "# model.add(Dropout(0.25 , name = 'dropout_1'))\n",
    "\n",
    "# model.add(layers.Flatten())\n",
    "# model.add(layers.Dense(512, activation='relu'))\n",
    "# model.add(Dropout(0.25, name = 'dropout_2'))\n",
    "# model.add(layers.Dense(len(train_generator.class_indices), activation='softmax'))\n",
    "\n",
    "# model.summary()"
   ]
  },
  {
   "cell_type": "markdown",
   "metadata": {},
   "source": [
    "### No.8 調整回原本 filter 數目 ( loss: 3.8246 accuracy: 0.3304 )"
   ]
  },
  {
   "cell_type": "markdown",
   "metadata": {},
   "source": [
    "##### 詳細模型架構\n",
    "- num_Layer = 3 (32, 64, 128), kernel_regularizer = L2 ( Every )\n",
    "  \n",
    "- kernel_size = (2, 2)\n",
    "  \n",
    "- BatchNormalization[x], dropout[o] (Two_Layer = 0.25, 0.25)\n",
    "\n",
    "- optimizer='adam' ( Learning Rate = 0.005)\n",
    "\n",
    "- Epoch = 10"
   ]
  },
  {
   "cell_type": "markdown",
   "metadata": {},
   "source": [
    "##### 模型程式碼"
   ]
  },
  {
   "cell_type": "code",
   "execution_count": null,
   "metadata": {},
   "outputs": [],
   "source": [
    "# model = models.Sequential()\n",
    "# model.add(layers.Conv2D(filters = 32,\n",
    "#                         kernel_size = (2, 2),\n",
    "#                         input_shape = (img_height, img_width, 3),\n",
    "#                         padding = 'same',\n",
    "#                         kernel_regularizer = l2(L2),\n",
    "#                         ))\n",
    "# # model.add(keras.layers.BatchNormalization(momentum=0.99,epsilon=0.001))\n",
    "# model.add(Activation('relu'))\n",
    "# model.add(layers.MaxPooling2D(pool_size = 2))\n",
    "\n",
    "# model.add(Conv2D(filters = 64,\n",
    "#                  kernel_size=(2,2),\n",
    "#                  padding='same',\n",
    "#                  kernel_regularizer = l2(L2),\n",
    "#                  ))\n",
    "# model.add(Activation('relu'))\n",
    "# model.add(MaxPooling2D(pool_size = 2))\n",
    "\n",
    "# model.add(Conv2D(filters = 128,\n",
    "#                  kernel_size=(2,2),\n",
    "#                  padding='same',\n",
    "#                  kernel_regularizer = l2(L2),\n",
    "#                 ))\n",
    "# model.add(Activation('relu'))\n",
    "# model.add(MaxPooling2D(pool_size=2))\n",
    "\n",
    "# model.add(Dropout(0.25 , name = 'dropout_1'))\n",
    "\n",
    "# model.add(layers.Flatten())\n",
    "# model.add(layers.Dense(512, activation='relu'))\n",
    "# model.add(Dropout(0.25, name = 'dropout_2'))\n",
    "# model.add(layers.Dense(len(train_generator.class_indices), activation='softmax'))\n",
    "\n",
    "# model.summary()"
   ]
  },
  {
   "cell_type": "markdown",
   "metadata": {},
   "source": [
    "### No.9 新增一層 Layer ( loss: 3.1881 - accuracy: 0.3504 )"
   ]
  },
  {
   "cell_type": "markdown",
   "metadata": {},
   "source": [
    "##### 詳細模型架構\n",
    "- num_Layer = 4 (32, 64, 128, 256), kernel_regularizer = L2 ( Every )\n",
    "  \n",
    "- kernel_size = (2, 2)\n",
    "  \n",
    "- BatchNormalization[x], dropout[o] (Two_Layer = 0.25, 0.25)\n",
    "\n",
    "- optimizer='adam' ( Learning Rate = 0.005)\n",
    "\n",
    "- Epoch = 10"
   ]
  },
  {
   "cell_type": "markdown",
   "metadata": {},
   "source": [
    "##### 模型程式碼"
   ]
  },
  {
   "cell_type": "code",
   "execution_count": null,
   "metadata": {},
   "outputs": [],
   "source": [
    "# model = models.Sequential()\n",
    "# model.add(layers.Conv2D(filters = 32,\n",
    "#                         kernel_size = (2, 2),\n",
    "#                         input_shape = (img_height, img_width, 3),\n",
    "#                         padding = 'same',\n",
    "#                         kernel_regularizer = l2(L2),\n",
    "#                         ))\n",
    "# # model.add(keras.layers.BatchNormalization(momentum=0.99,epsilon=0.001))\n",
    "# model.add(Activation('relu'))\n",
    "# model.add(layers.MaxPooling2D(pool_size = 2))\n",
    "\n",
    "# model.add(Conv2D(filters = 64,\n",
    "#                  kernel_size=(2,2),\n",
    "#                  padding='same',\n",
    "#                  kernel_regularizer = l2(L2),\n",
    "#                  ))\n",
    "# model.add(Activation('relu'))\n",
    "# model.add(MaxPooling2D(pool_size = 2))\n",
    "\n",
    "# model.add(Conv2D(filters = 128,\n",
    "#                  kernel_size=(2,2),\n",
    "#                  padding='same',\n",
    "#                  kernel_regularizer = l2(L2),\n",
    "#                 ))\n",
    "# model.add(Activation('relu'))\n",
    "# model.add(MaxPooling2D(pool_size=2))\n",
    "\n",
    "# model.add(Conv2D(filters = 256,\n",
    "#                  kernel_size=(2,2),\n",
    "#                  padding='same',\n",
    "#                  kernel_regularizer = l2(L2),\n",
    "#                 ))\n",
    "# model.add(Activation('relu'))\n",
    "# model.add(MaxPooling2D(pool_size=2))\n",
    "\n",
    "# model.add(Dropout(0.25 , name = 'dropout_1'))\n",
    "\n",
    "# model.add(layers.Flatten())\n",
    "# model.add(layers.Dense(512, activation='relu'))\n",
    "# model.add(Dropout(0.25, name = 'dropout_2'))\n",
    "# model.add(layers.Dense(len(train_generator.class_indices), activation='softmax'))\n",
    "\n",
    "# model.summary()"
   ]
  },
  {
   "cell_type": "markdown",
   "metadata": {},
   "source": [
    "### No.10 使用一層 Dropout 且設定 0.5 ( loss: 2.7622 accuracy: 0.3682 )"
   ]
  },
  {
   "cell_type": "markdown",
   "metadata": {},
   "source": [
    "##### 詳細模型架構\n",
    "- num_Layer = 4 (32, 64, 128, 256), kernel_regularizer = L2 ( Every )\n",
    "  \n",
    "- kernel_size = (2, 2)\n",
    "  \n",
    "- BatchNormalization[x], dropout[o] (Two_Layer = 0.25, 0.5)\n",
    "\n",
    "- optimizer='adam' ( Learning Rate = 0.005)\n",
    "\n",
    "- Epoch = 10"
   ]
  },
  {
   "cell_type": "markdown",
   "metadata": {},
   "source": [
    "##### 模型程式碼"
   ]
  },
  {
   "cell_type": "code",
   "execution_count": null,
   "metadata": {},
   "outputs": [],
   "source": [
    "# model = models.Sequential()\n",
    "# model.add(layers.Conv2D(filters = 32,\n",
    "#                         kernel_size = (2, 2),\n",
    "#                         input_shape = (img_height, img_width, 3),\n",
    "#                         padding = 'same',\n",
    "#                         kernel_regularizer = l2(L2),\n",
    "#                         ))\n",
    "# # model.add(BatchNormalization())\n",
    "# model.add(Activation('relu'))\n",
    "# model.add(layers.MaxPooling2D(pool_size = 2))\n",
    "\n",
    "# model.add(Conv2D(filters = 64,\n",
    "#                  kernel_size=(2,2),\n",
    "#                  padding='same',\n",
    "#                  kernel_regularizer = l2(L2),\n",
    "#                  ))\n",
    "# # model.add(BatchNormalization())\n",
    "# model.add(Activation('relu'))\n",
    "# model.add(MaxPooling2D(pool_size = 2))\n",
    "\n",
    "# model.add(Conv2D(filters = 128,\n",
    "#                  kernel_size=(2,2),\n",
    "#                  padding='same',\n",
    "#                  kernel_regularizer = l2(L2),\n",
    "#                 ))\n",
    "# # model.add(BatchNormalization())\n",
    "# model.add(Activation('relu'))\n",
    "# model.add(MaxPooling2D(pool_size=2))\n",
    "\n",
    "# model.add(Conv2D(filters = 256,\n",
    "#                  kernel_size=(2,2),\n",
    "#                  padding='same',\n",
    "#                  kernel_regularizer = l2(L2),\n",
    "#                 ))\n",
    "# # model.add(BatchNormalization())\n",
    "# model.add(Activation('relu'))\n",
    "# model.add(MaxPooling2D(pool_size=2))\n",
    "\n",
    "# # model.add(Dropout(0.25 , name = 'dropout_1'))\n",
    "\n",
    "# model.add(layers.Flatten())\n",
    "# model.add(layers.Dense(512, activation='relu'))\n",
    "# model.add(Dropout(0.5, name = 'dropout_2'))\n",
    "# model.add(layers.Dense(len(train_generator.class_indices), activation='softmax'))\n",
    "\n",
    "# model.summary()"
   ]
  },
  {
   "cell_type": "markdown",
   "metadata": {},
   "source": [
    "### No.11 使用兩倍的 fileter 數目 ( accuracy: 0.3425 loss: 3.2193 kaggle: 0.32727)"
   ]
  },
  {
   "cell_type": "markdown",
   "metadata": {},
   "source": [
    "##### 詳細模型架構\n",
    "- num_Layer = 4 (64, 128, 256, 512), kernel_regularizer = L2 ( Every )\n",
    "  \n",
    "- kernel_size = (2, 2)\n",
    "  \n",
    "- BatchNormalization[x], dropout[o] (One_Layer = , 0.5)\n",
    "\n",
    "- optimizer='adam' ( Learning Rate = 0.01)\n",
    "\n",
    "- Epoch = 10"
   ]
  },
  {
   "cell_type": "markdown",
   "metadata": {},
   "source": [
    "##### 模型程式碼"
   ]
  },
  {
   "cell_type": "code",
   "execution_count": 1,
   "metadata": {},
   "outputs": [],
   "source": [
    "# model = models.Sequential()\n",
    "# model.add(layers.Conv2D(filters = 64,\n",
    "#                         kernel_size = (2, 2),\n",
    "#                         input_shape = (img_height, img_width, 3),\n",
    "#                         padding = 'same',\n",
    "#                         kernel_regularizer = l2(L2),\n",
    "#                         ))\n",
    "# # model.add(BatchNormalization())\n",
    "# model.add(Activation('relu'))\n",
    "# model.add(layers.MaxPooling2D(pool_size = 2))\n",
    "# # model.add(Dropout(0.1 , name = 'dropout_1'))\n",
    "\n",
    "# model.add(Conv2D(filters = 128,\n",
    "#                  kernel_size=(2,2),\n",
    "#                  padding='same',\n",
    "#                  kernel_regularizer = l2(L2),\n",
    "#                  ))\n",
    "# # model.add(BatchNormalization())\n",
    "# model.add(Activation('relu'))\n",
    "# model.add(MaxPooling2D(pool_size = 2))\n",
    "# # model.add(Dropout(0.1 , name = 'dropout_2'))\n",
    "\n",
    "# model.add(Conv2D(filters = 256,\n",
    "#                  kernel_size=(2,2),\n",
    "#                  padding='same',\n",
    "#                  kernel_regularizer = l2(L2),\n",
    "#                 ))\n",
    "# # model.add(BatchNormalization())\n",
    "# model.add(Activation('relu'))\n",
    "# model.add(MaxPooling2D(pool_size=2))\n",
    "# # model.add(Dropout(0.1 , name = 'dropout_3'))\n",
    "\n",
    "# model.add(Conv2D(filters = 512,\n",
    "#                  kernel_size=(2,2),\n",
    "#                  padding='same',\n",
    "#                  kernel_regularizer = l2(L2),\n",
    "#                 ))\n",
    "# # model.add(BatchNormalization())\n",
    "# model.add(Activation('relu'))\n",
    "# model.add(MaxPooling2D(pool_size=2))\n",
    "\n",
    "# # model.add(Dropout(0.25 , name = 'dropout_1'))\n",
    "\n",
    "# model.add(layers.Flatten())\n",
    "# model.add(layers.Dense(512, activation='relu'))\n",
    "# model.add(Dropout(0.5, name = 'dropout_5'))\n",
    "# model.add(layers.Dense(len(train_generator.class_indices), activation='softmax'))\n",
    "\n",
    "# model.summary()"
   ]
  },
  {
   "cell_type": "markdown",
   "metadata": {},
   "source": [
    "### No.12 調整 Leraning Rate ( accuracy: 0.3083 loss: 2.8778 )"
   ]
  },
  {
   "cell_type": "markdown",
   "metadata": {},
   "source": [
    "##### 詳細模型架構\n",
    "- num_Layer = 4 (64, 128, 256, 512), kernel_regularizer = L2 ( Every )\n",
    "  \n",
    "- kernel_size = (2, 2)\n",
    "  \n",
    "- BatchNormalization[x], dropout[o] (One_Layer = , 0.5)\n",
    "\n",
    "- optimizer='adam' ( Learning Rate = 0.05)\n",
    "\n",
    "- Epoch = 10"
   ]
  },
  {
   "cell_type": "markdown",
   "metadata": {},
   "source": [
    "### No.13 使用 Warmup ( 效果蠻差的 )"
   ]
  },
  {
   "cell_type": "markdown",
   "metadata": {},
   "source": [
    "##### 詳細模型架構\n",
    "- num_Layer = 3 (32, 64, 128), kernel_regularizer = L2 ( Every )\n",
    "  \n",
    "- kernel_size = (2, 2)\n",
    "  \n",
    "- BatchNormalization[x], dropout[o] (One_Layer = , 0.5)\n",
    "\n",
    "- optimizer='adam' ( Learning Rate = 0.005)\n",
    "\n",
    "- Epoch = 10"
   ]
  },
  {
   "cell_type": "code",
   "execution_count": null,
   "metadata": {},
   "outputs": [],
   "source": [
    "# model = models.Sequential()\n",
    "# model.add(layers.Conv2D(filters = 32,\n",
    "#                         kernel_size = (2, 2),\n",
    "#                         input_shape = INPUT_SHAPE,\n",
    "#                         padding = 'same',\n",
    "#                         kernel_regularizer = l2(L2),\n",
    "#                         ))\n",
    "# # model.add(BatchNormalization())\n",
    "# model.add(Activation('relu'))\n",
    "# model.add(layers.MaxPooling2D(pool_size = 2))\n",
    "# # model.add(Dropout(0.5 , name = 'dropout_1'))\n",
    "\n",
    "# model.add(Conv2D(filters = 64,\n",
    "#                  kernel_size=(2,2),\n",
    "#                  padding='same',\n",
    "#                  kernel_regularizer = l2(L2),\n",
    "#                  ))\n",
    "# # model.add(BatchNormalization())\n",
    "# model.add(Activation('relu'))\n",
    "# model.add(MaxPooling2D(pool_size = 2))\n",
    "# # model.add(Dropout(0.5 , name = 'dropout_2'))\n",
    "\n",
    "# model.add(Conv2D(filters = 128,\n",
    "#                  kernel_size=(2,2),\n",
    "#                  padding='same',\n",
    "#                  kernel_regularizer = l2(L2),\n",
    "#                 ))\n",
    "# # model.add(BatchNormalization())\n",
    "# model.add(Activation('relu'))\n",
    "# model.add(MaxPooling2D(pool_size=2))\n",
    "# # model.add(Dropout(0.5 , name = 'dropout_3'))\n",
    "\n",
    "# # model.add(Conv2D(filters = 256,\n",
    "# #                  kernel_size=(2,2),\n",
    "# #                  padding='same',\n",
    "# #                  kernel_regularizer = l2(L2),\n",
    "# #                 ))\n",
    "# # model.add(BatchNormalization())\n",
    "# # model.add(Activation('relu'))\n",
    "# # model.add(MaxPooling2D(pool_size=2))\n",
    "\n",
    "# # model.add(Dropout(0.25 , name = 'dropout_1'))\n",
    "\n",
    "# model.add(layers.Flatten())\n",
    "# model.add(layers.Dense(512, activation='relu'))\n",
    "# model.add(Dropout(0.5, name = 'dropout_5'))\n",
    "# # model.add(BatchNormalization())\n",
    "# model.add(layers.Dense(len(train_generator.class_indices), activation='softmax'))\n",
    "\n",
    "# model.summary()"
   ]
  },
  {
   "cell_type": "markdown",
   "metadata": {},
   "source": [
    "### No.16 層數對稱排列 (None)"
   ]
  },
  {
   "cell_type": "code",
   "execution_count": 3,
   "metadata": {},
   "outputs": [],
   "source": [
    "# model.add(Conv2D(filters=32, kernel_size=3, strides=1, padding='same', activation='relu', input_shape=[150, 150, 3]))\n",
    "# model.add(MaxPooling2D(2))\n",
    "# model.add(Conv2D(filters=64, kernel_size=3, strides=1, padding='same', activation='relu'))\n",
    "# model.add(MaxPooling2D(2))\n",
    "# model.add(Conv2D(filters=128, kernel_size=3, strides=1, padding='same', activation='relu'))\n",
    "# model.add(MaxPooling2D(2))\n",
    "# model.add(Conv2D(filters=64, kernel_size=3, strides=1, padding='same', activation='relu'))\n",
    "# model.add(MaxPooling2D(2))\n",
    "# model.add(Conv2D(filters=32, kernel_size=3, strides=1, padding='same', activation='relu'))\n",
    "# model.add(MaxPooling2D(2))\n",
    "# # Flatten the feature map\n",
    "# model.add(Flatten())\n",
    "# # Add the fully connected layers\n",
    "# model.add(Dense(128, activation='relu'))\n",
    "# model.add(Dropout(0.25))\n",
    "# model.add(Dense(128, activation='relu'))\n",
    "# model.add(Dense(100, activation='softmax'))"
   ]
  },
  {
   "cell_type": "markdown",
   "metadata": {},
   "source": [
    "## MobilenetV2"
   ]
  },
  {
   "cell_type": "markdown",
   "metadata": {},
   "source": [
    "### No.17 使用 MobileNetV2 模型"
   ]
  },
  {
   "cell_type": "markdown",
   "metadata": {},
   "source": [
    "##### 詳細模型架構\n",
    "\n",
    "- optimizer='adam' ( Learning Rate = 0.05)\n",
    "\n",
    "- Epoch = 10"
   ]
  },
  {
   "cell_type": "code",
   "execution_count": null,
   "metadata": {},
   "outputs": [],
   "source": [
    "# from tensorflow.keras.applications.mobilenet_v2 import MobileNetV2\n",
    "\n",
    "# base = MobileNetV2(weights = 'imagenet', include_top = False, input_shape = INPUT_SHAPE)\n",
    "# tf.keras.backend.clear_session()\n",
    "    \n",
    "# for layer in base.layers:\n",
    "#     layer.trainable =  False\n",
    "\n",
    "# model = Sequential()\n",
    "# model.add(base)\n",
    "# model.add(GlobalAveragePooling2D())\n",
    "\n",
    "# model.add(Dense(256, activation='relu'))\n",
    "# model.add(Dropout(0.1))\n",
    "\n",
    "# model.add(Dense(256, activation='relu'))\n",
    "# model.add(Dropout(0.1))\n",
    "# model.add(Dense(len(train_generator.class_indices), activation='softmax'))\n",
    "# model.summary()"
   ]
  },
  {
   "cell_type": "code",
   "execution_count": null,
   "metadata": {},
   "outputs": [],
   "source": [
    "# lrs=get_lr_callback()\n",
    "# history = model.fit(train_generator,\n",
    "#                     validation_data=validation_generator,\n",
    "# #                     steps_per_epoch=train_generator.samples // train_generator.batch_size,\n",
    "# #                     validation_steps=validation_generator.samples // validation_generator.batch_size,\n",
    "#                     epochs=1, \n",
    "# #                     callbacks=[lrs],\n",
    "#                     verbose = 1)"
   ]
  },
  {
   "cell_type": "markdown",
   "metadata": {},
   "source": [
    "### No.18 使用 MobileNetV2 模型 with Warmup ( accuracy: 0.0675 - loss: 4.3848 )"
   ]
  },
  {
   "cell_type": "markdown",
   "metadata": {},
   "source": [
    "##### 詳細模型架構\n",
    "\n",
    "- base + 2 Layer (Dropout (0.1))\n",
    "\n",
    "- optimizer='adam' ( Learning Rate = 0.05)\n",
    "\n",
    "- Epoch = 10"
   ]
  },
  {
   "cell_type": "code",
   "execution_count": null,
   "metadata": {},
   "outputs": [],
   "source": [
    "# from tensorflow.keras.applications.mobilenet_v2 import MobileNetV2\n",
    "\n",
    "# base = MobileNetV2(weights = 'imagenet', include_top = False, input_shape = INPUT_SHAPE)\n",
    "# tf.keras.backend.clear_session()\n",
    "    \n",
    "# for layer in base.layers:\n",
    "#     layer.trainable =  False\n",
    "\n",
    "# model = Sequential()\n",
    "# model.add(base)\n",
    "# model.add(GlobalAveragePooling2D())\n",
    "\n",
    "# model.add(Dense(256, activation='relu'))\n",
    "# model.add(Dropout(0.1))\n",
    "\n",
    "# model.add(Dense(256, activation='relu'))\n",
    "# model.add(Dropout(0.1))\n",
    "# model.add(Dense(len(train_generator.class_indices), activation='softmax'))\n",
    "# model.summary()"
   ]
  },
  {
   "cell_type": "code",
   "execution_count": null,
   "metadata": {},
   "outputs": [],
   "source": [
    "# inir_lr = 0.005\n",
    "# opt = Adam(learning_rate= inir_lr)\n",
    "# model.compile(loss='categorical_crossentropy', optimizer=opt, metrics=['accuracy'])"
   ]
  },
  {
   "cell_type": "code",
   "execution_count": null,
   "metadata": {},
   "outputs": [],
   "source": [
    "# lrs=get_lr_callback()\n",
    "# history = model.fit(train_generator,\n",
    "#                     validation_data=validation_generator,\n",
    "# #                     steps_per_epoch=train_generator.samples // train_generator.batch_size,\n",
    "# #                     validation_steps=validation_generator.samples // validation_generator.batch_size,\n",
    "#                     epochs=10, \n",
    "#                     callbacks=my_callbacks,\n",
    "#                     verbose = 1)"
   ]
  },
  {
   "cell_type": "markdown",
   "metadata": {},
   "source": []
  },
  {
   "cell_type": "markdown",
   "metadata": {},
   "source": [
    "### No.20 使用 MobileNetV2 模型 Dropout(0.1) (accuracy: 0.3097 loss: 2.9265)"
   ]
  },
  {
   "cell_type": "markdown",
   "metadata": {},
   "source": [
    "##### 詳細模型架構\n",
    "\n",
    "- base + 2 Layer (Dropout (0.1))\n",
    "\n",
    "- optimizer='adam' ( Learning Rate = 0.005)\n",
    "\n",
    "- Epoch = 10"
   ]
  },
  {
   "cell_type": "code",
   "execution_count": 4,
   "metadata": {},
   "outputs": [],
   "source": [
    "# from tensorflow.keras.applications.mobilenet_v2 import MobileNetV2\n",
    "\n",
    "# base = MobileNetV2(weights = 'imagenet', include_top = False, input_shape = INPUT_SHAPE)\n",
    "# tf.keras.backend.clear_session()\n",
    "    \n",
    "# for layer in base.layers:\n",
    "#     layer.trainable =  False\n",
    "\n",
    "# model = Sequential()\n",
    "# model.add(base)\n",
    "# model.add(GlobalAveragePooling2D())\n",
    "\n",
    "# model.add(Dense(256, activation='relu'))\n",
    "# model.add(Dropout(0.5))\n",
    "\n",
    "# model.add(Dense(256, activation='relu'))\n",
    "# model.add(Dropout(0.5))\n",
    "# model.add(Dense(len(train_generator.class_indices), activation='softmax'))\n",
    "# model.summary()"
   ]
  },
  {
   "cell_type": "markdown",
   "metadata": {},
   "source": [
    "### No.21 使用 MobileNetV2 模型 Dropout(0.2) (accuracy: 0.6193 loss: 1.3611 kaggle: 0.70311)"
   ]
  },
  {
   "cell_type": "markdown",
   "metadata": {},
   "source": [
    "##### 詳細模型架構\n",
    "- BSIZE = 64\n",
    "\n",
    "- base + 2 Layer (Dropout (0.2))\n",
    "\n",
    "- optimizer='adam' ( Learning Rate = 0.005)\n",
    "\n",
    "- Epoch = 10"
   ]
  },
  {
   "cell_type": "code",
   "execution_count": 1,
   "metadata": {},
   "outputs": [],
   "source": [
    "# base = tf.keras.applications.mobilenet_v2.MobileNetV2(weights = 'imagenet', include_top = False, input_shape = INPUT_SHAPE)\n",
    "# tf.keras.backend.clear_session()\n",
    "    \n",
    "# for layer in base.layers:\n",
    "#     layer.trainable =  False\n",
    "\n",
    "# model = Sequential()\n",
    "# model.add(base)\n",
    "# model.add(GlobalAveragePooling2D())\n",
    "\n",
    "# model.add(Dense(256, activation='relu'))\n",
    "# model.add(Dropout(0.2))\n",
    "\n",
    "# model.add(Dense(256, activation='relu'))\n",
    "# model.add(Dropout(0.2))\n",
    "# model.add(Dense(len(train_generator.class_indices), activation='softmax'))\n",
    "# model.summary()"
   ]
  },
  {
   "cell_type": "markdown",
   "metadata": {},
   "source": [
    "### No.25 使用 MobileNetV2 模型 調整 filter 數目 ( 效果沒有比較好 )"
   ]
  },
  {
   "cell_type": "code",
   "execution_count": null,
   "metadata": {},
   "outputs": [],
   "source": [
    "# base = tf.keras.applications.mobilenet_v2.MobileNetV2(weights = 'imagenet', include_top = False, input_shape = INPUT_SHAPE)\n",
    "# tf.keras.backend.clear_session()\n",
    "    \n",
    "# for layer in base.layers:\n",
    "#     layer.trainable =  False\n",
    "\n",
    "# model = Sequential()\n",
    "# model.add(base)\n",
    "# model.add(GlobalAveragePooling2D())\n",
    "\n",
    "# # model.add(BatchNormalization(axis= -1, momentum= 0.99, epsilon= 0.001))\n",
    "# model.add(Dense(512, activation='relu', kernel_regularizer = l2(L2)))\n",
    "# model.add(Dropout(0.2))\n",
    "\n",
    "# model.add(Dense(512, activation='relu', kernel_regularizer = l2(L2)))\n",
    "# model.add(Dropout(0.2))\n",
    "\n",
    "# model.add(Dense(len(train_generator.class_indices), activation='softmax'))\n",
    "# model.summary()"
   ]
  },
  {
   "cell_type": "markdown",
   "metadata": {},
   "source": [
    "### No.22 使用 MobileNetV2 模型 ( 1 Layer ) (accuracy: 0.5551 loss: 1.6889 kaggle: 0.63493)"
   ]
  },
  {
   "cell_type": "markdown",
   "metadata": {},
   "source": [
    "##### 詳細模型架構\n",
    "- BSIZE = 64\n",
    "\n",
    "- base + 1 Layer (Dropout (0.2))\n",
    "\n",
    "- optimizer='adam' ( Learning Rate = 0.005)\n",
    "\n",
    "- Epoch = 10"
   ]
  },
  {
   "cell_type": "code",
   "execution_count": null,
   "metadata": {},
   "outputs": [],
   "source": [
    "# base = tf.keras.applications.mobilenet_v2.MobileNetV2(weights = 'imagenet', include_top = False, input_shape = INPUT_SHAPE)\n",
    "# tf.keras.backend.clear_session()\n",
    "    \n",
    "# for layer in base.layers:\n",
    "#     layer.trainable =  False\n",
    "\n",
    "# model = Sequential()\n",
    "# model.add(base)\n",
    "# model.add(GlobalAveragePooling2D())\n",
    "\n",
    "# model.add(Dense(512, activation='relu'))\n",
    "# model.add(Dropout(0.2))\n",
    "\n",
    "# model.add(Dense(len(train_generator.class_indices), activation='softmax'))\n",
    "# model.summary()"
   ]
  },
  {
   "cell_type": "markdown",
   "metadata": {},
   "source": [
    "### No.24 使用 MobileNetV2 模型 Dropout(0.3) (0.5405 loss: 1.7502 kaggle: 0.62)"
   ]
  },
  {
   "cell_type": "code",
   "execution_count": null,
   "metadata": {},
   "outputs": [],
   "source": [
    "# base = tf.keras.applications.mobilenet_v2.MobileNetV2(weights = 'imagenet', include_top = False, input_shape = INPUT_SHAPE)\n",
    "# tf.keras.backend.clear_session()\n",
    "    \n",
    "# for layer in base.layers:\n",
    "#     layer.trainable =  False\n",
    "\n",
    "# model = Sequential()\n",
    "# model.add(base)\n",
    "# model.add(GlobalAveragePooling2D())\n",
    "\n",
    "# model.add(Dense(512, activation='relu'))\n",
    "# model.add(Dropout(0.3))\n",
    "\n",
    "# model.add(Dense(len(train_generator.class_indices), activation='softmax'))\n",
    "# model.summary()"
   ]
  },
  {
   "cell_type": "code",
   "execution_count": null,
   "metadata": {},
   "outputs": [],
   "source": [
    "# opt = Adam(learning_rate = LR)\n",
    "# model.compile(loss='categorical_crossentropy', optimizer=opt, metrics=['accuracy'])\n",
    "# history = model.fit(train_generator,\n",
    "#                     validation_data=validation_generator,\n",
    "#                     epochs=EPOCHS, \n",
    "# #                   steps_per_epoch=train_generator.samples // train_generator.batch_size,\n",
    "# #                   validation_steps=validation_generator.samples // validation_generator.batch_size,\n",
    "#                     callbacks=my_callbacks,\n",
    "#                     verbose = 1)"
   ]
  },
  {
   "cell_type": "markdown",
   "metadata": {},
   "source": [
    "### No.25 使用 MobileNetV2 模型 調整 filter 數目 ( 效果沒有比較好 )"
   ]
  },
  {
   "cell_type": "code",
   "execution_count": null,
   "metadata": {},
   "outputs": [],
   "source": [
    "# base = tf.keras.applications.mobilenet_v2.MobileNetV2(weights = 'imagenet', include_top = False, input_shape = INPUT_SHAPE)\n",
    "# tf.keras.backend.clear_session()\n",
    "    \n",
    "# for layer in base.layers:\n",
    "#     layer.trainable =  False\n",
    "\n",
    "# model = Sequential()\n",
    "# model.add(base)\n",
    "# model.add(GlobalAveragePooling2D())\n",
    "\n",
    "# # model.add(BatchNormalization(axis= -1, momentum= 0.99, epsilon= 0.001))\n",
    "# model.add(Dense(256, activation='relu', kernel_regularizer = l2(L2)))\n",
    "# model.add(Dropout(0.2))\n",
    "\n",
    "# model.add(Dense(len(train_generator.class_indices), activation='softmax'))\n",
    "# model.summary()"
   ]
  },
  {
   "cell_type": "markdown",
   "metadata": {},
   "source": [
    "### 使用 MobileNetV2 模型 ( 更改全域變數) (accuracy: 0.6684 loss: 1.3281 kaggle: 0.73399) "
   ]
  },
  {
   "cell_type": "markdown",
   "metadata": {},
   "source": [
    "##### 詳細模型架構\n",
    "- L2 = 0.0001\n",
    "\n",
    "- BSIZE = 64\n",
    "\n",
    "- base + 1 Layer (Dropout (0.2))\n",
    "\n",
    "- optimizer='adam' ( Learning Rate = 0.001)\n",
    "\n",
    "- Epoch = 10"
   ]
  },
  {
   "cell_type": "code",
   "execution_count": null,
   "metadata": {},
   "outputs": [],
   "source": [
    "# from tensorflow.keras.applications.mobilenet_v2 import MobileNetV2\n",
    "\n",
    "# base = MobileNetV2(weights = 'imagenet', include_top = False, input_shape = INPUT_SHAPE)\n",
    "    \n",
    "# for layer in base.layers:\n",
    "#     layer.trainable =  False\n",
    "\n",
    "# model = Sequential()\n",
    "# model.add(base)\n",
    "# model.add(GlobalAveragePooling2D())\n",
    "\n",
    "\n",
    "# model.add(Dense(512, activation='relu', kernel_regularizer=l2(1e-4)))\n",
    "# model.add(BatchNormalization())\n",
    "# model.add(Dropout(0.2))\n",
    "\n",
    "# model.add(Dense(512, activation='relu', kernel_regularizer=l2(1e-4)))\n",
    "# model.add(BatchNormalization())\n",
    "# model.add(Dropout(0.2))\n",
    "# model.summary()"
   ]
  },
  {
   "cell_type": "markdown",
   "metadata": {},
   "source": [
    "## MobileNetV3"
   ]
  },
  {
   "cell_type": "markdown",
   "metadata": {},
   "source": [
    "#### MobileNetV3Small ( 效果蠻差的 )"
   ]
  },
  {
   "cell_type": "code",
   "execution_count": null,
   "metadata": {},
   "outputs": [],
   "source": [
    "# base = tf.keras.applications.MobileNetV3Small(weights = 'imagenet', include_top = False, input_shape = INPUT_SHAPE)\n",
    "# for layer in base.layers:\n",
    "#     layer.trainable =  False\n",
    "\n",
    "# model = Sequential()\n",
    "# model.add(base)\n",
    "# model.add(GlobalAveragePooling2D())\n",
    "\n",
    "# model.add(Dense(256, activation='relu', kernel_regularizer=l2(L2)))\n",
    "# model.add(BatchNormalization())\n",
    "# model.add(Dropout(0.2))\n",
    "\n",
    "# model.add(Dense(256, activation='relu', kernel_regularizer=l2(L2)))\n",
    "# model.add(BatchNormalization())\n",
    "# model.add(Dropout(0.2))\n",
    "\n",
    "# model.add(Dense(len(train_generator.class_indices), activation='softmax'))\n",
    "# model.summary()"
   ]
  },
  {
   "cell_type": "markdown",
   "metadata": {},
   "source": [
    "#### MobileNetV3Large ( 效果蠻差的 )"
   ]
  },
  {
   "cell_type": "code",
   "execution_count": 1,
   "metadata": {},
   "outputs": [],
   "source": [
    "# base = tf.keras.applications.MobileNetV3Large(weights = 'imagenet', include_top = False, input_shape = INPUT_SHAPE)\n",
    "# for layer in base.layers:\n",
    "#     layer.trainable =  False\n",
    "\n",
    "# model = Sequential()\n",
    "# model.add(base)\n",
    "# model.add(GlobalAveragePooling2D())\n",
    "\n",
    "# model.add(Dense(256, activation='relu', kernel_regularizer=l2(L2)))\n",
    "# model.add(BatchNormalization())\n",
    "# model.add(Dropout(0.2))\n",
    "\n",
    "# model.add(Dense(256, activation='relu', kernel_regularizer=l2(L2)))\n",
    "# model.add(BatchNormalization())\n",
    "# model.add(Dropout(0.2))\n",
    "\n",
    "# model.add(Dense(len(train_generator.class_indices), activation='softmax'))\n",
    "# model.summary()"
   ]
  },
  {
   "cell_type": "markdown",
   "metadata": {},
   "source": [
    "## VGG"
   ]
  },
  {
   "cell_type": "markdown",
   "metadata": {},
   "source": [
    "### VGG16 模型 (accuracy: 0.6633  loss: 1.3100 kaggle: 0.74059)"
   ]
  },
  {
   "cell_type": "code",
   "execution_count": null,
   "metadata": {},
   "outputs": [],
   "source": [
    "# img_height = 224\n",
    "# img_width = 224\n",
    "# INPUT_SHAPE = (img_height, img_width, 3)\n",
    "\n",
    "# BSIZE = 64\n",
    "# L2 = 0.0001\n",
    "\n",
    "# EPOCHS = 10\n",
    "# LR = 0.001\n",
    "# base = tf.keras.applications.VGG16(weights = 'imagenet', include_top = False, input_shape = INPUT_SHAPE)\n",
    "# for layer in base.layers:\n",
    "#     layer.trainable =  False\n",
    "\n",
    "# model = Sequential()\n",
    "# model.add(base)\n",
    "# model.add(GlobalAveragePooling2D())\n",
    "\n",
    "# model.add(Dense(256, activation='relu', kernel_regularizer=l2(L2)))\n",
    "# model.add(BatchNormalization())\n",
    "# model.add(Dropout(0.2))\n",
    "\n",
    "# model.add(Dense(256, activation='relu', kernel_regularizer=l2(L2)))\n",
    "# model.add(BatchNormalization())\n",
    "# model.add(Dropout(0.2))\n",
    "\n",
    "# model.add(Dense(len(train_generator.class_indices), activation='softmax'))\n",
    "# model.summary()"
   ]
  },
  {
   "cell_type": "markdown",
   "metadata": {},
   "source": [
    "### VGG16 ( 尚未測試 )"
   ]
  },
  {
   "cell_type": "code",
   "execution_count": null,
   "metadata": {},
   "outputs": [],
   "source": [
    "# base_model = VGG16(weights=\"imagenet\", include_top=False, input_shape=(224,224,3))\n",
    "\n",
    "# # Freeze the base model layers (optional, can be fine-tuned later)\n",
    "# for layer in base_model.layers:\n",
    "#     layer.trainable = False\n",
    "\n",
    "# # Add custom layers for classification\n",
    "# x = base_model.output\n",
    "# x = GlobalAveragePooling2D()(x)\n",
    "# x = Dense(512,activation='relu')(x)\n",
    "# x = Dense(512,activation='relu')(x)\n",
    "# x = Dropout(0.2)(x)\n",
    "# predictions = Dense(100,activation=\"softmax\")(x)  # Adjust output size for 500 species\n",
    "\n",
    "# # Create the final model\n",
    "# model_vgg16 = Model(inputs=base_model.input, outputs=predictions)\n",
    "# model_vgg16.summary()\n"
   ]
  },
  {
   "cell_type": "markdown",
   "metadata": {},
   "source": [
    "### VGG11 模型 ( 尚未測試 )"
   ]
  },
  {
   "cell_type": "code",
   "execution_count": null,
   "metadata": {},
   "outputs": [],
   "source": [
    "# model = models.vgg11(weights=models.VGG11_Weights.IMAGENET1K_V1)\n",
    "# torch.manual_seed(42)\n",
    "# model.classifier[6] = nn.Linear(model.classifier[6].in_features, num_labels, bias=True)\n",
    "# model = model.to(device)\n",
    "# print(\"Number of trainable parameters -\", sum(p.numel() for p in model.parameters() if p.requires_grad))"
   ]
  },
  {
   "cell_type": "markdown",
   "metadata": {},
   "source": [
    "## EfficientNet"
   ]
  },
  {
   "cell_type": "markdown",
   "metadata": {},
   "source": [
    "### EfficientNet_B0 模型 ( 效果蠻差的 )"
   ]
  },
  {
   "cell_type": "code",
   "execution_count": null,
   "metadata": {},
   "outputs": [],
   "source": [
    "# base =  tf.keras.applications.EfficientNetB0(weights = 'imagenet', include_top = False, input_shape = INPUT_SHAPE)\n",
    "\n",
    "# for layer in base.layers:\n",
    "#     layer.trainable =  False\n",
    "\n",
    "# model = Sequential()\n",
    "# model.add(base)\n",
    "# model.add(GlobalAveragePooling2D())\n",
    "\n",
    "# model.add(Dense(256, activation='relu', kernel_regularizer=l2(L2)))\n",
    "# model.add(BatchNormalization())\n",
    "# model.add(Dropout(0.2))\n",
    "\n",
    "# model.add(Dense(256, activation='relu', kernel_regularizer=l2(L2)))\n",
    "# model.add(BatchNormalization())\n",
    "# model.add(Dropout(0.2))\n",
    "\n",
    "# model.add(Dense(len(train_generator.class_indices), activation='softmax'))\n",
    "# model.summary()"
   ]
  },
  {
   "cell_type": "markdown",
   "metadata": {},
   "source": [
    "### EfficientNet_B1 模型 ( 尚未測試 )"
   ]
  },
  {
   "cell_type": "code",
   "execution_count": null,
   "metadata": {},
   "outputs": [],
   "source": [
    "# model = models.efficientnet_b1(weights=models.EfficientNet_B1_Weights.IMAGENET1K_V2)\n",
    "# torch.manual_seed(42)\n",
    "# model.classifier[1] = nn.Linear(model.classifier[1].in_features, num_labels, bias=True)\n",
    "# model = model.to(device)\n",
    "# print(\"Number of trainable parameters -\", sum(p.numel() for p in model.parameters() if p.requires_grad))"
   ]
  },
  {
   "cell_type": "markdown",
   "metadata": {},
   "source": [
    "效果不好"
   ]
  },
  {
   "cell_type": "code",
   "execution_count": null,
   "metadata": {},
   "outputs": [],
   "source": [
    "# base =  tf.keras.applications.EfficientNetB1(weights = 'imagenet', include_top = False, input_shape = INPUT_SHAPE)\n",
    "\n",
    "# for layer in base.layers:\n",
    "#     layer.trainable =  False\n",
    "\n",
    "# model = Sequential()\n",
    "# model.add(base)\n",
    "# model.add(GlobalAveragePooling2D())\n",
    "\n",
    "# model.add(Dense(256, activation='relu', kernel_regularizer=l2(L2)))\n",
    "# model.add(BatchNormalization())\n",
    "# model.add(Dropout(0.2))\n",
    "\n",
    "# model.add(Dense(256, activation='relu', kernel_regularizer=l2(L2)))\n",
    "# model.add(BatchNormalization())\n",
    "# model.add(Dropout(0.2))\n",
    "\n",
    "# model.add(Dense(len(train_generator.class_indices), activation='softmax'))\n",
    "# model.summary()"
   ]
  },
  {
   "cell_type": "markdown",
   "metadata": {},
   "source": [
    "### EffientNetB3 ( 尚未測試 )"
   ]
  },
  {
   "cell_type": "code",
   "execution_count": null,
   "metadata": {},
   "outputs": [],
   "source": [
    "# base_model = tf.keras.applications.efficientnet.EfficientNetB3(include_top= False, weights= \"imagenet\", input_shape= img_shape, pooling= 'max')\n",
    "\n",
    "# model = Sequential([\n",
    "#     base_model,\n",
    "#     BatchNormalization(axis= -1, momentum= 0.99, epsilon= 0.001),\n",
    "#     Dense(256, kernel_regularizer= regularizers.l2(l= 0.016), activity_regularizer= regularizers.l1(0.006),\n",
    "#                 bias_regularizer= regularizers.l1(0.006), activation= 'relu'),\n",
    "#     Dropout(rate= 0.45, seed= 123),\n",
    "#     Dense(class_count, activation= 'softmax')\n",
    "# ])"
   ]
  },
  {
   "cell_type": "markdown",
   "metadata": {},
   "source": [
    "## Resnet"
   ]
  },
  {
   "cell_type": "markdown",
   "metadata": {},
   "source": [
    "### Resnet18 模型 ( 效果不好 )"
   ]
  },
  {
   "cell_type": "code",
   "execution_count": null,
   "metadata": {},
   "outputs": [],
   "source": [
    "# model = models.resnet18(weights=models.ResNet18_Weights.IMAGENET1K_V1)\n",
    "# torch.manual_seed(42)\n",
    "# model.fc = nn.Linear(model.fc.in_features, num_labels)\n",
    "# model = model.to(device)\n",
    "# print(\"Number of trainable parameters -\", sum(p.numel() for p in model.parameters() if p.requires_grad))"
   ]
  },
  {
   "cell_type": "markdown",
   "metadata": {},
   "source": [
    "### Resnet50 模型 ( 效果不好 )"
   ]
  },
  {
   "cell_type": "code",
   "execution_count": null,
   "metadata": {},
   "outputs": [],
   "source": [
    "# preprocess_input = keras.applications.resnet50.preprocess_input\n",
    "# base_model = keras.applications.ResNet50(input_shape=(224,224,3), include_top=False, weights=\"imagenet\")"
   ]
  },
  {
   "cell_type": "code",
   "execution_count": null,
   "metadata": {},
   "outputs": [],
   "source": [
    "# base_model=ResNet50(weights=\"imagenet\",include_top=False,input_shape=(180,180,3))\n",
    "\n",
    "# for layer in base_model.layers:\n",
    "#   layer.trainable = False\n",
    "\n",
    "\n",
    "# x = Flatten()(base_model.output)\n",
    "# x = Dense(256, activation='relu')(x)\n",
    "# output = Dense(100, activation='softmax')(x)\n",
    "\n",
    "# model_resnet50 = Model(inputs=base_model.input, outputs=output)\n"
   ]
  },
  {
   "cell_type": "code",
   "execution_count": null,
   "metadata": {},
   "outputs": [],
   "source": [
    "# base_model = ResNet50(weights=\"imagenet\", include_top=False, input_shape=(224,224,3))\n",
    "\n",
    "# # Freeze the base model layers (optional, can be fine-tuned later)\n",
    "# for layer in base_model.layers:\n",
    "#     layer.trainable = False\n",
    "\n",
    "# # Add custom layers for classification\n",
    "# x = base_model.output\n",
    "# x = GlobalAveragePooling2D()(x)\n",
    "# x = Dense(256,activation='relu')(x)\n",
    "# x = Dropout(0.2)(x)\n",
    "# predictions = Dense(100,activation=\"softmax\")(x)  # Adjust output size for 500 species\n",
    "\n",
    "# # Create the final model\n",
    "# model = Model(inputs=base_model.input, outputs=predictions)\n",
    "\n",
    "# # model.summary()\n"
   ]
  },
  {
   "cell_type": "markdown",
   "metadata": {},
   "source": [
    "## Xception"
   ]
  },
  {
   "cell_type": "markdown",
   "metadata": {},
   "source": [
    "Xception ( accuracy: 0.6216 loss: 1.5054 kaggle: 0.71920)"
   ]
  },
  {
   "cell_type": "code",
   "execution_count": null,
   "metadata": {},
   "outputs": [],
   "source": [
    "# base = keras.applications.Xception(weights = 'imagenet', include_top = False, input_shape = INPUT_SHAPE)\n",
    "# for layer in base.layers:\n",
    "#     layer.trainable =  False\n",
    "\n",
    "# model = Sequential()\n",
    "# model.add(base)\n",
    "# model.add(GlobalAveragePooling2D())\n",
    "\n",
    "# model.add(Dense(256, activation='relu', kernel_regularizer=l2(L2)))\n",
    "# model.add(BatchNormalization())\n",
    "# model.add(Dropout(0.2))\n",
    "\n",
    "# model.add(Dense(256, activation='relu', kernel_regularizer=l2(L2)))\n",
    "# model.add(BatchNormalization())\n",
    "# model.add(Dropout(0.2))\n",
    "\n",
    "# model.add(Dense(len(train_generator.class_indices), activation='softmax'))\n",
    "# model.summary()"
   ]
  },
  {
   "cell_type": "code",
   "execution_count": null,
   "metadata": {},
   "outputs": [],
   "source": [
    "# base_model_xception = Xception(weights='imagenet', include_top=False, input_shape=(224,224,3))\n",
    "# # Create a Sequential model\n",
    "# model_xception = Sequential()\n",
    "\n",
    "# # Adding the Xception base model\n",
    "# model_xception.add(base_model_xception)\n",
    "\n",
    "# # Adding Global Average Pooling 2D layer\n",
    "# model_xception.add(GlobalAveragePooling2D())\n",
    "\n",
    "# # Adding a Dense layer with 1024 units and 'relu' activation\n",
    "# # model_xception.add(Dense(1024, activation='relu'))\n",
    "\n",
    "# # Adding Dropout layer with a dropout rate of 0.5\n",
    "# model_xception.add(Dropout(0.25))\n",
    "\n",
    "# # Adding another Dense layer with 512 units and 'relu' activation\n",
    "# # model_xception.add(Dense(512, activation='relu'))\n",
    "\n",
    "# # Adding Dropout layer with a dropout rate of 0.3\n",
    "# # model_xception.add(Dropout(0.3))\n",
    "\n",
    "# # Adding the final Dense layer with 100 units and 'softmax' activation\n",
    "# model_xception.add(Dense(100, activation='softmax'))"
   ]
  },
  {
   "cell_type": "markdown",
   "metadata": {},
   "source": [
    "## DenseNet201"
   ]
  },
  {
   "cell_type": "markdown",
   "metadata": {},
   "source": [
    "#### DenseNet201 ( accuracy: 0.7266 loss: 1.0236 kaggle: 0.79800)"
   ]
  },
  {
   "cell_type": "code",
   "execution_count": null,
   "metadata": {},
   "outputs": [],
   "source": [
    "# base = keras.applications.DenseNet201(weights = 'imagenet', include_top = False, input_shape = INPUT_SHAPE)\n",
    "# for layer in base.layers:\n",
    "#     layer.trainable =  False\n",
    "\n",
    "# model = Sequential()\n",
    "# model.add(base)\n",
    "# model.add(GlobalAveragePooling2D())\n",
    "\n",
    "# model.add(Dense(256, activation='relu', kernel_regularizer=l2(L2)))\n",
    "# model.add(BatchNormalization())\n",
    "# model.add(Dropout(0.2))\n",
    "\n",
    "# model.add(Dense(256, activation='relu', kernel_regularizer=l2(L2)))\n",
    "# model.add(BatchNormalization())\n",
    "# model.add(Dropout(0.2))\n",
    "\n",
    "# model.add(Dense(len(train_generator.class_indices), activation='softmax'))\n",
    "# model.summary()"
   ]
  },
  {
   "cell_type": "markdown",
   "metadata": {},
   "source": [
    "#### DenseNet201 ( kaggle: 0.81247)"
   ]
  },
  {
   "cell_type": "code",
   "execution_count": null,
   "metadata": {},
   "outputs": [],
   "source": [
    "# base = keras.applications.DenseNet201(weights = 'imagenet', include_top = False, input_shape = INPUT_SHAPE)\n",
    "# for layer in base.layers:\n",
    "#     layer.trainable =  False\n",
    "\n",
    "# model = Sequential()\n",
    "# model.add(base)\n",
    "# model.add(GlobalAveragePooling2D())\n",
    "# model.add(Dropout(0.2))\n",
    "# model.add(BatchNormalization())\n",
    "\n",
    "# model.add(Dense(512, activation='selu', kernel_regularizer=l2(L2)))\n",
    "# model.add(Dropout(0.2))\n",
    "\n",
    "# model.add(Dense(256, activation='selu', kernel_regularizer=l2(L2)))\n",
    "# model.add(Dropout(0.2))\n",
    "# model.add(BatchNormalization())\n",
    "\n",
    "# model.add(Dense(len(train_generator.class_indices), activation='softmax'))\n",
    "# model.summary()\n"
   ]
  },
  {
   "cell_type": "markdown",
   "metadata": {},
   "source": [
    "#### DenseNet201 (kaggle: 0.84432)"
   ]
  },
  {
   "cell_type": "code",
   "execution_count": null,
   "metadata": {},
   "outputs": [],
   "source": [
    "# base = keras.applications.DenseNet201(weights = 'imagenet', include_top = False, input_shape = INPUT_SHAPE)\n",
    "# for layer in base.layers:\n",
    "#     layer.trainable =  False\n",
    "\n",
    "# model = Sequential()\n",
    "# model.add(base)\n",
    "# model.add(GlobalAveragePooling2D())\n",
    "# model.add(Dropout(0.2))\n",
    "# model.add(BatchNormalization())\n",
    "\n",
    "# model.add(Dense(512, activation='selu', kernel_regularizer=l2(L2)))\n",
    "# model.add(Dropout(0.2))\n",
    "\n",
    "# model.add(Dense(256, activation='selu', kernel_regularizer=l2(L2)))\n",
    "# model.add(Dropout(0.2))\n",
    "# model.add(BatchNormalization())\n",
    "\n",
    "# model.add(Dense(len(train_generator.class_indices), activation='softmax'))\n",
    "# model.summary()\n"
   ]
  },
  {
   "cell_type": "code",
   "execution_count": null,
   "metadata": {},
   "outputs": [],
   "source": [
    "# total_train_steps = len(train_generator) * EPOCHS\n",
    "# warmup_steps = int(total_train_steps * 0.10)\n",
    "# decay_steps = total_train_steps - warmup_steps\n",
    "\n",
    "# cosine_decay = keras.optimizers.schedules.CosineDecay(\n",
    "#             initial_learning_rate=LR,\n",
    "#             decay_steps=decay_steps,\n",
    "#             alpha=0.0,\n",
    "#             warmup_target=WARMUP_LR,\n",
    "#             warmup_steps=warmup_steps,\n",
    "#         )\n",
    "# opt = keras.optimizers.Adam(learning_rate=cosine_decay)\n",
    "\n",
    "# from keras.losses import CategoricalCrossentropy\n",
    "\n",
    "# model.compile(optimizer=opt, \n",
    "#               loss=CategoricalCrossentropy(label_smoothing=0.1), \n",
    "#               metrics=['accuracy', keras.metrics.CategoricalCrossentropy(label_smoothing=0.1), keras.metrics.F1Score(average='macro', dtype='float32')])\n",
    "\n",
    "# history = model.fit(train_generator,\n",
    "#                     validation_data=validation_generator,\n",
    "#                     epochs=EPOCHS, \n",
    "# #                   steps_per_epoch=train_generator.samples // train_generator.batch_size,\n",
    "# #                   validation_steps=validation_generator.samples // validation_generator.batch_size,\n",
    "#                     callbacks=my_callbacks,\n",
    "#                     verbose = 1)"
   ]
  },
  {
   "cell_type": "markdown",
   "metadata": {},
   "source": [
    "### DenseNet201 ( kaggle: 0.84046 )"
   ]
  },
  {
   "cell_type": "code",
   "execution_count": 1,
   "metadata": {},
   "outputs": [],
   "source": [
    "# base = keras.applications.DenseNet201(weights = 'imagenet', include_top = False, input_shape = INPUT_SHAPE)\n",
    "# for layer in base.layers:\n",
    "#     layer.trainable =  False\n",
    "\n",
    "# model = Sequential()\n",
    "# model.add(base)\n",
    "# model.add(GlobalAveragePooling2D())\n",
    "# model.add(Dropout(0.25))\n",
    "# model.add(BatchNormalization())\n",
    "\n",
    "# model.add(Dense(512, activation='selu', kernel_regularizer=l2(L2)))\n",
    "# model.add(Dropout(0.25))\n",
    "\n",
    "# model.add(Dense(256, activation='selu', kernel_regularizer=l2(L2)))\n",
    "# model.add(Dropout(0.25))\n",
    "# model.add(BatchNormalization())\n",
    "\n",
    "# model.add(Dense(len(train_generator.class_indices), activation='softmax'))\n",
    "# model.summary()\n"
   ]
  },
  {
   "cell_type": "markdown",
   "metadata": {},
   "source": [
    "# 效果最好的兩個樣本"
   ]
  },
  {
   "cell_type": "markdown",
   "metadata": {},
   "source": [
    "### DenseNet201 ( kaggle: 0.84046 )"
   ]
  },
  {
   "cell_type": "markdown",
   "metadata": {},
   "source": [
    "##### 詳細模型架構\n",
    "- L2 = 0.0001\n",
    "\n",
    "- BSIZE = 64\n",
    "\n",
    "- base + 1 Layer (Dropout (0.2))\n",
    "\n",
    "- optimizer='adam' ( Learning Rate = 0.001)\n",
    "\n",
    "- Epoch = 10"
   ]
  },
  {
   "cell_type": "code",
   "execution_count": null,
   "metadata": {},
   "outputs": [],
   "source": [
    "# from tensorflow.keras.applications.mobilenet_v2 import MobileNetV2\n",
    "\n",
    "# base = MobileNetV2(weights = 'imagenet', include_top = False, input_shape = INPUT_SHAPE)\n",
    "    \n",
    "# for layer in base.layers:\n",
    "#     layer.trainable =  False\n",
    "\n",
    "# model = Sequential()\n",
    "# model.add(base)\n",
    "# model.add(GlobalAveragePooling2D())\n",
    "\n",
    "\n",
    "# model.add(Dense(512, activation='relu', kernel_regularizer=l2(1e-4)))\n",
    "# model.add(BatchNormalization())\n",
    "# model.add(Dropout(0.2))\n",
    "\n",
    "# model.add(Dense(512, activation='relu', kernel_regularizer=l2(1e-4)))\n",
    "# model.add(BatchNormalization())\n",
    "# model.add(Dropout(0.2))\n",
    "# model.summary()"
   ]
  },
  {
   "cell_type": "markdown",
   "metadata": {},
   "source": [
    "### Dense201 ( kaggle: 0.84432)"
   ]
  },
  {
   "cell_type": "markdown",
   "metadata": {},
   "source": [
    "##### 詳細模型架構\n",
    "- L2 = 0.0001\n",
    "\n",
    "- BSIZE = 64\n",
    "\n",
    "- base + 1 Layer (Dropout (0.2))\n",
    "\n",
    "- optimizer='adam' ( Learning Rate = 0.001)\n",
    "\n",
    "- Epoch = 20"
   ]
  },
  {
   "cell_type": "code",
   "execution_count": null,
   "metadata": {},
   "outputs": [],
   "source": [
    "# base = keras.applications.DenseNet201(weights = 'imagenet', include_top = False, input_shape = INPUT_SHAPE)\n",
    "# for layer in base.layers:\n",
    "#     layer.trainable =  False\n",
    "\n",
    "# model = Sequential()\n",
    "# model.add(base)\n",
    "# model.add(GlobalAveragePooling2D())\n",
    "# model.add(Dropout(0.2))\n",
    "# model.add(BatchNormalization())\n",
    "\n",
    "# model.add(Dense(512, activation='selu', kernel_regularizer=l2(L2)))\n",
    "# model.add(Dropout(0.2))\n",
    "\n",
    "# model.add(Dense(256, activation='selu', kernel_regularizer=l2(L2)))\n",
    "# model.add(Dropout(0.2))\n",
    "# model.add(BatchNormalization())\n",
    "\n",
    "# model.add(Dense(len(train_generator.class_indices), activation='softmax'))\n",
    "# model.summary()"
   ]
  },
  {
   "cell_type": "code",
   "execution_count": null,
   "metadata": {},
   "outputs": [],
   "source": [
    "# total_train_steps = len(train_generator) * EPOCHS\n",
    "# warmup_steps = int(total_train_steps * 0.10)\n",
    "# decay_steps = total_train_steps - warmup_steps\n",
    "\n",
    "# cosine_decay = keras.optimizers.schedules.CosineDecay(\n",
    "#             initial_learning_rate=LR,\n",
    "#             decay_steps=decay_steps,\n",
    "#             alpha=0.0,\n",
    "#             warmup_target=WARMUP_LR,\n",
    "#             warmup_steps=warmup_steps,\n",
    "#         )\n",
    "# opt = keras.optimizers.Adam(learning_rate=cosine_decay)\n",
    "\n",
    "# from keras.losses import CategoricalCrossentropy\n",
    "\n",
    "# model.compile(optimizer=opt, \n",
    "#               loss=CategoricalCrossentropy(label_smoothing=0.1), \n",
    "#               metrics=['accuracy', keras.metrics.CategoricalCrossentropy(label_smoothing=0.1), keras.metrics.F1Score(average='macro', dtype='float32')])\n",
    "\n",
    "# history = model.fit(train_generator,\n",
    "#                     validation_data=validation_generator,\n",
    "#                     epochs=EPOCHS, \n",
    "# #                   steps_per_epoch=train_generator.samples // train_generator.batch_size,\n",
    "# #                   validation_steps=validation_generator.samples // validation_generator.batch_size,\n",
    "#                     callbacks=my_callbacks,\n",
    "#                     verbose = 1)"
   ]
  }
 ],
 "metadata": {
  "kernelspec": {
   "display_name": "Python 3",
   "language": "python",
   "name": "python3"
  },
  "language_info": {
   "codemirror_mode": {
    "name": "ipython",
    "version": 3
   },
   "file_extension": ".py",
   "mimetype": "text/x-python",
   "name": "python",
   "nbconvert_exporter": "python",
   "pygments_lexer": "ipython3",
   "version": "3.11.5"
  }
 },
 "nbformat": 4,
 "nbformat_minor": 2
}
