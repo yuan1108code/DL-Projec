{
 "cells": [
  {
   "cell_type": "markdown",
   "metadata": {},
   "source": [
    "### No.1 模仿老師 MNIST 訓練模型 ( loss: 6.2804, accuracy: 0.2349 kaggle: 0.24220 )"
   ]
  },
  {
   "cell_type": "markdown",
   "metadata": {},
   "source": [
    "##### 詳細模型架構\n",
    "- num_Layer = 3 (32, 64, 128)\n",
    "  \n",
    "- kernel_size = (2, 2)\n",
    "  \n",
    "- BatchNormalization[o], dropout[x]\n",
    "\n",
    "- optimizer='adam' ( Learning Rate = 'default')\n",
    "\n",
    "- Epoch = 10"
   ]
  },
  {
   "cell_type": "markdown",
   "metadata": {},
   "source": [
    "##### 模型程式碼"
   ]
  },
  {
   "cell_type": "code",
   "execution_count": null,
   "metadata": {},
   "outputs": [],
   "source": [
    "# model = models.Sequential()\n",
    "# model.add(layers.Conv2D(filters = 32,\n",
    "#                         kernel_size = (2, 2),\n",
    "#                         input_shape = (img_height, img_width, 3),\n",
    "#                         padding = 'same',\n",
    "#                         kernel_regularizer = l2(L2),\n",
    "#                         ))\n",
    "# model.add(BatchNormalization())\n",
    "# model.add(Activation('relu'))\n",
    "# model.add(layers.MaxPooling2D(pool_size = 2))\n",
    "\n",
    "# model.add(Conv2D(filters = 64,\n",
    "#                  kernel_size=(2,2),\n",
    "#                  padding='same',\n",
    "#                  activation='relu'))\n",
    "# model.add(MaxPooling2D(pool_size = 2))\n",
    "\n",
    "# model.add(Conv2D(filters=128,\n",
    "#                  kernel_size=(2,2),\n",
    "#                  padding='same',\n",
    "#                  activation='relu'))\n",
    "# model.add(MaxPooling2D(pool_size=2))\n",
    "\n",
    "# model.add(layers.Flatten())\n",
    "# model.add(layers.Dense(512, activation='relu'))\n",
    "# model.add(layers.Dense(len(train_generator.class_indices), activation='softmax'))\n",
    "\n",
    "# model.summary()"
   ]
  },
  {
   "cell_type": "code",
   "execution_count": null,
   "metadata": {},
   "outputs": [],
   "source": [
    "# model.compile(optimizer='adam', loss='categorical_crossentropy', metrics=['accuracy'])"
   ]
  },
  {
   "cell_type": "code",
   "execution_count": null,
   "metadata": {},
   "outputs": [],
   "source": [
    "# history = model.fit(train_generator,\n",
    "#                     steps_per_epoch=train_generator.samples // train_generator.batch_size,\n",
    "#                     validation_steps=validation_generator.samples // validation_generator.batch_size,\n",
    "#                     epochs=10, validation_data=validation_generator, verbose = 1)"
   ]
  },
  {
   "cell_type": "markdown",
   "metadata": {},
   "source": [
    "### No.2 針對每一層使用  BatchNormalization() 處理 ( loss: 4.3759 accuracy: 0.0342 kaggle: 0.03007 )"
   ]
  },
  {
   "cell_type": "markdown",
   "metadata": {},
   "source": [
    "##### 詳細模型架構\n",
    "- num_Layer = 3 (32, 64, 128)\n",
    "  \n",
    "- kernel_size = (2, 2)\n",
    "  \n",
    "- BatchNormalization[o] (Every Layer), dropout[x]\n",
    "\n",
    "- optimizer='adam' ( Learning Rate = 'default')\n",
    "\n",
    "- Epoch = 10"
   ]
  },
  {
   "cell_type": "markdown",
   "metadata": {},
   "source": [
    "##### 模型程式碼"
   ]
  },
  {
   "cell_type": "code",
   "execution_count": null,
   "metadata": {},
   "outputs": [],
   "source": [
    "# model = models.Sequential()\n",
    "# model.add(layers.Conv2D(filters = 32,\n",
    "#                         kernel_size = (2, 2),\n",
    "#                         input_shape = (img_height, img_width, 3),\n",
    "#                         padding = 'same',\n",
    "#                         kernel_regularizer = l2(L2),\n",
    "#                         ))\n",
    "# model.add(BatchNormalization())\n",
    "# model.add(Activation('relu'))\n",
    "# model.add(layers.MaxPooling2D(pool_size = 2))\n",
    "\n",
    "# model.add(Conv2D(filters = 64,\n",
    "#                  kernel_size=(2,2),\n",
    "#                  padding='same',\n",
    "#                  ))\n",
    "# model.add(BatchNormalization())\n",
    "# model.add(Activation('relu'))\n",
    "# model.add(MaxPooling2D(pool_size = 2))\n",
    "\n",
    "# model.add(Conv2D(filters=128,\n",
    "#                  kernel_size=(2,2),\n",
    "#                  padding='same',\n",
    "#                 ))\n",
    "# model.add(BatchNormalization())\n",
    "# model.add(Activation('relu'))\n",
    "# model.add(MaxPooling2D(pool_size=2))\n",
    "\n",
    "# model.add(layers.Flatten())\n",
    "# model.add(layers.Dense(512, activation='relu'))\n",
    "# model.add(layers.Dense(len(train_generator.class_indices), activation='softmax'))\n",
    "\n",
    "# model.summary()"
   ]
  },
  {
   "cell_type": "markdown",
   "metadata": {},
   "source": [
    "### No.3 使用 Dropout() 避免過度擬和 ( loss: 3.8086 accuracy: 0.3300 kaggle: 0.31810 )"
   ]
  },
  {
   "cell_type": "markdown",
   "metadata": {},
   "source": [
    "##### 詳細模型架構\n",
    "- num_Layer = 3 (32, 64, 128)\n",
    "  \n",
    "- kernel_size = (2, 2)\n",
    "  \n",
    "- BatchNormalization[x], dropout[o] (Two_Layer = 0.2, 0.5)\n",
    "\n",
    "- optimizer='adam' ( Learning Rate = 'default')\n",
    "\n",
    "- Epoch = 10"
   ]
  },
  {
   "cell_type": "markdown",
   "metadata": {},
   "source": [
    "##### 模型程式碼"
   ]
  },
  {
   "cell_type": "code",
   "execution_count": null,
   "metadata": {},
   "outputs": [],
   "source": [
    "# model = models.Sequential()\n",
    "# model.add(layers.Conv2D(filters = 32,\n",
    "#                         kernel_size = (2, 2),\n",
    "#                         input_shape = (img_height, img_width, 3),\n",
    "#                         padding = 'same',\n",
    "#                         kernel_regularizer = l2(L2),\n",
    "#                         ))\n",
    "# model.add(Activation('relu'))\n",
    "# model.add(layers.MaxPooling2D(pool_size = 2))\n",
    "\n",
    "# model.add(Conv2D(filters = 64,\n",
    "#                  kernel_size=(2,2),\n",
    "#                  padding='same',\n",
    "#                  ))\n",
    "# model.add(Activation('relu'))\n",
    "# model.add(MaxPooling2D(pool_size = 2))\n",
    "\n",
    "# model.add(Conv2D(filters=128,\n",
    "#                  kernel_size=(2,2),\n",
    "#                  padding='same',\n",
    "#                 ))\n",
    "# model.add(Activation('relu'))\n",
    "# model.add(MaxPooling2D(pool_size=2))\n",
    "\n",
    "# model.add(Dropout(0.25, name = 'dropout_1'))\n",
    "\n",
    "# model.add(layers.Flatten())\n",
    "# model.add(layers.Dense(512, activation='relu'))\n",
    "# model.add(Dropout(0.5, name = 'dropout_2'))\n",
    "# model.add(layers.Dense(len(train_generator.class_indices), activation='softmax'))\n",
    "\n",
    "# model.summary()"
   ]
  },
  {
   "cell_type": "markdown",
   "metadata": {},
   "source": [
    "### No.4 調整 Filter 數目為原本模型一半 ( loss: 3.4314 accuracy: 0.2968 )"
   ]
  },
  {
   "cell_type": "markdown",
   "metadata": {},
   "source": [
    "##### 詳細模型架構\n",
    "- num_Layer = 3 (16, 32, 64)\n",
    "  \n",
    "- kernel_size = (2, 2)\n",
    "  \n",
    "- BatchNormalization[x], dropout[o] (Two_Layer = 0.2, 0.5)\n",
    "\n",
    "- optimizer='adam' ( Learning Rate = 'default')\n",
    "\n",
    "- Epoch = 10"
   ]
  },
  {
   "cell_type": "markdown",
   "metadata": {},
   "source": [
    "##### 模型程式碼"
   ]
  },
  {
   "cell_type": "code",
   "execution_count": null,
   "metadata": {},
   "outputs": [],
   "source": [
    "# model = models.Sequential()\n",
    "# model.add(layers.Conv2D(filters = 16,\n",
    "#                         kernel_size = (2, 2),\n",
    "#                         input_shape = (img_height, img_width, 3),\n",
    "#                         padding = 'same',\n",
    "#                         kernel_regularizer = l2(L2),\n",
    "#                         ))\n",
    "# model.add(Activation('relu'))\n",
    "# model.add(layers.MaxPooling2D(pool_size = 2))\n",
    "\n",
    "# model.add(Conv2D(filters = 32,\n",
    "#                  kernel_size=(2,2),\n",
    "#                  padding='same',\n",
    "#                  ))\n",
    "# model.add(Activation('relu'))\n",
    "# model.add(MaxPooling2D(pool_size = 2))\n",
    "\n",
    "# model.add(Conv2D(filters=64,\n",
    "#                  kernel_size=(2,2),\n",
    "#                  padding='same',\n",
    "#                 ))\n",
    "# model.add(Activation('relu'))\n",
    "# model.add(MaxPooling2D(pool_size=2))\n",
    "\n",
    "# model.add(Dropout(0.25, name = 'dropout_1'))\n",
    "\n",
    "# model.add(layers.Flatten())\n",
    "# model.add(layers.Dense(256, activation='relu'))\n",
    "# model.add(Dropout(0.5, name = 'dropout_2'))\n",
    "# model.add(layers.Dense(len(train_generator.class_indices), activation='softmax'))\n",
    "\n",
    "# model.summary()"
   ]
  },
  {
   "cell_type": "markdown",
   "metadata": {},
   "source": [
    "### No.5 調整 Adam 的設置 learning_rate=0.005 預設 ( loss: 4.1614 accuracy: 0.3017 kaggle: 0.28706 )"
   ]
  },
  {
   "cell_type": "markdown",
   "metadata": {},
   "source": [
    "##### 詳細模型架構\n",
    "- num_Layer = 3 (16, 32, 64)\n",
    "  \n",
    "- kernel_size = (2, 2)\n",
    "  \n",
    "- BatchNormalization[x], dropout[o] (Two_Layer = 0.25, 0.5)\n",
    "\n",
    "- optimizer='adam' ( Learning Rate = 0.005)\n",
    "\n",
    "- Epoch = 10"
   ]
  },
  {
   "cell_type": "markdown",
   "metadata": {},
   "source": [
    "##### 模型程式碼"
   ]
  },
  {
   "cell_type": "code",
   "execution_count": null,
   "metadata": {},
   "outputs": [],
   "source": [
    "# model = models.Sequential()\n",
    "# model.add(layers.Conv2D(filters = 16,\n",
    "#                         kernel_size = (2, 2),\n",
    "#                         input_shape = (img_height, img_width, 3),\n",
    "#                         padding = 'same',\n",
    "#                         kernel_regularizer = l2(L2),\n",
    "#                         ))\n",
    "# model.add(Activation('relu'))\n",
    "# model.add(layers.MaxPooling2D(pool_size = 2))\n",
    "\n",
    "# model.add(Conv2D(filters = 32,\n",
    "#                  kernel_size=(2,2),\n",
    "#                  padding='same',\n",
    "#                  ))\n",
    "# model.add(Activation('relu'))\n",
    "# model.add(MaxPooling2D(pool_size = 2))\n",
    "\n",
    "# model.add(Conv2D(filters=64,\n",
    "#                  kernel_size=(2,2),\n",
    "#                  padding='same',\n",
    "#                 ))\n",
    "# model.add(Activation('relu'))\n",
    "# model.add(MaxPooling2D(pool_size=2))\n",
    "\n",
    "# model.add(Dropout(0.25, name = 'dropout_1'))\n",
    "\n",
    "# model.add(layers.Flatten())\n",
    "# model.add(layers.Dense(256, activation='relu'))\n",
    "# model.add(Dropout(0.5, name = 'dropout_2'))\n",
    "# model.add(layers.Dense(len(train_generator.class_indices), activation='softmax'))\n",
    "\n",
    "# model.summary()"
   ]
  },
  {
   "cell_type": "code",
   "execution_count": null,
   "metadata": {},
   "outputs": [],
   "source": [
    "# opt = Adam(learning_rate=0.005)\n",
    "# model.compile(optimizer='adam', loss='categorical_crossentropy', metrics=['accuracy'])"
   ]
  },
  {
   "cell_type": "markdown",
   "metadata": {},
   "source": [
    "### No.6 調整 Dropout 均為 0.2 ( loss: 4.6227 accuracy: 0.2945 kaggle: 0.28642 )"
   ]
  },
  {
   "cell_type": "markdown",
   "metadata": {},
   "source": [
    "##### 詳細模型架構\n",
    "- num_Layer = 3 (16, 32, 64)\n",
    "  \n",
    "- kernel_size = (2, 2)\n",
    "  \n",
    "- BatchNormalization[x], dropout[o] (Two_Layer = 0.2, 0.2)\n",
    "\n",
    "- optimizer='adam' ( Learning Rate = 0.005)\n",
    "\n",
    "- Epoch = 10"
   ]
  },
  {
   "cell_type": "markdown",
   "metadata": {},
   "source": [
    "##### 模型程式碼"
   ]
  },
  {
   "cell_type": "code",
   "execution_count": null,
   "metadata": {},
   "outputs": [],
   "source": [
    "# model = models.Sequential()\n",
    "# model.add(layers.Conv2D(filters = 16,\n",
    "#                         kernel_size = (2, 2),\n",
    "#                         input_shape = (img_height, img_width, 3),\n",
    "#                         padding = 'same',\n",
    "#                         kernel_regularizer = l2(L2),\n",
    "#                         ))\n",
    "# # model.add(keras.layers.BatchNormalization(momentum=0.99,epsilon=0.001))\n",
    "# model.add(Activation('relu'))\n",
    "# model.add(layers.MaxPooling2D(pool_size = 2))\n",
    "\n",
    "# model.add(Conv2D(filters = 32,\n",
    "#                  kernel_size=(2,2),\n",
    "#                  padding='same',\n",
    "#                  ))\n",
    "# model.add(Activation('relu'))\n",
    "# model.add(MaxPooling2D(pool_size = 2))\n",
    "\n",
    "# model.add(Conv2D(filters=64,\n",
    "#                  kernel_size=(2,2),\n",
    "#                  padding='same',\n",
    "#                 ))\n",
    "# model.add(Activation('relu'))\n",
    "# model.add(MaxPooling2D(pool_size=2))\n",
    "\n",
    "# model.add(Dropout(0.2, name = 'dropout_1'))\n",
    "\n",
    "# model.add(layers.Flatten())\n",
    "# model.add(layers.Dense(256, activation='relu'))\n",
    "# model.add(Dropout(0.2, name = 'dropout_2'))\n",
    "# model.add(layers.Dense(len(train_generator.class_indices), activation='softmax'))\n",
    "\n",
    "# model.summary()"
   ]
  },
  {
   "cell_type": "code",
   "execution_count": null,
   "metadata": {},
   "outputs": [],
   "source": [
    "# opt = Adam(learning_rate=0.005)\n",
    "# model.compile(optimizer='adam', loss='categorical_crossentropy', metrics=['accuracy'])"
   ]
  },
  {
   "cell_type": "markdown",
   "metadata": {},
   "source": [
    "### No.7 每一層均使用 L2 正則化 0.005 (  loss: 3.9848 accuracy: 0.3208 kaggle: 0.31055 )"
   ]
  },
  {
   "cell_type": "markdown",
   "metadata": {},
   "source": [
    "##### 詳細模型架構\n",
    "- num_Layer = 3 (16, 32, 64), kernel_regularizer = L2 ( Every )\n",
    "  \n",
    "- kernel_size = (2, 2)\n",
    "  \n",
    "- BatchNormalization[x], dropout[o] (Two_Layer = 0.2, 0.2)\n",
    "\n",
    "- optimizer='adam' ( Learning Rate = 0.005)\n",
    "\n",
    "- Epoch = 10"
   ]
  },
  {
   "cell_type": "markdown",
   "metadata": {},
   "source": [
    "##### 模型程式碼"
   ]
  },
  {
   "cell_type": "code",
   "execution_count": null,
   "metadata": {},
   "outputs": [],
   "source": [
    "# model = models.Sequential()\n",
    "# model.add(layers.Conv2D(filters = 32,\n",
    "#                         kernel_size = (2, 2),\n",
    "#                         input_shape = (img_height, img_width, 3),\n",
    "#                         padding = 'same',\n",
    "#                         kernel_regularizer = l2(L2),\n",
    "#                         ))\n",
    "# # model.add(keras.layers.BatchNormalization(momentum=0.99,epsilon=0.001))\n",
    "# model.add(Activation('relu'))\n",
    "# model.add(layers.MaxPooling2D(pool_size = 2))\n",
    "\n",
    "# model.add(Conv2D(filters = 64,\n",
    "#                  kernel_size=(2,2),\n",
    "#                  padding='same',\n",
    "#                  kernel_regularizer = l2(L2),\n",
    "#                  ))\n",
    "# model.add(Activation('relu'))\n",
    "# model.add(MaxPooling2D(pool_size = 2))\n",
    "\n",
    "# model.add(Conv2D(filters = 128,\n",
    "#                  kernel_size=(2,2),\n",
    "#                  padding='same',\n",
    "#                  kernel_regularizer = l2(L2),\n",
    "#                 ))\n",
    "# model.add(Activation('relu'))\n",
    "# model.add(MaxPooling2D(pool_size=2))\n",
    "\n",
    "# model.add(Dropout(0.25 , name = 'dropout_1'))\n",
    "\n",
    "# model.add(layers.Flatten())\n",
    "# model.add(layers.Dense(512, activation='relu'))\n",
    "# model.add(Dropout(0.25, name = 'dropout_2'))\n",
    "# model.add(layers.Dense(len(train_generator.class_indices), activation='softmax'))\n",
    "\n",
    "# model.summary()"
   ]
  },
  {
   "cell_type": "markdown",
   "metadata": {},
   "source": [
    "### No.8 調整回原本 filter 數目 ( loss: 3.8246 accuracy: 0.3304 )"
   ]
  },
  {
   "cell_type": "markdown",
   "metadata": {},
   "source": [
    "##### 詳細模型架構\n",
    "- num_Layer = 3 (32, 64, 128), kernel_regularizer = L2 ( Every )\n",
    "  \n",
    "- kernel_size = (2, 2)\n",
    "  \n",
    "- BatchNormalization[x], dropout[o] (Two_Layer = 0.25, 0.25)\n",
    "\n",
    "- optimizer='adam' ( Learning Rate = 0.005)\n",
    "\n",
    "- Epoch = 10"
   ]
  },
  {
   "cell_type": "markdown",
   "metadata": {},
   "source": [
    "##### 模型程式碼"
   ]
  },
  {
   "cell_type": "code",
   "execution_count": null,
   "metadata": {},
   "outputs": [],
   "source": [
    "# model = models.Sequential()\n",
    "# model.add(layers.Conv2D(filters = 32,\n",
    "#                         kernel_size = (2, 2),\n",
    "#                         input_shape = (img_height, img_width, 3),\n",
    "#                         padding = 'same',\n",
    "#                         kernel_regularizer = l2(L2),\n",
    "#                         ))\n",
    "# # model.add(keras.layers.BatchNormalization(momentum=0.99,epsilon=0.001))\n",
    "# model.add(Activation('relu'))\n",
    "# model.add(layers.MaxPooling2D(pool_size = 2))\n",
    "\n",
    "# model.add(Conv2D(filters = 64,\n",
    "#                  kernel_size=(2,2),\n",
    "#                  padding='same',\n",
    "#                  kernel_regularizer = l2(L2),\n",
    "#                  ))\n",
    "# model.add(Activation('relu'))\n",
    "# model.add(MaxPooling2D(pool_size = 2))\n",
    "\n",
    "# model.add(Conv2D(filters = 128,\n",
    "#                  kernel_size=(2,2),\n",
    "#                  padding='same',\n",
    "#                  kernel_regularizer = l2(L2),\n",
    "#                 ))\n",
    "# model.add(Activation('relu'))\n",
    "# model.add(MaxPooling2D(pool_size=2))\n",
    "\n",
    "# model.add(Dropout(0.25 , name = 'dropout_1'))\n",
    "\n",
    "# model.add(layers.Flatten())\n",
    "# model.add(layers.Dense(512, activation='relu'))\n",
    "# model.add(Dropout(0.25, name = 'dropout_2'))\n",
    "# model.add(layers.Dense(len(train_generator.class_indices), activation='softmax'))\n",
    "\n",
    "# model.summary()"
   ]
  },
  {
   "cell_type": "markdown",
   "metadata": {},
   "source": [
    "### No.9 新增一層 Layer ( loss: 3.1881 - accuracy: 0.3504 )"
   ]
  },
  {
   "cell_type": "markdown",
   "metadata": {},
   "source": [
    "##### 詳細模型架構\n",
    "- num_Layer = 4 (32, 64, 128, 256), kernel_regularizer = L2 ( Every )\n",
    "  \n",
    "- kernel_size = (2, 2)\n",
    "  \n",
    "- BatchNormalization[x], dropout[o] (Two_Layer = 0.25, 0.25)\n",
    "\n",
    "- optimizer='adam' ( Learning Rate = 0.005)\n",
    "\n",
    "- Epoch = 10"
   ]
  },
  {
   "cell_type": "markdown",
   "metadata": {},
   "source": [
    "##### 模型程式碼"
   ]
  },
  {
   "cell_type": "code",
   "execution_count": null,
   "metadata": {},
   "outputs": [],
   "source": [
    "# model = models.Sequential()\n",
    "# model.add(layers.Conv2D(filters = 32,\n",
    "#                         kernel_size = (2, 2),\n",
    "#                         input_shape = (img_height, img_width, 3),\n",
    "#                         padding = 'same',\n",
    "#                         kernel_regularizer = l2(L2),\n",
    "#                         ))\n",
    "# # model.add(keras.layers.BatchNormalization(momentum=0.99,epsilon=0.001))\n",
    "# model.add(Activation('relu'))\n",
    "# model.add(layers.MaxPooling2D(pool_size = 2))\n",
    "\n",
    "# model.add(Conv2D(filters = 64,\n",
    "#                  kernel_size=(2,2),\n",
    "#                  padding='same',\n",
    "#                  kernel_regularizer = l2(L2),\n",
    "#                  ))\n",
    "# model.add(Activation('relu'))\n",
    "# model.add(MaxPooling2D(pool_size = 2))\n",
    "\n",
    "# model.add(Conv2D(filters = 128,\n",
    "#                  kernel_size=(2,2),\n",
    "#                  padding='same',\n",
    "#                  kernel_regularizer = l2(L2),\n",
    "#                 ))\n",
    "# model.add(Activation('relu'))\n",
    "# model.add(MaxPooling2D(pool_size=2))\n",
    "\n",
    "# model.add(Conv2D(filters = 256,\n",
    "#                  kernel_size=(2,2),\n",
    "#                  padding='same',\n",
    "#                  kernel_regularizer = l2(L2),\n",
    "#                 ))\n",
    "# model.add(Activation('relu'))\n",
    "# model.add(MaxPooling2D(pool_size=2))\n",
    "\n",
    "# model.add(Dropout(0.25 , name = 'dropout_1'))\n",
    "\n",
    "# model.add(layers.Flatten())\n",
    "# model.add(layers.Dense(512, activation='relu'))\n",
    "# model.add(Dropout(0.25, name = 'dropout_2'))\n",
    "# model.add(layers.Dense(len(train_generator.class_indices), activation='softmax'))\n",
    "\n",
    "# model.summary()"
   ]
  },
  {
   "cell_type": "markdown",
   "metadata": {},
   "source": [
    "### No.10 使用一層 Dropout 且設定 0.5 ( loss: 2.7622 accuracy: 0.3682 )"
   ]
  },
  {
   "cell_type": "markdown",
   "metadata": {},
   "source": [
    "##### 詳細模型架構\n",
    "- num_Layer = 4 (32, 64, 128, 256), kernel_regularizer = L2 ( Every )\n",
    "  \n",
    "- kernel_size = (2, 2)\n",
    "  \n",
    "- BatchNormalization[x], dropout[o] (Two_Layer = 0.25, 0.5)\n",
    "\n",
    "- optimizer='adam' ( Learning Rate = 0.005)\n",
    "\n",
    "- Epoch = 10"
   ]
  },
  {
   "cell_type": "markdown",
   "metadata": {},
   "source": [
    "##### 模型程式碼"
   ]
  },
  {
   "cell_type": "code",
   "execution_count": null,
   "metadata": {},
   "outputs": [],
   "source": [
    "# model = models.Sequential()\n",
    "# model.add(layers.Conv2D(filters = 32,\n",
    "#                         kernel_size = (2, 2),\n",
    "#                         input_shape = (img_height, img_width, 3),\n",
    "#                         padding = 'same',\n",
    "#                         kernel_regularizer = l2(L2),\n",
    "#                         ))\n",
    "# # model.add(BatchNormalization())\n",
    "# model.add(Activation('relu'))\n",
    "# model.add(layers.MaxPooling2D(pool_size = 2))\n",
    "\n",
    "# model.add(Conv2D(filters = 64,\n",
    "#                  kernel_size=(2,2),\n",
    "#                  padding='same',\n",
    "#                  kernel_regularizer = l2(L2),\n",
    "#                  ))\n",
    "# # model.add(BatchNormalization())\n",
    "# model.add(Activation('relu'))\n",
    "# model.add(MaxPooling2D(pool_size = 2))\n",
    "\n",
    "# model.add(Conv2D(filters = 128,\n",
    "#                  kernel_size=(2,2),\n",
    "#                  padding='same',\n",
    "#                  kernel_regularizer = l2(L2),\n",
    "#                 ))\n",
    "# # model.add(BatchNormalization())\n",
    "# model.add(Activation('relu'))\n",
    "# model.add(MaxPooling2D(pool_size=2))\n",
    "\n",
    "# model.add(Conv2D(filters = 256,\n",
    "#                  kernel_size=(2,2),\n",
    "#                  padding='same',\n",
    "#                  kernel_regularizer = l2(L2),\n",
    "#                 ))\n",
    "# # model.add(BatchNormalization())\n",
    "# model.add(Activation('relu'))\n",
    "# model.add(MaxPooling2D(pool_size=2))\n",
    "\n",
    "# # model.add(Dropout(0.25 , name = 'dropout_1'))\n",
    "\n",
    "# model.add(layers.Flatten())\n",
    "# model.add(layers.Dense(512, activation='relu'))\n",
    "# model.add(Dropout(0.5, name = 'dropout_2'))\n",
    "# model.add(layers.Dense(len(train_generator.class_indices), activation='softmax'))\n",
    "\n",
    "# model.summary()"
   ]
  },
  {
   "cell_type": "markdown",
   "metadata": {},
   "source": [
    "### No.11 使用兩倍的 fileter 數目 ( accuracy: 0.3425 loss: 3.2193 kaggle: 0.32727)"
   ]
  },
  {
   "cell_type": "markdown",
   "metadata": {},
   "source": [
    "##### 詳細模型架構\n",
    "- num_Layer = 4 (64, 128, 256, 512), kernel_regularizer = L2 ( Every )\n",
    "  \n",
    "- kernel_size = (2, 2)\n",
    "  \n",
    "- BatchNormalization[x], dropout[o] (One_Layer = , 0.5)\n",
    "\n",
    "- optimizer='adam' ( Learning Rate = 0.01)\n",
    "\n",
    "- Epoch = 10"
   ]
  },
  {
   "cell_type": "markdown",
   "metadata": {},
   "source": [
    "##### 模型程式碼"
   ]
  },
  {
   "cell_type": "code",
   "execution_count": 1,
   "metadata": {},
   "outputs": [],
   "source": [
    "# model = models.Sequential()\n",
    "# model.add(layers.Conv2D(filters = 64,\n",
    "#                         kernel_size = (2, 2),\n",
    "#                         input_shape = (img_height, img_width, 3),\n",
    "#                         padding = 'same',\n",
    "#                         kernel_regularizer = l2(L2),\n",
    "#                         ))\n",
    "# # model.add(BatchNormalization())\n",
    "# model.add(Activation('relu'))\n",
    "# model.add(layers.MaxPooling2D(pool_size = 2))\n",
    "# # model.add(Dropout(0.1 , name = 'dropout_1'))\n",
    "\n",
    "# model.add(Conv2D(filters = 128,\n",
    "#                  kernel_size=(2,2),\n",
    "#                  padding='same',\n",
    "#                  kernel_regularizer = l2(L2),\n",
    "#                  ))\n",
    "# # model.add(BatchNormalization())\n",
    "# model.add(Activation('relu'))\n",
    "# model.add(MaxPooling2D(pool_size = 2))\n",
    "# # model.add(Dropout(0.1 , name = 'dropout_2'))\n",
    "\n",
    "# model.add(Conv2D(filters = 256,\n",
    "#                  kernel_size=(2,2),\n",
    "#                  padding='same',\n",
    "#                  kernel_regularizer = l2(L2),\n",
    "#                 ))\n",
    "# # model.add(BatchNormalization())\n",
    "# model.add(Activation('relu'))\n",
    "# model.add(MaxPooling2D(pool_size=2))\n",
    "# # model.add(Dropout(0.1 , name = 'dropout_3'))\n",
    "\n",
    "# model.add(Conv2D(filters = 512,\n",
    "#                  kernel_size=(2,2),\n",
    "#                  padding='same',\n",
    "#                  kernel_regularizer = l2(L2),\n",
    "#                 ))\n",
    "# # model.add(BatchNormalization())\n",
    "# model.add(Activation('relu'))\n",
    "# model.add(MaxPooling2D(pool_size=2))\n",
    "\n",
    "# # model.add(Dropout(0.25 , name = 'dropout_1'))\n",
    "\n",
    "# model.add(layers.Flatten())\n",
    "# model.add(layers.Dense(512, activation='relu'))\n",
    "# model.add(Dropout(0.5, name = 'dropout_5'))\n",
    "# model.add(layers.Dense(len(train_generator.class_indices), activation='softmax'))\n",
    "\n",
    "# model.summary()"
   ]
  },
  {
   "cell_type": "markdown",
   "metadata": {},
   "source": [
    "### No.12 調整 Leraning Rate ( accuracy: 0.3083 loss: 2.8778 )"
   ]
  },
  {
   "cell_type": "markdown",
   "metadata": {},
   "source": [
    "##### 詳細模型架構\n",
    "- num_Layer = 4 (64, 128, 256, 512), kernel_regularizer = L2 ( Every )\n",
    "  \n",
    "- kernel_size = (2, 2)\n",
    "  \n",
    "- BatchNormalization[x], dropout[o] (One_Layer = , 0.5)\n",
    "\n",
    "- optimizer='adam' ( Learning Rate = 0.05)\n",
    "\n",
    "- Epoch = 10"
   ]
  },
  {
   "cell_type": "markdown",
   "metadata": {},
   "source": [
    "### No.13 使用 Warmup "
   ]
  },
  {
   "cell_type": "markdown",
   "metadata": {},
   "source": [
    "##### 詳細模型架構\n",
    "- num_Layer = 3 (32, 64, 128), kernel_regularizer = L2 ( Every )\n",
    "  \n",
    "- kernel_size = (2, 2)\n",
    "  \n",
    "- BatchNormalization[x], dropout[o] (One_Layer = , 0.5)\n",
    "\n",
    "- optimizer='adam' ( Learning Rate = 0.005)\n",
    "\n",
    "- Epoch = 10"
   ]
  },
  {
   "cell_type": "code",
   "execution_count": null,
   "metadata": {},
   "outputs": [],
   "source": [
    "# model = models.Sequential()\n",
    "# model.add(layers.Conv2D(filters = 32,\n",
    "#                         kernel_size = (2, 2),\n",
    "#                         input_shape = INPUT_SHAPE,\n",
    "#                         padding = 'same',\n",
    "#                         kernel_regularizer = l2(L2),\n",
    "#                         ))\n",
    "# # model.add(BatchNormalization())\n",
    "# model.add(Activation('relu'))\n",
    "# model.add(layers.MaxPooling2D(pool_size = 2))\n",
    "# # model.add(Dropout(0.5 , name = 'dropout_1'))\n",
    "\n",
    "# model.add(Conv2D(filters = 64,\n",
    "#                  kernel_size=(2,2),\n",
    "#                  padding='same',\n",
    "#                  kernel_regularizer = l2(L2),\n",
    "#                  ))\n",
    "# # model.add(BatchNormalization())\n",
    "# model.add(Activation('relu'))\n",
    "# model.add(MaxPooling2D(pool_size = 2))\n",
    "# # model.add(Dropout(0.5 , name = 'dropout_2'))\n",
    "\n",
    "# model.add(Conv2D(filters = 128,\n",
    "#                  kernel_size=(2,2),\n",
    "#                  padding='same',\n",
    "#                  kernel_regularizer = l2(L2),\n",
    "#                 ))\n",
    "# # model.add(BatchNormalization())\n",
    "# model.add(Activation('relu'))\n",
    "# model.add(MaxPooling2D(pool_size=2))\n",
    "# # model.add(Dropout(0.5 , name = 'dropout_3'))\n",
    "\n",
    "# # model.add(Conv2D(filters = 256,\n",
    "# #                  kernel_size=(2,2),\n",
    "# #                  padding='same',\n",
    "# #                  kernel_regularizer = l2(L2),\n",
    "# #                 ))\n",
    "# # model.add(BatchNormalization())\n",
    "# # model.add(Activation('relu'))\n",
    "# # model.add(MaxPooling2D(pool_size=2))\n",
    "\n",
    "# # model.add(Dropout(0.25 , name = 'dropout_1'))\n",
    "\n",
    "# model.add(layers.Flatten())\n",
    "# model.add(layers.Dense(512, activation='relu'))\n",
    "# model.add(Dropout(0.5, name = 'dropout_5'))\n",
    "# # model.add(BatchNormalization())\n",
    "# model.add(layers.Dense(len(train_generator.class_indices), activation='softmax'))\n",
    "\n",
    "# model.summary()"
   ]
  },
  {
   "cell_type": "markdown",
   "metadata": {},
   "source": [
    "### No.15 使用 sgd"
   ]
  },
  {
   "cell_type": "markdown",
   "metadata": {},
   "source": [
    "### No.16 層數對稱排列"
   ]
  },
  {
   "cell_type": "code",
   "execution_count": null,
   "metadata": {},
   "outputs": [],
   "source": [
    "# model.add(Conv2D(filters=32, kernel_size=3, strides=1, padding='same', activation='relu', input_shape=[150, 150, 3]))\n",
    "# model.add(MaxPooling2D(2))\n",
    "# model.add(Conv2D(filters=64, kernel_size=3, strides=1, padding='same', activation='relu'))\n",
    "# model.add(MaxPooling2D(2))\n",
    "# model.add(Conv2D(filters=128, kernel_size=3, strides=1, padding='same', activation='relu'))\n",
    "# model.add(MaxPooling2D(2))\n",
    "# model.add(Conv2D(filters=64, kernel_size=3, strides=1, padding='same', activation='relu'))\n",
    "# model.add(MaxPooling2D(2))\n",
    "# model.add(Conv2D(filters=32, kernel_size=3, strides=1, padding='same', activation='relu'))\n",
    "# model.add(MaxPooling2D(2))\n",
    "\n",
    "# # Flatten the feature map\n",
    "# model.add(Flatten())\n",
    "\n",
    "# # Add the fully connected layers\n",
    "# model.add(Dense(128, activation='relu'))\n",
    "# model.add(Dropout(0.25))\n",
    "# model.add(Dense(128, activation='relu'))\n",
    "# model.add(Dense(100, activation='softmax'))"
   ]
  },
  {
   "cell_type": "markdown",
   "metadata": {},
   "source": [
    "### No.17 使用 MobileNetV2 模型"
   ]
  },
  {
   "cell_type": "markdown",
   "metadata": {},
   "source": [
    "##### 詳細模型架構\n",
    "\n",
    "- optimizer='adam' ( Learning Rate = 0.05)\n",
    "\n",
    "- Epoch = 10"
   ]
  },
  {
   "cell_type": "code",
   "execution_count": null,
   "metadata": {},
   "outputs": [],
   "source": [
    "# from tensorflow.keras.applications.mobilenet_v2 import MobileNetV2\n",
    "\n",
    "# base = MobileNetV2(weights = 'imagenet', include_top = False, input_shape = INPUT_SHAPE)\n",
    "# tf.keras.backend.clear_session()\n",
    "    \n",
    "# for layer in base.layers:\n",
    "#     layer.trainable =  False\n",
    "\n",
    "# model = Sequential()\n",
    "# model.add(base)\n",
    "# model.add(GlobalAveragePooling2D())\n",
    "\n",
    "# model.add(Dense(256, activation='relu'))\n",
    "# model.add(Dropout(0.1))\n",
    "\n",
    "# model.add(Dense(256, activation='relu'))\n",
    "# model.add(Dropout(0.1))\n",
    "# model.add(Dense(len(train_generator.class_indices), activation='softmax'))\n",
    "# model.summary()"
   ]
  },
  {
   "cell_type": "code",
   "execution_count": null,
   "metadata": {},
   "outputs": [],
   "source": [
    "# lrs=get_lr_callback()\n",
    "# history = model.fit(train_generator,\n",
    "#                     validation_data=validation_generator,\n",
    "# #                     steps_per_epoch=train_generator.samples // train_generator.batch_size,\n",
    "# #                     validation_steps=validation_generator.samples // validation_generator.batch_size,\n",
    "#                     epochs=1, \n",
    "# #                     callbacks=[lrs],\n",
    "#                     verbose = 1)"
   ]
  },
  {
   "cell_type": "markdown",
   "metadata": {},
   "source": [
    "### No.18 使用 MobileNetV2 模型 with Warmup ( accuracy: 0.0675 - loss: 4.3848 )"
   ]
  },
  {
   "cell_type": "markdown",
   "metadata": {},
   "source": [
    "##### 詳細模型架構\n",
    "\n",
    "- optimizer='adam' ( Learning Rate = 0.05)\n",
    "\n",
    "- Epoch = 10"
   ]
  },
  {
   "cell_type": "code",
   "execution_count": null,
   "metadata": {},
   "outputs": [],
   "source": [
    "# from tensorflow.keras.applications.mobilenet_v2 import MobileNetV2\n",
    "\n",
    "# base = MobileNetV2(weights = 'imagenet', include_top = False, input_shape = INPUT_SHAPE)\n",
    "# tf.keras.backend.clear_session()\n",
    "    \n",
    "# for layer in base.layers:\n",
    "#     layer.trainable =  False\n",
    "\n",
    "# model = Sequential()\n",
    "# model.add(base)\n",
    "# model.add(GlobalAveragePooling2D())\n",
    "\n",
    "# model.add(Dense(256, activation='relu'))\n",
    "# model.add(Dropout(0.1))\n",
    "\n",
    "# model.add(Dense(256, activation='relu'))\n",
    "# model.add(Dropout(0.1))\n",
    "# model.add(Dense(len(train_generator.class_indices), activation='softmax'))\n",
    "# model.summary()"
   ]
  },
  {
   "cell_type": "code",
   "execution_count": null,
   "metadata": {},
   "outputs": [],
   "source": [
    "# inir_lr = 0.005\n",
    "# opt = Adam(learning_rate= inir_lr)\n",
    "# model.compile(loss='categorical_crossentropy', optimizer=opt, metrics=['accuracy'])"
   ]
  },
  {
   "cell_type": "code",
   "execution_count": null,
   "metadata": {},
   "outputs": [],
   "source": [
    "# lrs=get_lr_callback()\n",
    "# history = model.fit(train_generator,\n",
    "#                     validation_data=validation_generator,\n",
    "# #                     steps_per_epoch=train_generator.samples // train_generator.batch_size,\n",
    "# #                     validation_steps=validation_generator.samples // validation_generator.batch_size,\n",
    "#                     epochs=10, \n",
    "#                     callbacks=my_callbacks,\n",
    "#                     verbose = 1)"
   ]
  },
  {
   "cell_type": "markdown",
   "metadata": {},
   "source": [
    "### No.19 使用 EfficientNetB0 模型"
   ]
  }
 ],
 "metadata": {
  "kernelspec": {
   "display_name": "Python 3",
   "language": "python",
   "name": "python3"
  },
  "language_info": {
   "codemirror_mode": {
    "name": "ipython",
    "version": 3
   },
   "file_extension": ".py",
   "mimetype": "text/x-python",
   "name": "python",
   "nbconvert_exporter": "python",
   "pygments_lexer": "ipython3",
   "version": "3.11.5"
  }
 },
 "nbformat": 4,
 "nbformat_minor": 2
}
